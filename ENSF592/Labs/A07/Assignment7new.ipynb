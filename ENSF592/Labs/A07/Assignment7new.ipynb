{
 "cells": [
  {
   "cell_type": "markdown",
   "metadata": {},
   "source": [
    "#### <h1> <center> ENSF 592 Programming Fundamentals for Data Engineers </center></h1>\n",
    "<h2> <center> Assignment 7: Beautifulsoup and Pandas (5 points)</center></h2>\n",
    "<center>\n",
    "<div class=\"alert alert-block alert-info\">\n",
    "Due: Wed Nov 20 12am (midnight, Tue to Wed). To be submitted on D2L.\n",
    "</div></center>\n",
    "\n",
    "\n"
   ]
  },
  {
   "cell_type": "markdown",
   "metadata": {},
   "source": [
    "Edit this file and write your solutions to the problems in sections specified with `# Your solution goes here`. Test your code and when you are done, download this notebook as an `.ipynb` file and submit it to D2L. To get this file, in Jupyter notebook you can go to File -> Download as -> Notebook(.ipynb)"
   ]
  },
  {
   "cell_type": "markdown",
   "metadata": {},
   "source": [
    "# Crawl and Scrape \n",
    "\n",
    "Schulich wants to have an integrated dataset of all engineering professors in one place. So as a data engineer, you're asked to gather some information of engineering professors by crawling different faculty website. Then, scrape their information and load them to a pandas dataframe and eventually save it as a csv file. \n",
    "\n",
    "\n",
    "\n",
    "\n",
    "In the first step, you need to get the html text of the website using `requests` library, and then you must use `Beautifulsoup4` library and `lxml` parser to pars the html and extract the needed information.     "
   ]
  },
  {
   "cell_type": "markdown",
   "metadata": {},
   "source": [
    "## Section A.(2.5 pts)\n",
    "\n",
    "In the following, all engineering faculties' websites are listed in the URLs. First, for each faculty, get the html text of the webpage and scrape the information of all its professors to put them in a dataframe as presented below: \n",
    "\n",
    "\n"
   ]
  },
  {
   "cell_type": "markdown",
   "metadata": {},
   "source": [
    "### You're DataFrame will have the following columns: \n",
    "\n",
    "|firsname|lastname|title|faculty|email|homepage|\n",
    "|--------|--------|-----|--------|-----|--------|\n",
    "|        |        |      |     |      |        |"
   ]
  },
  {
   "cell_type": "markdown",
   "metadata": {},
   "source": [
    "<div class=\"alert alert-block alert-info\">\n",
    "<b>Tip:</b> Use `Inspect Element` of Chrome to see the mapping html tags to objects in a webpage<br>\n",
    "    <i>Tutorial Link</i>: https://www.youtube.com/watch?v=1l4xz1QQhew&t=3s\n",
    "</div>"
   ]
  },
  {
   "cell_type": "code",
   "execution_count": 5,
   "metadata": {
    "pycharm": {
     "is_executing": false
    }
   },
   "outputs": [],
   "source": [
    "from bs4 import BeautifulSoup\n",
    "import requests\n",
    "import pandas as pd\n",
    "import numpy as np\n",
    "import re\n",
    "\n",
    "import warnings\n",
    "warnings.filterwarnings(action=\"once\")"
   ]
  },
  {
   "cell_type": "code",
   "execution_count": 7,
   "metadata": {
    "scrolled": true,
    "pycharm": {
     "is_executing": false
    }
   },
   "outputs": [
    {
     "data": {
      "text/plain": "   firstname lastname title faculty email  \\\n0        NaN      NaN   NaN     NaN   NaN   \n1        NaN      NaN   NaN     NaN   NaN   \n2        NaN      NaN   NaN     NaN   NaN   \n3        NaN      NaN   NaN     NaN   NaN   \n4        NaN      NaN   NaN     NaN   NaN   \n5        NaN      NaN   NaN     NaN   NaN   \n6        NaN      NaN   NaN     NaN   NaN   \n7        NaN      NaN   NaN     NaN   NaN   \n8        NaN      NaN   NaN     NaN   NaN   \n9        NaN      NaN   NaN     NaN   NaN   \n10       NaN      NaN   NaN     NaN   NaN   \n11       NaN      NaN   NaN     NaN   NaN   \n12       NaN      NaN   NaN     NaN   NaN   \n13       NaN      NaN   NaN     NaN   NaN   \n14       NaN      NaN   NaN     NaN   NaN   \n15       NaN      NaN   NaN     NaN   NaN   \n16       NaN      NaN   NaN     NaN   NaN   \n17       NaN      NaN   NaN     NaN   NaN   \n18       NaN      NaN   NaN     NaN   NaN   \n19       NaN      NaN   NaN     NaN   NaN   \n20       NaN      NaN   NaN     NaN   NaN   \n21       NaN      NaN   NaN     NaN   NaN   \n22       NaN      NaN   NaN     NaN   NaN   \n23       NaN      NaN   NaN     NaN   NaN   \n24       NaN      NaN   NaN     NaN   NaN   \n25       NaN      NaN   NaN     NaN   NaN   \n26       NaN      NaN   NaN     NaN   NaN   \n27       NaN      NaN   NaN     NaN   NaN   \n28       NaN      NaN   NaN     NaN   NaN   \n29       NaN      NaN   NaN     NaN   NaN   \n30       NaN      NaN   NaN     NaN   NaN   \n31       NaN      NaN   NaN     NaN   NaN   \n32       NaN      NaN   NaN     NaN   NaN   \n33       NaN      NaN   NaN     NaN   NaN   \n34       NaN      NaN   NaN     NaN   NaN   \n35       NaN      NaN   NaN     NaN   NaN   \n36       NaN      NaN   NaN     NaN   NaN   \n37       NaN      NaN   NaN     NaN   NaN   \n38       NaN      NaN   NaN     NaN   NaN   \n39       NaN      NaN   NaN     NaN   NaN   \n40       NaN      NaN   NaN     NaN   NaN   \n41       NaN      NaN   NaN     NaN   NaN   \n42       NaN      NaN   NaN     NaN   NaN   \n\n                                             homepage  \n0   https://schulich.ucalgary.ca/contacts/norm-bar...  \n1   https://schulich.ucalgary.ca/contacts/laleh-be...  \n2   https://schulich.ucalgary.ca/contacts/leo-belo...  \n3   https://schulich.ucalgary.ca/contacts/laura-cu...  \n4   https://schulich.ucalgary.ca/contacts/colin-da...  \n5   https://schulich.ucalgary.ca/contacts/vassil-d...  \n6   https://schulich.ucalgary.ca/contacts/abraham-...  \n7   https://schulich.ucalgary.ca/contacts/behrouz-far  \n8    https://schulich.ucalgary.ca/contacts/elise-fear  \n9   https://schulich.ucalgary.ca/contacts/fadhel-g...  \n10   https://schulich.ucalgary.ca/contacts/anis-haque  \n11  https://schulich.ucalgary.ca/contacts/mohamed-...  \n12  https://schulich.ucalgary.ca/contacts/hadi-hem...  \n13   https://schulich.ucalgary.ca/contacts/yaoping-hu  \n14  https://schulich.ucalgary.ca/contacts/seyed-po...  \n15  https://schulich.ucalgary.ca/contacts/andy-knight  \n16  https://schulich.ucalgary.ca/contacts/diwakar-...  \n17  https://schulich.ucalgary.ca/contacts/henry-leung  \n18  https://schulich.ucalgary.ca/contacts/chris-ma...  \n19  https://schulich.ucalgary.ca/contacts/brent-ma...  \n20  https://schulich.ucalgary.ca/contacts/geoffrey...  \n21  https://schulich.ucalgary.ca/contacts/martin-p...  \n22  https://schulich.ucalgary.ca/contacts/mohammad...  \n23  https://schulich.ucalgary.ca/contacts/mahmood-...  \n24  https://schulich.ucalgary.ca/contacts/kartikey...  \n25  https://schulich.ucalgary.ca/contacts/john-nie...  \n26  https://schulich.ucalgary.ca/contacts/steve-no...  \n27   https://schulich.ucalgary.ca/contacts/ed-nowicki  \n28  https://schulich.ucalgary.ca/contacts/anders-n...  \n29  https://schulich.ucalgary.ca/contacts/michal-o...  \n30   https://schulich.ucalgary.ca/contacts/denis-onen  \n31  https://schulich.ucalgary.ca/contacts/majid-pa...  \n32  https://schulich.ucalgary.ca/contacts/mike-potter  \n33                                                NaN  \n34  https://schulich.ucalgary.ca/contacts/guenther...  \n35    https://schulich.ucalgary.ca/contacts/abu-sesay  \n36  https://schulich.ucalgary.ca/contacts/michael-...  \n37   https://schulich.ucalgary.ca/contacts/rushi-vyas  \n38  https://schulich.ucalgary.ca/contacts/yingxu-wang  \n39  https://schulich.ucalgary.ca/contacts/david-we...  \n40  https://schulich.ucalgary.ca/contacts/orly-yad...  \n41  https://schulich.ucalgary.ca/contacts/svetlana...  \n42  https://schulich.ucalgary.ca/contacts/hamidrez...  ",
      "text/html": "<div>\n<style scoped>\n    .dataframe tbody tr th:only-of-type {\n        vertical-align: middle;\n    }\n\n    .dataframe tbody tr th {\n        vertical-align: top;\n    }\n\n    .dataframe thead th {\n        text-align: right;\n    }\n</style>\n<table border=\"1\" class=\"dataframe\">\n  <thead>\n    <tr style=\"text-align: right;\">\n      <th></th>\n      <th>firstname</th>\n      <th>lastname</th>\n      <th>title</th>\n      <th>faculty</th>\n      <th>email</th>\n      <th>homepage</th>\n    </tr>\n  </thead>\n  <tbody>\n    <tr>\n      <td>0</td>\n      <td>NaN</td>\n      <td>NaN</td>\n      <td>NaN</td>\n      <td>NaN</td>\n      <td>NaN</td>\n      <td>https://schulich.ucalgary.ca/contacts/norm-bar...</td>\n    </tr>\n    <tr>\n      <td>1</td>\n      <td>NaN</td>\n      <td>NaN</td>\n      <td>NaN</td>\n      <td>NaN</td>\n      <td>NaN</td>\n      <td>https://schulich.ucalgary.ca/contacts/laleh-be...</td>\n    </tr>\n    <tr>\n      <td>2</td>\n      <td>NaN</td>\n      <td>NaN</td>\n      <td>NaN</td>\n      <td>NaN</td>\n      <td>NaN</td>\n      <td>https://schulich.ucalgary.ca/contacts/leo-belo...</td>\n    </tr>\n    <tr>\n      <td>3</td>\n      <td>NaN</td>\n      <td>NaN</td>\n      <td>NaN</td>\n      <td>NaN</td>\n      <td>NaN</td>\n      <td>https://schulich.ucalgary.ca/contacts/laura-cu...</td>\n    </tr>\n    <tr>\n      <td>4</td>\n      <td>NaN</td>\n      <td>NaN</td>\n      <td>NaN</td>\n      <td>NaN</td>\n      <td>NaN</td>\n      <td>https://schulich.ucalgary.ca/contacts/colin-da...</td>\n    </tr>\n    <tr>\n      <td>5</td>\n      <td>NaN</td>\n      <td>NaN</td>\n      <td>NaN</td>\n      <td>NaN</td>\n      <td>NaN</td>\n      <td>https://schulich.ucalgary.ca/contacts/vassil-d...</td>\n    </tr>\n    <tr>\n      <td>6</td>\n      <td>NaN</td>\n      <td>NaN</td>\n      <td>NaN</td>\n      <td>NaN</td>\n      <td>NaN</td>\n      <td>https://schulich.ucalgary.ca/contacts/abraham-...</td>\n    </tr>\n    <tr>\n      <td>7</td>\n      <td>NaN</td>\n      <td>NaN</td>\n      <td>NaN</td>\n      <td>NaN</td>\n      <td>NaN</td>\n      <td>https://schulich.ucalgary.ca/contacts/behrouz-far</td>\n    </tr>\n    <tr>\n      <td>8</td>\n      <td>NaN</td>\n      <td>NaN</td>\n      <td>NaN</td>\n      <td>NaN</td>\n      <td>NaN</td>\n      <td>https://schulich.ucalgary.ca/contacts/elise-fear</td>\n    </tr>\n    <tr>\n      <td>9</td>\n      <td>NaN</td>\n      <td>NaN</td>\n      <td>NaN</td>\n      <td>NaN</td>\n      <td>NaN</td>\n      <td>https://schulich.ucalgary.ca/contacts/fadhel-g...</td>\n    </tr>\n    <tr>\n      <td>10</td>\n      <td>NaN</td>\n      <td>NaN</td>\n      <td>NaN</td>\n      <td>NaN</td>\n      <td>NaN</td>\n      <td>https://schulich.ucalgary.ca/contacts/anis-haque</td>\n    </tr>\n    <tr>\n      <td>11</td>\n      <td>NaN</td>\n      <td>NaN</td>\n      <td>NaN</td>\n      <td>NaN</td>\n      <td>NaN</td>\n      <td>https://schulich.ucalgary.ca/contacts/mohamed-...</td>\n    </tr>\n    <tr>\n      <td>12</td>\n      <td>NaN</td>\n      <td>NaN</td>\n      <td>NaN</td>\n      <td>NaN</td>\n      <td>NaN</td>\n      <td>https://schulich.ucalgary.ca/contacts/hadi-hem...</td>\n    </tr>\n    <tr>\n      <td>13</td>\n      <td>NaN</td>\n      <td>NaN</td>\n      <td>NaN</td>\n      <td>NaN</td>\n      <td>NaN</td>\n      <td>https://schulich.ucalgary.ca/contacts/yaoping-hu</td>\n    </tr>\n    <tr>\n      <td>14</td>\n      <td>NaN</td>\n      <td>NaN</td>\n      <td>NaN</td>\n      <td>NaN</td>\n      <td>NaN</td>\n      <td>https://schulich.ucalgary.ca/contacts/seyed-po...</td>\n    </tr>\n    <tr>\n      <td>15</td>\n      <td>NaN</td>\n      <td>NaN</td>\n      <td>NaN</td>\n      <td>NaN</td>\n      <td>NaN</td>\n      <td>https://schulich.ucalgary.ca/contacts/andy-knight</td>\n    </tr>\n    <tr>\n      <td>16</td>\n      <td>NaN</td>\n      <td>NaN</td>\n      <td>NaN</td>\n      <td>NaN</td>\n      <td>NaN</td>\n      <td>https://schulich.ucalgary.ca/contacts/diwakar-...</td>\n    </tr>\n    <tr>\n      <td>17</td>\n      <td>NaN</td>\n      <td>NaN</td>\n      <td>NaN</td>\n      <td>NaN</td>\n      <td>NaN</td>\n      <td>https://schulich.ucalgary.ca/contacts/henry-leung</td>\n    </tr>\n    <tr>\n      <td>18</td>\n      <td>NaN</td>\n      <td>NaN</td>\n      <td>NaN</td>\n      <td>NaN</td>\n      <td>NaN</td>\n      <td>https://schulich.ucalgary.ca/contacts/chris-ma...</td>\n    </tr>\n    <tr>\n      <td>19</td>\n      <td>NaN</td>\n      <td>NaN</td>\n      <td>NaN</td>\n      <td>NaN</td>\n      <td>NaN</td>\n      <td>https://schulich.ucalgary.ca/contacts/brent-ma...</td>\n    </tr>\n    <tr>\n      <td>20</td>\n      <td>NaN</td>\n      <td>NaN</td>\n      <td>NaN</td>\n      <td>NaN</td>\n      <td>NaN</td>\n      <td>https://schulich.ucalgary.ca/contacts/geoffrey...</td>\n    </tr>\n    <tr>\n      <td>21</td>\n      <td>NaN</td>\n      <td>NaN</td>\n      <td>NaN</td>\n      <td>NaN</td>\n      <td>NaN</td>\n      <td>https://schulich.ucalgary.ca/contacts/martin-p...</td>\n    </tr>\n    <tr>\n      <td>22</td>\n      <td>NaN</td>\n      <td>NaN</td>\n      <td>NaN</td>\n      <td>NaN</td>\n      <td>NaN</td>\n      <td>https://schulich.ucalgary.ca/contacts/mohammad...</td>\n    </tr>\n    <tr>\n      <td>23</td>\n      <td>NaN</td>\n      <td>NaN</td>\n      <td>NaN</td>\n      <td>NaN</td>\n      <td>NaN</td>\n      <td>https://schulich.ucalgary.ca/contacts/mahmood-...</td>\n    </tr>\n    <tr>\n      <td>24</td>\n      <td>NaN</td>\n      <td>NaN</td>\n      <td>NaN</td>\n      <td>NaN</td>\n      <td>NaN</td>\n      <td>https://schulich.ucalgary.ca/contacts/kartikey...</td>\n    </tr>\n    <tr>\n      <td>25</td>\n      <td>NaN</td>\n      <td>NaN</td>\n      <td>NaN</td>\n      <td>NaN</td>\n      <td>NaN</td>\n      <td>https://schulich.ucalgary.ca/contacts/john-nie...</td>\n    </tr>\n    <tr>\n      <td>26</td>\n      <td>NaN</td>\n      <td>NaN</td>\n      <td>NaN</td>\n      <td>NaN</td>\n      <td>NaN</td>\n      <td>https://schulich.ucalgary.ca/contacts/steve-no...</td>\n    </tr>\n    <tr>\n      <td>27</td>\n      <td>NaN</td>\n      <td>NaN</td>\n      <td>NaN</td>\n      <td>NaN</td>\n      <td>NaN</td>\n      <td>https://schulich.ucalgary.ca/contacts/ed-nowicki</td>\n    </tr>\n    <tr>\n      <td>28</td>\n      <td>NaN</td>\n      <td>NaN</td>\n      <td>NaN</td>\n      <td>NaN</td>\n      <td>NaN</td>\n      <td>https://schulich.ucalgary.ca/contacts/anders-n...</td>\n    </tr>\n    <tr>\n      <td>29</td>\n      <td>NaN</td>\n      <td>NaN</td>\n      <td>NaN</td>\n      <td>NaN</td>\n      <td>NaN</td>\n      <td>https://schulich.ucalgary.ca/contacts/michal-o...</td>\n    </tr>\n    <tr>\n      <td>30</td>\n      <td>NaN</td>\n      <td>NaN</td>\n      <td>NaN</td>\n      <td>NaN</td>\n      <td>NaN</td>\n      <td>https://schulich.ucalgary.ca/contacts/denis-onen</td>\n    </tr>\n    <tr>\n      <td>31</td>\n      <td>NaN</td>\n      <td>NaN</td>\n      <td>NaN</td>\n      <td>NaN</td>\n      <td>NaN</td>\n      <td>https://schulich.ucalgary.ca/contacts/majid-pa...</td>\n    </tr>\n    <tr>\n      <td>32</td>\n      <td>NaN</td>\n      <td>NaN</td>\n      <td>NaN</td>\n      <td>NaN</td>\n      <td>NaN</td>\n      <td>https://schulich.ucalgary.ca/contacts/mike-potter</td>\n    </tr>\n    <tr>\n      <td>33</td>\n      <td>NaN</td>\n      <td>NaN</td>\n      <td>NaN</td>\n      <td>NaN</td>\n      <td>NaN</td>\n      <td>NaN</td>\n    </tr>\n    <tr>\n      <td>34</td>\n      <td>NaN</td>\n      <td>NaN</td>\n      <td>NaN</td>\n      <td>NaN</td>\n      <td>NaN</td>\n      <td>https://schulich.ucalgary.ca/contacts/guenther...</td>\n    </tr>\n    <tr>\n      <td>35</td>\n      <td>NaN</td>\n      <td>NaN</td>\n      <td>NaN</td>\n      <td>NaN</td>\n      <td>NaN</td>\n      <td>https://schulich.ucalgary.ca/contacts/abu-sesay</td>\n    </tr>\n    <tr>\n      <td>36</td>\n      <td>NaN</td>\n      <td>NaN</td>\n      <td>NaN</td>\n      <td>NaN</td>\n      <td>NaN</td>\n      <td>https://schulich.ucalgary.ca/contacts/michael-...</td>\n    </tr>\n    <tr>\n      <td>37</td>\n      <td>NaN</td>\n      <td>NaN</td>\n      <td>NaN</td>\n      <td>NaN</td>\n      <td>NaN</td>\n      <td>https://schulich.ucalgary.ca/contacts/rushi-vyas</td>\n    </tr>\n    <tr>\n      <td>38</td>\n      <td>NaN</td>\n      <td>NaN</td>\n      <td>NaN</td>\n      <td>NaN</td>\n      <td>NaN</td>\n      <td>https://schulich.ucalgary.ca/contacts/yingxu-wang</td>\n    </tr>\n    <tr>\n      <td>39</td>\n      <td>NaN</td>\n      <td>NaN</td>\n      <td>NaN</td>\n      <td>NaN</td>\n      <td>NaN</td>\n      <td>https://schulich.ucalgary.ca/contacts/david-we...</td>\n    </tr>\n    <tr>\n      <td>40</td>\n      <td>NaN</td>\n      <td>NaN</td>\n      <td>NaN</td>\n      <td>NaN</td>\n      <td>NaN</td>\n      <td>https://schulich.ucalgary.ca/contacts/orly-yad...</td>\n    </tr>\n    <tr>\n      <td>41</td>\n      <td>NaN</td>\n      <td>NaN</td>\n      <td>NaN</td>\n      <td>NaN</td>\n      <td>NaN</td>\n      <td>https://schulich.ucalgary.ca/contacts/svetlana...</td>\n    </tr>\n    <tr>\n      <td>42</td>\n      <td>NaN</td>\n      <td>NaN</td>\n      <td>NaN</td>\n      <td>NaN</td>\n      <td>NaN</td>\n      <td>https://schulich.ucalgary.ca/contacts/hamidrez...</td>\n    </tr>\n  </tbody>\n</table>\n</div>"
     },
     "metadata": {},
     "output_type": "execute_result",
     "execution_count": 7
    }
   ],
   "source": [
    "all_urls=[\"https://schulich.ucalgary.ca/departments/electrical-and-computer-engineering/faculty\",\n",
    "\"https://schulich.ucalgary.ca/departments/chemical-and-petroleum-engineering/faculty\",\n",
    "\"https://schulich.ucalgary.ca/departments/civil-engineering/faculty\",\n",
    "\"https://schulich.ucalgary.ca/departments/mechanical-and-manufacturing-engineering/faculty\",\n",
    "\"https://schulich.ucalgary.ca/geomatics/faculty-members\"]\n",
    "\n",
    "df_professors=pd.DataFrame(columns = [\"firstname\", \"lastname\", \"title\", \"faculty\", \"email\",\"homepage\"])\n",
    "\n",
    "# Your solution goes here\n",
    "\n",
    "\n",
    "html=requests.get(all_urls[0], verify=False).text\n",
    "soup = BeautifulSoup(html, 'lxml')\n",
    "\n",
    "\n",
    "faculty = np.nan\n",
    "\n",
    "\n",
    "# all profs are children of this special div, wrapped in a p\n",
    "for row in soup.find('div',class_=\"col-sm-12 two-col\").find_all('p'):\n",
    "    firstname=lastname=title=email=homepage=np.nan\n",
    "\n",
    "    \n",
    "\n",
    "    # profile websites have a href that contains /contacts\n",
    "    link=row.find(href=re.compile(\"/contacts\"))\n",
    "    if link is not None:\n",
    "#         print(link['href'])\n",
    "        homepage=\"https://schulich.ucalgary.ca\"+link['href']  \n",
    "\n",
    "    # add a row\n",
    "    df_professors=df_professors.append({'firstname': firstname,'lastname': lastname,'title': title,'faculty': faculty,'email': email,'homepage':homepage}, ignore_index=True)\n",
    "\n",
    "\n",
    "df_professors"
   ]
  },
  {
   "cell_type": "markdown",
   "metadata": {},
   "source": [
    "## Section B (2.5 pts)\n",
    "\n",
    "### part I (2 pts)\n",
    "In this part, iterate on professors dataframe and request to get their homepage html, and find the phone number and office (building and room) of each professor and add it to your previous dataframe as a new column.  Finally, save the dataframe as a csv file. \n",
    "\n",
    "\n",
    "<div class=\"alert alert-block alert-danger\">\n",
    "<b>Note:</b> <br>\n",
    "Put `nan` for professors who do not have phone and office numbers on their webpage\n",
    "</div>\n",
    "\n"
   ]
  },
  {
   "cell_type": "code",
   "execution_count": 3,
   "metadata": {
    "scrolled": false,
    "pycharm": {
     "is_executing": false
    }
   },
   "outputs": [],
   "source": [
    "# Your solution goes here\n",
    "  "
   ]
  },
  {
   "cell_type": "markdown",
   "metadata": {},
   "source": [
    "### part II (0.5 pt)\n",
    "\n",
    "In this part, you need to generate the following reports:\n",
    "  \n",
    "  \n",
    "* Number of Full professors\n",
    "* Number of Associate professors\n",
    "* Number of Assistant professors\n",
    "* Number of Instructor professors (Instructor, Senior Instructor, Teaching Professors)"
   ]
  },
  {
   "cell_type": "code",
   "execution_count": 4,
   "metadata": {
    "pycharm": {
     "is_executing": false
    }
   },
   "outputs": [],
   "source": [
    "# Your solution goes here"
   ]
  }
 ],
 "metadata": {
  "kernelspec": {
   "display_name": "Python 3",
   "language": "python",
   "name": "python3"
  },
  "language_info": {
   "codemirror_mode": {
    "name": "ipython",
    "version": 3
   },
   "file_extension": ".py",
   "mimetype": "text/x-python",
   "name": "python",
   "nbconvert_exporter": "python",
   "pygments_lexer": "ipython3",
   "version": "3.7.4"
  }
 },
 "nbformat": 4,
 "nbformat_minor": 2
}