{
 "cells": [
  {
   "cell_type": "markdown",
   "metadata": {},
   "source": [
    "## <center> ENSF 592 Programming Fundamentals for Data Engineers </center>\n",
    "<h2> <center> Assignment 7 Bonus: Web data mining (4 points)</center></h2>\n",
    "<center>\n",
    "<div class=\"alert alert-block alert-info\">\n",
    "Due: Wed Nov 20 12am (midnight, Tue to Wed). To be submitted on D2L.\n",
    "</div></center>\n",
    "\n",
    "\n"
   ]
  },
  {
   "cell_type": "markdown",
   "metadata": {},
   "source": [
    "Edit this file and write your solutions to the problems in sections specified with `# Your solution goes here`. Test your code and when you are done, download this notebook as an `.ipynb` file and submit it to D2L. To get this file, in Jupyter notebook you can go to File -> Download as -> Notebook(.ipynb)"
   ]
  },
  {
   "cell_type": "markdown",
   "metadata": {},
   "source": [
    "## Part 1: Billboard top charts (2 pts)\n",
    "\n",
    "Complete the functions below to get the best selling albums of a certain week from the [billboard 200](https://www.billboard.com/charts/billboard-200) page. Create a pandas dataframe to store the information. Your dataframe will have (at least) three columns:\n",
    "\n",
    "* title (the album name)\n",
    "* artist\n",
    "* rank\n",
    "\n",
    "Feel free to extract more information (like the number of weeks that it has been on the chart, a url to the album cover art, ...) if available and you're interested.\n",
    "\n"
   ]
  },
  {
   "cell_type": "code",
   "execution_count": 1,
   "metadata": {
    "pycharm": {
     "is_executing": false
    }
   },
   "outputs": [
    {
     "name": "stderr",
     "text": [
      "/home/bryce/anaconda3/lib/python3.7/site-packages/urllib3/connectionpool.py:847: InsecureRequestWarning: Unverified HTTPS request is being made. Adding certificate verification is strongly advised. See: https://urllib3.readthedocs.io/en/latest/advanced-usage.html#ssl-warnings\n  InsecureRequestWarning)\n"
     ],
     "output_type": "stream"
    },
    {
     "data": {
      "text/plain": "                                               title  \\\n0                                         Millennium   \n1                                       Ricky Martin   \n2                              ...Baby One More Time   \n3                                            Fanmail   \n4  Star Wars Episode I: The Phantom Menace (Sound...   \n\n                            artist_name  rank  \n0                       Backstreet Boys     1  \n1                          Ricky Martin     2  \n2                        Britney Spears     3  \n3                                   TLC     4  \n4  London Symphony Orchestra (Williams)     5  ",
      "text/html": "<div>\n<style scoped>\n    .dataframe tbody tr th:only-of-type {\n        vertical-align: middle;\n    }\n\n    .dataframe tbody tr th {\n        vertical-align: top;\n    }\n\n    .dataframe thead th {\n        text-align: right;\n    }\n</style>\n<table border=\"1\" class=\"dataframe\">\n  <thead>\n    <tr style=\"text-align: right;\">\n      <th></th>\n      <th>title</th>\n      <th>artist_name</th>\n      <th>rank</th>\n    </tr>\n  </thead>\n  <tbody>\n    <tr>\n      <td>0</td>\n      <td>Millennium</td>\n      <td>Backstreet Boys</td>\n      <td>1</td>\n    </tr>\n    <tr>\n      <td>1</td>\n      <td>Ricky Martin</td>\n      <td>Ricky Martin</td>\n      <td>2</td>\n    </tr>\n    <tr>\n      <td>2</td>\n      <td>...Baby One More Time</td>\n      <td>Britney Spears</td>\n      <td>3</td>\n    </tr>\n    <tr>\n      <td>3</td>\n      <td>Fanmail</td>\n      <td>TLC</td>\n      <td>4</td>\n    </tr>\n    <tr>\n      <td>4</td>\n      <td>Star Wars Episode I: The Phantom Menace (Sound...</td>\n      <td>London Symphony Orchestra (Williams)</td>\n      <td>5</td>\n    </tr>\n  </tbody>\n</table>\n</div>"
     },
     "metadata": {},
     "output_type": "execute_result",
     "execution_count": 1
    }
   ],
   "source": [
    "from bs4 import BeautifulSoup\n",
    "import requests\n",
    "import numpy as np\n",
    "import pandas as pd\n",
    "import re\n",
    "\n",
    "def get_billboard_top_albums_dataframe(date: str='2001-06-02', count: int=5) -> pd.DataFrame:\n",
    "    # Your solution goes here\n",
    "    # Feel free to add auxilary functions, more imports, etc \n",
    "    \n",
    "    req = requests.get('https://www.billboard.com/charts/billboard-200/'+date, verify=False).text\n",
    "\n",
    "    soup = BeautifulSoup(req, 'lxml')\n",
    "    \n",
    "    charts = pd.read_json( soup.find('div', id=\"charts\")['data-charts'])\n",
    "    return charts[['title','artist_name','rank']].head(count)\n",
    "\n",
    "    \n",
    "\n",
    "top_5_albums = get_billboard_top_albums_dataframe(count=5, date='1999-06-02')\n",
    "top_5_albums"
   ]
  },
  {
   "cell_type": "markdown",
   "metadata": {},
   "source": [
    "## Music brainz API (2 pts)\n",
    "Here's a code that connects to the music brainz music database API and searches for the information about the given album. "
   ]
  },
  {
   "cell_type": "code",
   "execution_count": 2,
   "metadata": {
    "pycharm": {
     "is_executing": false
    }
   },
   "outputs": [],
   "source": [
    "import itertools\n",
    "import unicodedata\n",
    "import re\n",
    "\n",
    "_remove_accents = lambda input_str: ''.join((c for c in unicodedata.normalize('NFKD', input_str) if not unicodedata.combining(c)))\n",
    "_clean_string = lambda s: set(re.sub(r'[^\\w\\s]', '', _remove_accents(s)).lower().split())\n",
    "_jaccard = lambda set1, set2: float(len(set1 & set2)) / float(len(set1 | set2))\n",
    "\n",
    "\n",
    "def search(entity_type:str, query: str):\n",
    "    return requests.get(\n",
    "        'http://musicbrainz.org/ws/2/{entity}/'.format(entity=entity_type),\n",
    "        params={\n",
    "            'fmt': 'json',\n",
    "            'query': query\n",
    "        }\n",
    "    ).json()\n",
    "\n",
    "\n",
    "def get_release_url(artist: str, title: str):\n",
    "    type_ = 'release'\n",
    "    search_results = search(type_, '%s AND artist:%s' % (title, artist))\n",
    "    \n",
    "    artist = _clean_string(artist)\n",
    "    title = _clean_string(title)\n",
    "\n",
    "#     print(\"title = \" + str(title) +' artist=' + str(artist))\n",
    "    for item in search_results.get(type_+'s', []):\n",
    "        names = list()\n",
    "        for artists in item['artist-credit']:\n",
    "            if 'artist' in artists:\n",
    "                names.append(_clean_string(artists['artist']['name']))\n",
    "                for alias in artists['artist'].get('aliases', {}):\n",
    "                    names.append(_clean_string(alias.get('name', '')))\n",
    "#         print('  title=' + str(_clean_string(item['title'])) + ' names=' + ', '.join(itertools.chain(*names)))\n",
    "\n",
    "        if _jaccard(_clean_string(item['title']), title) > 0.5 and \\\n",
    "            (any(_jaccard(artist, name) > 0.3 for name in names) or len(names) == 0):\n",
    "            return 'http://musicbrainz.org/ws/2/{type}/{id}?inc=artist-credits+labels+discids+recordings&fmt=json'.format(id=item['id'], type=type_)\n",
    "    \n",
    "    return None\n",
    "\n"
   ]
  },
  {
   "cell_type": "markdown",
   "metadata": {},
   "source": [
    "Using the above function, find the track count and disk count of each album (if available) and store it in the pandas data frame. Read the implementation of the `search` function above and see how the `fmt` parameter is passed to the web service in order to make it return the results in `json` format.\n",
    "\n",
    "The url provided by the `get_release_url` function above, is missing the `inc` parameter. The  `inc` parameter, similar to `fmt`, it can be passed to the server to ask for extra data. Consult the [API docs](https://musicbrainz.org/doc/Development/JSON_Web_Service) to determine the value for `inc` to obtain disk counts of the album (release). The goal is to write another function that takes the url returned by `get_release_url` and supplying the correct values for `fmt` and `inc` in the `requests.get()` `params` argument similar to `search()`\n",
    "\n",
    "There is other information freely available on the music brainz database. Feel free to explore and scrape more. You can browse the [API docs](https://musicbrainz.org/doc/Development/JSON_Web_Service) for more information. "
   ]
  },
  {
   "cell_type": "code",
   "execution_count": 29,
   "metadata": {
    "collapsed": true,
    "pycharm": {
     "is_executing": false
    }
   },
   "outputs": [
    {
     "name": "stderr",
     "text": [
      "/home/bryce/anaconda3/lib/python3.7/site-packages/urllib3/connectionpool.py:847: InsecureRequestWarning: Unverified HTTPS request is being made. Adding certificate verification is strongly advised. See: https://urllib3.readthedocs.io/en/latest/advanced-usage.html#ssl-warnings\n  InsecureRequestWarning)\n",
      "/home/bryce/anaconda3/lib/python3.7/site-packages/ipykernel_launcher.py:6: FutureWarning: \n.ix is deprecated. Please use\n.loc for label based indexing or\n.iloc for positional indexing\n\nSee the documentation here:\nhttp://pandas.pydata.org/pandas-docs/stable/user_guide/indexing.html#ix-indexer-is-deprecated\n  \n/home/bryce/anaconda3/lib/python3.7/site-packages/ipykernel_launcher.py:7: FutureWarning: \n.ix is deprecated. Please use\n.loc for label based indexing or\n.iloc for positional indexing\n\nSee the documentation here:\nhttp://pandas.pydata.org/pandas-docs/stable/user_guide/indexing.html#ix-indexer-is-deprecated\n  import sys\n"
     ],
     "output_type": "stream"
    },
    {
     "data": {
      "text/plain": "                    title                  artist_name  rank  track-count  \\\n0               Lateralus                         Tool     1         13.0   \n1  Miss E ...So Addictive  Missy \"Misdemeanor\" Elliott     2         30.0   \n2                Survivor              Destiny's Child     3         19.0   \n3                  Weezer                       Weezer     4         10.0   \n4             All For You                        Janet     5          3.0   \n\n   disc-count  \n0         8.0  \n1         1.0  \n2         1.0  \n3         8.0  \n4         2.0  ",
      "text/html": "<div>\n<style scoped>\n    .dataframe tbody tr th:only-of-type {\n        vertical-align: middle;\n    }\n\n    .dataframe tbody tr th {\n        vertical-align: top;\n    }\n\n    .dataframe thead th {\n        text-align: right;\n    }\n</style>\n<table border=\"1\" class=\"dataframe\">\n  <thead>\n    <tr style=\"text-align: right;\">\n      <th></th>\n      <th>title</th>\n      <th>artist_name</th>\n      <th>rank</th>\n      <th>track-count</th>\n      <th>disc-count</th>\n    </tr>\n  </thead>\n  <tbody>\n    <tr>\n      <td>0</td>\n      <td>Lateralus</td>\n      <td>Tool</td>\n      <td>1</td>\n      <td>13.0</td>\n      <td>8.0</td>\n    </tr>\n    <tr>\n      <td>1</td>\n      <td>Miss E ...So Addictive</td>\n      <td>Missy \"Misdemeanor\" Elliott</td>\n      <td>2</td>\n      <td>30.0</td>\n      <td>1.0</td>\n    </tr>\n    <tr>\n      <td>2</td>\n      <td>Survivor</td>\n      <td>Destiny's Child</td>\n      <td>3</td>\n      <td>19.0</td>\n      <td>1.0</td>\n    </tr>\n    <tr>\n      <td>3</td>\n      <td>Weezer</td>\n      <td>Weezer</td>\n      <td>4</td>\n      <td>10.0</td>\n      <td>8.0</td>\n    </tr>\n    <tr>\n      <td>4</td>\n      <td>All For You</td>\n      <td>Janet</td>\n      <td>5</td>\n      <td>3.0</td>\n      <td>2.0</td>\n    </tr>\n  </tbody>\n</table>\n</div>"
     },
     "metadata": {},
     "output_type": "execute_result",
     "execution_count": 29
    }
   ],
   "source": [
    "# Your solution goes here\n",
    "top_5_albums = get_billboard_top_albums_dataframe()\n",
    "\n",
    "for i in range(top_5_albums.shape[0]):\n",
    "    res = requests.get(get_release_url(top_5_albums.iloc[i]['artist_name'], top_5_albums.iloc[i]['title']),verify=False).json()\n",
    "    top_5_albums.ix[i, 'track-count'] = res[\"media\"][0]['track-count']\n",
    "    top_5_albums.ix[i, 'disc-count'] = len(res[\"media\"][0][\"discs\"])\n",
    "top_5_albums"
   ]
  },
  {
   "cell_type": "code",
   "execution_count": null,
   "outputs": [],
   "source": [
    "\n"
   ],
   "metadata": {
    "collapsed": false,
    "pycharm": {
     "name": "#%%\n",
     "is_executing": false
    }
   }
  }
 ],
 "metadata": {
  "kernelspec": {
   "display_name": "Python 3",
   "language": "python",
   "name": "python3"
  },
  "language_info": {
   "codemirror_mode": {
    "name": "ipython",
    "version": 3
   },
   "file_extension": ".py",
   "mimetype": "text/x-python",
   "name": "python",
   "nbconvert_exporter": "python",
   "pygments_lexer": "ipython3",
   "version": "3.7.4"
  },
  "pycharm": {
   "stem_cell": {
    "cell_type": "raw",
    "source": [],
    "metadata": {
     "collapsed": false
    }
   }
  }
 },
 "nbformat": 4,
 "nbformat_minor": 2
}