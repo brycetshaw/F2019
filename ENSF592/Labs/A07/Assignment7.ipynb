{
 "cells": [
  {
   "cell_type": "markdown",
   "metadata": {},
   "source": [
    "#### <h1> <center> ENSF 592 Programming Fundamentals for Data Engineers </center></h1>\n",
    "<h2> <center> Assignment 7: Beautifulsoup and Pandas (5 points)</center></h2>\n",
    "<center>\n",
    "<div class=\"alert alert-block alert-info\">\n",
    "Due: Wed Nov 20 12am (midnight, Tue to Wed). To be submitted on D2L.\n",
    "</div></center>\n",
    "\n",
    "\n"
   ]
  },
  {
   "cell_type": "markdown",
   "metadata": {},
   "source": [
    "Edit this file and write your solutions to the problems in sections specified with `# Your solution goes here`. Test your code and when you are done, download this notebook as an `.ipynb` file and submit it to D2L. To get this file, in Jupyter notebook you can go to File -> Download as -> Notebook(.ipynb)"
   ]
  },
  {
   "cell_type": "markdown",
   "metadata": {},
   "source": [
    "# Crawl and Scrape \n",
    "\n",
    "Schulich wants to have an integrated dataset of all engineering professors in one place. So as a data engineer, you're asked to gather some information of engineering professors by crawling different faculty website. Then, scrape their information and load them to a pandas dataframe and eventually save it as a csv file. \n",
    "\n",
    "\n",
    "\n",
    "\n",
    "In the first step, you need to get the html text of the website using `requests` library, and then you must use `Beautifulsoup4` library and `lxml` parser to pars the html and extract the needed information.     "
   ]
  },
  {
   "cell_type": "markdown",
   "metadata": {},
   "source": [
    "## Section A.(2.5 pts)\n",
    "\n",
    "In the following, all engineering faculties' websites are listed in the URLs. First, for each faculty, get the html text of the webpage and scrape the information of all its professors to put them in a dataframe as presented below: \n",
    "\n",
    "\n"
   ]
  },
  {
   "cell_type": "markdown",
   "metadata": {},
   "source": [
    "### You're DataFrame will have the following columns: \n",
    "\n",
    "|firsname|lastname|title|faculty|email|homepage|\n",
    "|--------|--------|-----|--------|-----|--------|\n",
    "|        |        |      |     |      |        |"
   ]
  },
  {
   "cell_type": "markdown",
   "metadata": {},
   "source": [
    "<div class=\"alert alert-block alert-info\">\n",
    "<b>Tip:</b> Use `Inspect Element` of Chrome to see the mapping html tags to objects in a webpage<br>\n",
    "    <i>Tutorial Link</i>: https://www.youtube.com/watch?v=1l4xz1QQhew&t=3s\n",
    "</div>"
   ]
  },
  {
   "cell_type": "code",
   "execution_count": 68,
   "metadata": {
    "pycharm": {
     "is_executing": false
    }
   },
   "outputs": [],
   "source": [
    "from backports import os\n",
    "from bs4 import BeautifulSoup\n",
    "import requests\n",
    "import pandas as pd\n",
    "import numpy as np\n",
    "import re\n",
    "\n",
    "import warnings\n",
    "warnings.filterwarnings(action=\"once\")"
   ]
  },
  {
   "cell_type": "code",
   "execution_count": 74,
   "metadata": {
    "scrolled": true,
    "pycharm": {
     "is_executing": false
    }
   },
   "outputs": [
    {
     "name": "stdout",
     "text": [
      "electrical-and-computer-engineering\n<p><span><span><span>Dr. Norm Bartley, Senior Instructor<br/><a href=\"mailto:nbartley@ucalgary.ca\">nbartley@ucalgary.ca</a><br/><a href=\"/contacts/norm-bartley\">View profile &gt;</a></span></span></span></p>\nBartley\nnbartley@ucalgary.ca\nSenior Instructor\n<p><span><span><span>Dr. Laleh Behjat, Professor<br/><a href=\"mailto:laleh@ucalgary.ca\"><span><span>laleh@ucalgary.ca</span></span></a><br/><a href=\"/contacts/laleh-behjat\">View profile &gt;</a></span></span></span></p>\nBehjat\nlaleh@ucalgary.ca\nProfessor\n<p><span><span><span>Dr. Leo Belostotski, Professor<br/><a href=\"mailto:lbelosto@ucalgary.ca\">lbelosto@ucalgary.ca</a><br/><a href=\"/contacts/leo-belostotski\">View profile &gt;</a></span></span></span></p>\nBelostotski\nlbelosto@ucalgary.ca\nProfessor\n<p><span><span><span>Dr. </span></span></span>Laura Curiel<span><span><span>, Assistant Professor</span></span></span><br/><a href=\"mailto:laura.curiel@ucalgary.ca\">laura.curiel@ucalgary.ca</a><br/><span><span><span><a href=\"/contacts/laura-curiel\">View profile &gt;</a></span></span></span></p>\nCuriel\nlaura.curiel@ucalgary.ca\nAssistant Professor\n<p><span><span><span>Dr. </span></span></span>Colin Dalton<span><span><span>, Assistant Professor</span></span></span><br/><a href=\"mailto:cdalton@ucalgary.ca\">cdalton@ucalgary.ca</a><br/><span><span><span><a href=\"/contacts/colin-dalton\">View profile &gt;</a></span></span></span></p>\nDalton\ncdalton@ucalgary.ca\nAssistant Professor\n<p><span><span><span>Dr. Vassil Dimitrov, Associate Professor</span></span></span><br/><span><span><span><a href=\"mailto:vdimitro@ucalgary.ca\">vdimitro@ucalgary.ca</a></span></span></span><br/><a href=\"/contacts/vassil-dimitrov\"><span><span><span>View profile &gt;</span></span></span></a></p>\nDimitrov\nvdimitro@ucalgary.ca\nAssociate Professor\n<p><span><span><span>Dr. Abraham Fapojuwo, Professor, Associate Head (Graduate Studies)<br/><a href=\"mailto:fapojuwo@ucalgary.ca\">fapojuwo@ucalgary.ca</a><br/><a href=\"/contacts/abraham-fapojuwo\">View profile &gt;</a></span></span></span></p>\nFapojuwo\nfapojuwo@ucalgary.ca\nProfessor, Associate Head (Graduate Studies)\n<p><span><span><span>Dr. Behrouz Far, Professor<br/><a href=\"mailto:far@ucalgary.ca\">far@ucalgary.ca</a><br/><a href=\"/contacts/behrouz-far\">View profile &gt;</a></span></span></span></p>\nFar\nfar@ucalgary.ca\nProfessor\n<p><span><span><span>Dr. Elise Fear, Professor<br/><a href=\"mailto:fear@ucalgary.ca\">fear@ucalgary.ca</a><br/><a href=\"/contacts/elise-fear\">View profile &gt;</a></span></span></span></p>\nFear\nfear@ucalgary.ca\nProfessor\n<p><span><span><span>Dr. Fadhel Ghannouchi, Professor<br/><a href=\"mailto:fghannou@ucalgary.ca\">fghannou@ucalgary.ca</a><br/><a href=\"/contacts/fadhel-ghannouchi\">View profile &gt;</a></span></span></span></p>\nGhannouchi\nfghannou@ucalgary.ca\nProfessor\n<p><span><span><span>Dr. Anis Haque, </span></span></span>Teaching Professor<br/><span><span><span><a href=\"mailto:anis@ucalgary.ca\">anis@ucalgary.ca</a><br/><a href=\"/contacts/anis-haque\">View profile &gt;</a></span></span></span></p>\nHaque\nanis@ucalgary.ca\nTeaching Professor\n<p><span><span><span>Dr. Mohamed Helaoui, Assistant Professor<br/><a href=\"mailto:mhelaoui@ucalgary.ca\">mhelaoui@ucalgary.ca</a><br/><a href=\"/contacts/mohamed-helaoui\">View profile &gt;</a></span></span></span></p>\nHelaoui\nmhelaoui@ucalgary.ca\nAssistant Professor\n<p><span><span><span>Dr. Hadi Hemmati, Assistant Professor<br/><a href=\"mailto:hadi.hemmati@ucalgary.ca\">hadi.hemmati@ucalgary.ca</a><br/><a href=\"/contacts/hadi-hemmati\">View profile &gt;</a></span></span></span></p>\nHemmati\nhadi.hemmati@ucalgary.ca\nAssistant Professor\n<p><span><span><span>Dr. Yaoping Hu, Professor<br/><a href=\"mailto:huy@ucalgary.ca\">huy@ucalgary.ca</a><br/><a href=\"/contacts/yaoping-hu\">View profile &gt;</a></span></span></span></p>\nHu\nhuy@ucalgary.ca\nProfessor\n<p><span><span><span>Dr. Seyed Pouyan (Yani) Jazayeri, Senior Instructor<br/><a href=\"mailto:spjazaye@ucalgary.ca\">spjazaye@ucalgary.ca</a><br/><a href=\"/contacts/seyed-pouyan-yani-jazayeri\">View profile &gt;</a></span></span></span></p>\nPouyan (Yani) Jazayeri\nspjazaye@ucalgary.ca\n[]\n<p><span><span><span>Dr. Andy Knight, Professor, I</span></span></span>nterim <span><span><span>Department Head<br/><a href=\"mailto:andy.knight@ucalgary.ca\">andy.knight@ucalgary.ca</a><br/><a href=\"/contacts/andy-knight\">View profile &gt;</a></span></span></span></p>\nKnight\nandy.knight@ucalgary.ca\nProfessor, Interim Department Head\n<p><span><span><span>Dr. Diwakar Krishnamurthy, Associate Professor</span></span></span><br/><span><span><span><a href=\"mailto:dkrishna@ucalgary.ca\">dkrishna@ucalgary.ca</a></span></span></span><br/><a href=\"/contacts/diwakar-krishnamurthy\"><span><span><span>View profile &gt;</span></span></span></a></p>\nKrishnamurthy\ndkrishna@ucalgary.ca\nAssociate Professor\n<p><span><span>Dr. Henry Leung, Professor<br/><span><a href=\"mailto:leungh@ucalgary.ca\">leungh@ucalgary.ca</a></span></span></span><br/><a href=\"/contacts/henry-leung\"><span><span>View profile &gt;</span></span></a></p>\nLeung\nleungh@ucalgary.ca\nProfessor\n<p><span><span>Dr. Chris Macnab, Associate Professor<br/><span><a href=\"mailto:cmacnab@ucalgary.ca\">cmacnab@ucalgary.ca</a></span><br/><a href=\"/contacts/chris-macnab\">View profile &gt;</a></span></span></p>\nMacnab\ncmacnab@ucalgary.ca\nAssociate Professor\n<p><span><span>Dr. Brent Maundy, Professor<br/><span><a href=\"mailto:bmaundy@ucalgary.ca\">bmaundy@ucalgary.ca</a></span><br/><a href=\"/contacts/brent-maundy\">View profile &gt;</a></span></span></p>\nMaundy\nbmaundy@ucalgary.ca\nProfessor\n<p><span><span>Dr. Geoffrey Messier, Professor<br/><span><a href=\"mailto:gmessier@ucalgary.ca\">gmessier@ucalgary.ca</a></span></span></span><br/><a href=\"/contacts/geoffrey-messier\"><span><span>View profile &gt;</span></span></a></p>\nMessier\ngmessier@ucalgary.ca\nProfessor\n<p><span><span>Dr. Martin Mintchev, Professor<br/><span><a href=\"mailto:mintchev@ucalgary.ca\">mintchev@ucalgary.ca</a></span><br/><a href=\"/contacts/martin-p-mintchev\">View profile &gt;</a></span></span></p>\nMintchev\nmintchev@ucalgary.ca\nProfessor\n<p><span><span>Dr. Mohammad Moshirpour, Instructor<br/><span><a href=\"mailto:mmoshirp@ucalgary.ca\">mmoshirp@ucalgary.ca</a></span><br/><a href=\"/contacts/mohammad-moshirpour\">View profile &gt;</a></span></span></p>\nMoshirpour\nmmoshirp@ucalgary.ca\nInstructor\n<p><span><span>Dr. Mahmood Moussavi, Teaching Professor<br/><span><a href=\"mailto:moussam@ucalgary.ca\">moussam@ucalgary.ca</a></span><br/><a href=\"/contacts/mahmood-moussavi\">View profile &gt;</a></span></span></p>\nMoussavi\nmoussam@ucalgary.ca\nTeaching Professor\n<p><span><span>Dr. Kartikeya Murari, Associate Professor<br/><span><a href=\"mailto:kmurari@ucalgary.ca\">kmurari@ucalgary.ca</a></span><br/><a href=\"/contacts/kartikeya-murari\">View profile &gt;</a></span></span></p>\nMurari\nkmurari@ucalgary.ca\nAssociate Professor\n<p><span><span>Dr. John Nielson, Associate Professor, Associate Head (Undergraduate Studies)<br/><span><a href=\"mailto:nielsenj@ucalgary.ca\">nielsenj@ucalgary.ca</a></span></span></span><br/><a href=\"/contacts/john-nielsen\"><span><span>View profile &gt;</span></span></a></p>\nNielson\nnielsenj@ucalgary.ca\nAssociate Professor, Associate Head (Undergraduate Studies)\n<p><span><span>Dr. Steve Norman, Senior Instructor<br/><span><a href=\"mailto:norman@ucalgary.ca\">norman@ucalgary.ca</a></span><br/><a href=\"/contacts/steve-norman\">View profile &gt;</a></span></span></p>\nNorman\nnorman@ucalgary.ca\nSenior Instructor\n<p><span><span>Dr. Ed Nowicki, Associate Professor, Interim Director (CEERE)<br/><span><a href=\"mailto:enowicki@ucalgary.ca\">enowicki@ucalgary.ca</a></span><br/><a href=\"/contacts/ed-nowicki\">View profile &gt;</a></span></span></p>\nNowicki\nenowicki@ucalgary.ca\nAssociate Professor, Interim Director (CEERE)\n<p><span><span>Dr. Anders Nygren, Associate Professor<br/><span><a href=\"mailto:nygren@ucalgary.ca\">nygren@ucalgary.ca</a></span><br/><a href=\"/contacts/anders-nygren\">View profile &gt;</a></span></span></p>\nNygren\nnygren@ucalgary.ca\nAssociate Professor\n<p><span><span>Dr. Michal Okoniewski, Professor<br/><span><a href=\"mailto:okoniews@ucalgary.ca\">okoniews@ucalgary.ca</a></span><br/><a href=\"/contacts/michal-okoniewski\">View profile &gt;</a></span></span></p>\nOkoniewski\nokoniews@ucalgary.ca\nProfessor\n<p><span><span>Dr. Denis Onen, Instructor<br/><span><a href=\"mailto:donen@ucalgary.ca\">donen@ucalgary.ca</a></span></span></span><br/><a href=\"/contacts/denis-onen\"><span><span>View profile &gt;</span></span></a></p>\nOnen\ndonen@ucalgary.ca\nInstructor\n<p><span><span>Dr. Majid Pahlevani, Assistant Professor<br/><span><a href=\"mailto:majid.pahlevani@ucalgary.ca\">majid.pahlevani@ucalgary.ca</a></span><br/><a href=\"/contacts/majid-pahlevani\">View profile &gt;</a></span></span></p>\nPahlevani\nmajid.pahlevani@ucalgary.ca\nAssistant Professor\n<p><span><span>Dr. Mike Potter, Associate Professor<br/><span><a href=\"mailto:mpotter@ucalgary.ca\">mpotter@ucalgary.ca</a></span><br/><a href=\"/contacts/mike-potter\">View profile &gt;</a></span></span></p>\nPotter\nmpotter@ucalgary.ca\nAssociate Professor\n<p><span><span>Dr. William D. (Bill) Rosehart, Professor, Dean</span></span><br/><a href=\"mailto:dean@ucalgary.ca\">dean@ucalgary.ca</a><br/><a href=\"/about/office-dean/about-our-dean\">View profile &gt;</a></p>\nD. (Bill) Rosehart\ndean@ucalgary.ca\n[]\n<p><span><span>Dr. Guenther Ruhe, Professor<br/><span><a href=\"mailto:ruhe@ucalgary.ca\">ruhe@ucalgary.ca</a></span><br/><a href=\"/contacts/guenther-ruhe\">View profile &gt;</a></span></span></p>\nRuhe\nruhe@ucalgary.ca\nProfessor\n<p><span><span>Dr. Abu Sesay, Professor<br/><span><a href=\"mailto:sesay@ucalgary.ca\">sesay@ucalgary.ca</a></span><br/><a href=\"/contacts/abu-sesay\">View profile &gt;</a></span></span></p>\nSesay\nsesay@ucalgary.ca\nProfessor\n<p><span><span>Dr. Mike Smith, Professor<br/><span><a href=\"mailto:mike.smith@ucalgary.ca\">mike.smith@ucalgary.ca</a></span><br/><a href=\"/contacts/michael-smith\">View profile &gt;</a></span></span></p>\nSmith\nmike.smith@ucalgary.ca\nProfessor\n<p><span><span>Dr. Rushi Vyas, Assistant Professor<br/><span><a href=\"mailto:rushi.vyas@ucalgary.ca\">rushi.vyas@ucalgary.ca</a></span></span></span><br/><a href=\"/contacts/rushi-vyas\"><span><span>View profile &gt;</span></span></a></p>\nVyas\nrushi.vyas@ucalgary.ca\nAssistant Professor\n<p><span><span>Dr. Yingxu Wang, Professor<br/><span><a href=\"mailto:yingxu@ucalgary.ca\">yingxu@ucalgary.ca</a></span><br/><a href=\"/contacts/yingxu-wang\">View profile &gt;</a></span></span></p>\nWang\nyingxu@ucalgary.ca\nProfessor\n<p><span><span>Dr. David Westwick, Professor</span></span><br/><span><a href=\"mailto:dwestwic@ucalgary.ca\">dwestwic@ucalgary.ca</a></span><br/><a href=\"/contacts/david-westwick\"><span><span>View profile &gt;</span></span></a></p>\nWestwick\ndwestwic@ucalgary.ca\nProfessor\n<p><span><span>Dr. Orly Yadid-Pecht, Professor<br/><span><a href=\"mailto:orly.yadid-pecht@ucalgary.ca\">orly.yadid-pecht@ucalgary.ca</a></span><br/><a href=\"/contacts/orly-yadid-pecht\">View profile &gt;</a></span></span></p>\nYadid-Pecht\norly.yadid-pecht@ucalgary.ca\nProfessor\n<p><span><span>Dr. Svetlana Yanushkevich, Professor<br/><span><a href=\"mailto:syanshk@ucalgary.ca\">syanshk@ucalgary.ca</a></span><br/><a href=\"/contacts/svetlana-yanushkevich\">View profile &gt;</a></span></span></p>\nYanushkevich\nsyanshk@ucalgary.ca\nProfessor\n<p><span><span>Dr. Hamidreza Zareipour, Professor<br/><span><a href=\"mailto:h.zareipour@ucalgary.ca\">h.zareipour@ucalgary.ca</a></span><br/><a href=\"/contacts/hamidreza-zareipour\">View profile &gt;</a></span></span></p>\nZareipour\nh.zareipour@ucalgary.ca\nProfessor\n",
      "chemical-and-petroleum-engineering\n<p><span><span><span>Dr. Jalal Abedi, Professor<br/><a href=\"mailto:jabedi@ucalgary.ca\">jabedi@ucalgary.ca</a><br/><a href=\"/contacts/jalal-abedi\">View profile &gt;</a></span></span></span></p>\nAbedi\njabedi@ucalgary.ca\nProfessor\n<p><span><span><span>Dr. Roberto Aguilera, Professor<br/><a href=\"mailto:raguiler@ucalgary.ca\">raguiler@ucalgary.ca</a><br/><a href=\"/contacts/roberto-aguilera\">View profile &gt;</a></span></span></span></p>\nAguilera\nraguiler@ucalgary.ca\nProfessor\n<p><span><span><span>Dr. Jalel Azaiez, Professor<br/><a href=\"mailto:azaiez@ucalgary.ca\">azaiez@ucalgary.ca</a><br/><a href=\"/contacts/jalel-azaiez\">View profile &gt;</a></span></span></span></p>\nAzaiez\nazaiez@ucalgary.ca\nProfessor\n<p><span><span><span>Dr. Anne Benneker, Assistant Professor<br/><a href=\"mailto:anne.benneker@ucalgary.ca\">anne.benneker@ucalgary.ca</a></span></span></span><br/><a href=\"/contacts/anne-benneker\">View Profile &gt;</a></p>\nBenneker\nanne.benneker@ucalgary.ca\nAssistant Professor\n<p><span><span><span>Dr. Joule Bergerson, Associate Professor<br/><a href=\"mailto:jbergers@ucalgary.ca\">jbergers@ucalgary.ca</a><br/><a href=\"/contacts/joule-bergerson\">View profile &gt;</a></span></span></span></p>\nBergerson\njbergers@ucalgary.ca\nAssociate Professor\n<p><span><span><span>Dr. Steven Bryant, Professor<br/><a href=\"mailto:steven.bryant@ucalgary.ca\">steven.bryant@ucalgary.ca</a><br/><a href=\"/contacts/steven-bryant\">View profile &gt;</a></span></span></span></p>\nBryant\nsteven.bryant@ucalgary.ca\nProfessor\n<p><span><span><span>Dr. Zhangxing (John) Chen, Professor<br/><a href=\"mailto:zhachen@ucalgary.ca\">zhachen@ucalgary.ca</a><br/><a href=\"/contacts/zhangxing-john-chen\">View profile &gt;</a></span></span></span></p>\n(John) Chen\nzhachen@ucalgary.ca\n[]\n<p><span><span><span>Dr. Shengnan (Nancy) Chen, Associate Professor<br/><a href=\"mailto:snchen@ucalgary.ca\">snchen@ucalgary.ca</a><br/><a href=\"/contacts/shengnan-nancy-chen\">View profile &gt;</a></span></span></span></p>\n(Nancy) Chen\nsnchen@ucalgary.ca\n[]\n<p><span><span><span>Dr. Matthew Clarke, Associate Professor, Associate Head (Graduate Studies)<br/><a href=\"mailto:maclarke@ucalgary.ca\">maclarke@ucalgary.ca</a><br/><a href=\"/contacts/matthew-clarke\">View profile &gt;</a></span></span></span></p>\nClarke\nmaclarke@ucalgary.ca\nAssociate Professor, Associate Head (Graduate Studies)\n<p><span><span><span>Dr. Mingzhe Dong, Professor<br/><a href=\"mailto:mtdong@ucalgary.ca\">mtdong@ucalgary.ca</a><br/><a href=\"/contacts/mingzhe-dong\">View profile &gt;</a></span></span></span></p>\nDong\nmtdong@ucalgary.ca\nProfessor\n<p><span><span><span>Dr. Michael Foley, Senior Instructor<br/><a href=\"mailto:mwfoley@ucalgary.ca\">mwfoley@ucalgary.ca</a><br/><a href=\"/contacts/michael-foley\">View profile &gt;</a></span></span></span></p>\nFoley\nmwfoley@ucalgary.ca\nSenior Instructor\n<p><span><span><span>Dr. Ian Donald Gates, Professor<br/><a href=\"mailto:ian.gates@ucalgary.ca\">ian.gates@ucalgary.ca</a></span></span></span><br/><a href=\"/contacts/ian-donald-gates\"><span><span><span>View profile &gt;</span></span></span></a></p>\nDonald Gates\nian.gates@ucalgary.ca\nProfessor\n<p><span><span><span>Dr. Hassan Hassanzadeh, Associate Professor<br/><a href=\"mailto:hhassanz@ucalgary.ca\">hhassanz@ucalgary.ca</a><br/><a href=\"/contacts/hassan-hassanzadeh\">View profile &gt;</a></span></span></span></p>\nHassanzadeh\nhhassanz@ucalgary.ca\nAssociate Professor\n<p><span><span><span>Dr. Hossein Hejazi, Associate Professor<br/><a href=\"mailto:shhejazi@ucalgary.ca\">shhejazi@ucalgary.ca</a><br/><a href=\"/contacts/hossein-hejazi\">View profile &gt;</a></span></span></span></p>\nHejazi\nshhejazi@ucalgary.ca\nAssociate Professor\n<p><span><span><span>Dr. Josephine Mary Hill, Professor</span></span></span><br/><span><span><span><a href=\"mailto:jhill@ucalgary.ca\">jhill@ucalgary.ca</a><br/><a href=\"/contacts/josephine-mary-hill\">View profile &gt;</a></span></span></span></p>\nMary Hill\njhill@ucalgary.ca\nProfessor\n<p>Dr. Jinguang Hu, Assistant Professor<br/><a href=\"mailto:jinguang.hu@ucalgary.ca\">jinguang.hu@ucalgary.ca</a><br/><a href=\"/contacts/jinguang-hu\">View profile &gt;</a></p>\nHu\njinguang.hu@ucalgary.ca\nAssistant Professor\n<p><span><span><span>Dr. Maen Husein, Professor<br/><a href=\"mailto:mhusein@ucalgary.ca\">mhusein@ucalgary.ca</a><br/><a href=\"/contacts/maen-husein\">View profile &gt;</a></span></span></span></p>\nHusein\nmhusein@ucalgary.ca\nProfessor\n<p><span><span><span>Dr. Martin Jasso, Assistant Professor<br/><a href=\"mailto:mjasso@ucalgary.ca\">mjasso@ucalgary.ca</a><br/><a href=\"/contacts/martin-jasso\">View profile &gt;</a></span></span></span></p>\nJasso\nmjasso@ucalgary.ca\nAssistant Professor\n<p><span><span><span>Dr. Ayodeji Aderopo Jeje, Professor<br/><a href=\"mailto:jeje@ucalgary.ca\">jeje@ucalgary.ca</a><br/><a href=\"/contacts/ayodeji-aderopo-jeje\">View profile &gt;</a></span></span></span></p>\nAderopo Jeje\njeje@ucalgary.ca\nProfessor\n<p><span><span><span>Dr. Kimberly Johnston, Instructor, </span></span></span>Associate Dean of Academic and Planning; Teaching and Learning<br/><span><span><span><a href=\"mailto:johnstka@ucalgary.ca\">johnstka@ucalgary.ca</a></span></span></span><br/><a href=\"/contacts/kimberly-johnston\"><span><span><span>View profile &gt;</span></span></span></a></p>\nJohnston\njohnstka@ucalgary.ca\n[]\n<p><span><span><span>Dr. Michael Kallos, Professor<br/><a href=\"mailto:mskallos@ucalgary.ca\">mskallos@ucalgary.ca</a><br/><a href=\"/contacts/michael-kallos\">View profile &gt;</a></span></span></span></p>\nKallos\nmskallos@ucalgary.ca\nProfessor\n<p><span><span><span>Dr. Apostolos Kantzas, Professor<br/><a href=\"mailto:akantzas@ucalgary.ca\">akantzas@ucalgary.ca</a><br/><a href=\"/contacts/apostolos-kantzas\">View profile &gt;</a></span></span></span></p>\nKantzas\nakantzas@ucalgary.ca\nProfessor\n<p><span><span><span>Dr. Kunal Karan, Professor<br/><a href=\"mailto:kkaran@ucalgary.ca\">kkaran@ucalgary.ca</a><br/><a href=\"/contacts/kunal-karan\">View profile &gt;</a></span></span></span></p>\nKaran\nkkaran@ucalgary.ca\nProfessor\n<p><span><span><span>Dr. Md Kibria, Assistant Professor<br/><a href=\"mailto:md.kibria@ucalgary.ca\">md.kibria@ucalgary.ca</a><br/><a href=\"/contacts/md-kibria\">View profile &gt;</a></span></span></span></p>\nKibria\nmd.kibria@ucalgary.ca\nAssistant Professor\n<p><span><span><span>Dr. Qingye Lu, Assistant Professor<br/><a href=\"mailto:qingye.lu@ucalgary.ca\">qingye.lu@ucalgary.ca</a><br/><a href=\"/contacts/qingye-gemma-lu\">View profile &gt;</a></span></span></span></p>\nLu\nqingye.lu@ucalgary.ca\nAssistant Professor\n<p><span><span><span>Dr. Nader Mahinpey, Professor<br/><a href=\"mailto:nader.mahinpey@ucalgary.ca\">nader.mahinpey@ucalgary.ca</a><br/><a href=\"/contacts/nader-mahinpey\">View profile &gt;</a></span></span></span></p>\nMahinpey\nnader.mahinpey@ucalgary.ca\nProfessor\n<p><span><span><span>Dr. Brij Maini, Professor<br/><a href=\"mailto:bmaini@ucalgary.ca\">bmaini@ucalgary.ca</a><br/><a href=\"/contacts/brij-maini\">View profile &gt;</a></span></span></span></p>\nMaini\nbmaini@ucalgary.ca\nProfessor\n<p>Dr. Sean McCoy, <span><span><span>Assistant Professor</span></span></span><br/><a href=\"mailto:sean.mccoy@ucalgary.ca\">sean.mccoy@ucalgary.ca</a><br/><a href=\"https://schulich.ucalgary.ca/contacts/sean-mccoy\">View profile &gt;</a></p>\nMcCoy\nsean.mccoy@ucalgary.ca\nAssistant Professor\n<p><span><span><span>Dr. Anil Kumar Mehrotra, Professor<br/><a href=\"mailto:mehrotra@ucalgary.ca\">mehrotra@ucalgary.ca</a><br/><a href=\"/contacts/anil-k-mehrotra\">View profile &gt;</a></span></span></span></p>\nKumar Mehrotra\nmehrotra@ucalgary.ca\nProfessor\n<p><span><span><span>Dr. Sudarshan Mehta, Professor<br/><a href=\"mailto:mehta@ucalgary.ca\">mehta@ucalgary.ca</a><br/><a href=\"/contacts/sudarshan-mehta\">View profile &gt;</a></span></span></span></p>\nMehta\nmehta@ucalgary.ca\nProfessor\n<p><span><span><span>Dr.<strong> </strong>Robert Gordon Moore, Professor<br/><a href=\"mailto:moore@ucalgary.ca\">moore@ucalgary.ca</a><br/><a href=\"/contacts/robert-gordon-moore\">View profile &gt;</a></span></span></span></p>\nGordon Moore\nmoore@ucalgary.ca\nProfessor\n<p><span><span><span>Dr.<strong> </strong>Nashaat Nassar, Associate Professor<br/><a href=\"mailto:nassar@ucalgary.ca\">nassar@ucalgary.ca</a><br/><a href=\"/contacts/nashaat-nassar\">View profile &gt;</a></span></span></span></p>\nNassar\nnassar@ucalgary.ca\nAssociate Professor\n<p><span><span><span>Dr.<strong> </strong>Giovanniantonio Natale, Assistant Professor<br/><a href=\"mailto:gnatale@ucalgary.ca\">gnatale@ucalgary.ca</a><br/><a href=\"/contacts/giovanniantonio-natale\">View profile &gt;</a></span></span></span></p>\nNatale\ngnatale@ucalgary.ca\nAssistant Professor\n<p><span><span><span>Dr.<strong> </strong>Pedro<strong> </strong>Pereira Almao, Professor<br/><a href=\"mailto:ppereira@ucalgary.ca\">ppereira@ucalgary.ca</a><br/><a href=\"/contacts/pedro-pereira-almao\">View profile &gt;</a></span></span></span></p>\nPereira Almao\nppereira@ucalgary.ca\nProfessor\n<p><span><span><span>Dr.<strong> </strong>Tatyana Plaksina, Assistant Professor<br/><a href=\"mailto:tatyana.plaksina@ucalgary.ca\">tatyana.plaksina@ucalgary.ca</a><br/><a href=\"/contacts/tatyana-plaksina\">View profile &gt;</a></span></span></span></p>\nPlaksina\ntatyana.plaksina@ucalgary.ca\nAssistant Professor\n<p><span><span><span>Dr.<strong> </strong>Sathish Ponnurangam, Assistant Professor<br/><a href=\"mailto:sathish.ponnurangam@ucalgary.ca\">sathish.ponnurangam@ucalgary.ca</a><br/><a href=\"/contacts/sathish-ponnurangam\">View profile &gt;</a></span></span></span></p>\nPonnurangam\nsathish.ponnurangam@ucalgary.ca\nAssistant Professor\n<p><span><span><span>Dr.<strong> </strong>Kristina Diane Rinker, Associate Professor<br/><a href=\"mailto:kdrinker@ucalgary.ca\">kdrinker@ucalgary.ca</a><br/><a href=\"/contacts/kristina-diane-rinker\">View profile &gt;</a></span></span></span></p>\nDiane Rinker\nkdrinker@ucalgary.ca\nAssociate Professor\n<p><span><span><span>Dr.<strong> </strong>Edward Roberts, Professor, Associate Head of Research<br/><a href=\"mailto:edward.roberts@ucalgary.ca\">edward.roberts@ucalgary.ca</a><br/><a href=\"/contacts/edward-roberts\">View profile &gt;</a></span></span></span></p>\nRoberts\nedward.roberts@ucalgary.ca\nProfessor, Associate Head of Research\n<p><span><span><span>Dr.<strong> </strong>Hemanta Sarma, Professor <br/><a href=\"mailto:hemanta.sarma@ucalgary.ca\">hemanta.sarma@ucalgary.ca</a><br/><a href=\"/contacts/hemanta-sarma\">View profile &gt;</a></span></span></span></p>\nSarma\nhemanta.sarma@ucalgary.ca\nProfessor \n<p><span><span><span>Dr.<strong> </strong>Arindom Sen, Professor, Department Head<br/><a href=\"mailto:asen@ucalgary.ca\">asen@ucalgary.ca</a><br/><a href=\"/contacts/arindom-sen\">View profile &gt;</a></span></span></span></p>\nSen\nasen@ucalgary.ca\nProfessor, Department Head\n<p><span><span><span>Dr. Roman Shor, Assistant Professor, Associate Head (Undergraduate Studies)</span></span></span><br/><span><a href=\"mailto:roman.shor@ucalgary.ca\">roman.shor@ucalgary.ca</a></span><br/><a href=\"/contacts/roman-shor\"><span><span><span>View profile &gt;</span></span></span></a></p>\nShor\nroman.shor@ucalgary.ca\nAssistant Professor, Associate Head (Undergraduate Studies)\n<p><span><span><span>Dr.<strong> </strong>Hector Siegler, Assistant Professor <br/><a href=\"mailto:h.siegler@ucalgary.ca\">h.siegler@ucalgary.ca</a><br/><a href=\"/contacts/hector-siegler\">View profile &gt;</a></span></span></span></p>\nSiegler\nh.siegler@ucalgary.ca\nAssistant Professor \n<p><span><span><span>Dr.<strong> </strong>Hua Song, Associate Professor<br/><a href=\"mailto:sonh@ucalgary.ca\">sonh@ucalgary.ca</a><br/><a href=\"/contacts/hua-song\">View profile &gt;</a></span></span></span></p>\nSong\nsonh@ucalgary.ca\nAssociate Professor\n<p><span><span><span>Dr.<strong> </strong>Kazi Sumon, Instructor <br/><a href=\"mailto:kazi.sumon@ucalgary.ca\">kazi.sumon@ucalgary.ca</a><br/><a href=\"/contacts/kazi-sumon\">View profile &gt;</a></span></span></span></p>\nSumon\nkazi.sumon@ucalgary.ca\nInstructor \n<p><span><span><span>Dr.<strong> </strong>Uttandaraman (U.T.) Sundararaj, Professor <br/><a href=\"mailto:u.sundararaj@ucalgary.ca\">u.sundararaj@ucalgary.ca</a><br/><a href=\"/contacts/uttandaraman-ut-sundararaj\">View profile &gt;</a></span></span></span></p>\n(U.T.) Sundararaj\nu.sundararaj@ucalgary.ca\n[]\n<p><span><span><span>Dr.<strong> </strong>Milana Trifkovic, Associate Professor<br/><a href=\"mailto:mtrifkov@ucalgary.ca\">mtrifkov@ucalgary.ca</a><br/><a href=\"/contacts/milana-trifkovic\">View profile &gt;</a></span></span></span></p>\nTrifkovic\nmtrifkov@ucalgary.ca\nAssociate Professor\n<p><span><span><span>Dr.<strong> </strong>Harvey Yarranton, Professor</span></span></span><br/><span><span><span><a href=\"mailto:hyarrant@ucalgary.ca\">hyarrant@ucalgary.ca</a><br/><a href=\"/contacts/harvey-yarranton\">View profile &gt;</a></span></span></span></p>\nYarranton\nhyarrant@ucalgary.ca\nProfessor\n<p> </p>\n[' ']\n<p> </p>\n[' ']\n<p> </p>\n[' ']\n",
      "civil-engineering\n<p><span><span><span>Dr. Gopal Achari, Professor, Associate Dean (Graduate Studies; Research)<br/><a href=\"mailto:gachari@ucalgary.ca\">gachari@ucalgary.ca</a><br/><a href=\"/contacts/gopal-achari\">View profile &gt;</a></span></span></span></p>\nAchari\ngachari@ucalgary.ca\n[]\n<p><span><span><span>Dr. Kerry Black, Assistant Professor</span></span></span><br/><span><span><span><a href=\"mailto:kerry.black@ucalgary.ca\">kerry.black@ucalgary.ca</a><br/><a href=\"https://schulich.ucalgary.ca/contacts/kerry-black\">View profile &gt;</a></span></span></span></p>\nBlack\nkerry.black@ucalgary.ca\nAssistant Professor\n<p><span><span><span>Dr. Angus Chu, Professor<br/><a href=\"mailto:achu@ucalgary.ca\">achu@ucalgary.ca</a><br/><a href=\"/contacts/angus-chu\">View profile &gt;</a></span></span></span></p>\nChu\nachu@ucalgary.ca\nProfessor\n<p><span><span><span>Dr. Markus Dann, Assistant Professor, Associate Head (Graduate Studies)<br/><a href=\"mailto:mrdann@ucalgary.ca\">mrdann@ucalgary.ca</a><br/><a href=\"/contacts/markus-dann\">View profile &gt;</a></span></span></span></p>\nDann\nmrdann@ucalgary.ca\nAssistant Professor, Associate Head (Graduate Studies)\n<p><span><span><span>Dr. Alexandre De Barros, Professor<br/><a href=\"mailto:debarros@ucalgary.ca\">debarros@ucalgary.ca</a><br/><a href=\"/contacts/alex-de-barros\">View profile &gt;</a></span></span></span></p>\nDe Barros\ndebarros@ucalgary.ca\nProfessor\n<p><span><span><span>Dr. Elena Di Martino, Associate Professor, Director (CBRE)<br/><a href=\"mailto:edimarti@ucalgary.ca\">edimarti@ucalgary.ca</a><br/><a href=\"/contacts/elena-di-martino\">View profile &gt;</a></span></span></span></p>\nDi Martino\nedimarti@ucalgary.ca\nAssociate Professor, Director (CBRE)\n<p><span><span><span>Dr. Neil Duncan, Professor, Associate Head (Undergraduate Studies)<br/><a href=\"mailto:duncan@ucalgary.ca\">duncan@ucalgary.ca</a><br/><a href=\"/contacts/neil-duncan\">View profile &gt;</a></span></span></span></p>\nDuncan\nduncan@ucalgary.ca\nProfessor, Associate Head (Undergraduate Studies)\n<p><span><span><span>Dr.<strong> </strong>Mamdouh El-Badry, Professor<br/><a href=\"mailto:melbadry@ucalgary.ca\">melbadry@ucalgary.ca</a><br/><a href=\"/contacts/mamdouh-el-badry\">View profile &gt;</a></span></span></span></p>\nEl-Badry\nmelbadry@ucalgary.ca\nProfessor\n<p><span><span><span>Dr. Raafat El-Hacha, Professor<br/><a href=\"mailto:relhacha@ucalgary.ca\">relhacha@ucalgary.ca</a><br/><a href=\"/contacts/raafat-el-hacha\">View profile &gt;</a></span></span></span></p>\nEl-Hacha\nrelhacha@ucalgary.ca\nProfessor\n<p><span><span><span>Dr. Jocelyn Hayley, Professor, Department Head<br/><a href=\"mailto:jhayley@ucalgary.ca\">jhayley@ucalgary.ca</a><br/><a href=\"/contacts/jocelyn-hayley\">View profile &gt;</a></span></span></span></p>\nHayley\njhayley@ucalgary.ca\nProfessor, Department Head\n<p><span><span><span>Dr. Jianxun (Jennifer) He, </span></span></span>Associate Professor<br/><span><span><span><a href=\"mailto:jianhe@ucalgary.ca\">jianhe@ucalgary.ca</a><br/><a href=\"/contacts/jianxun-jennifer-he\">View profile &gt;</a></span></span></span></p>\n(Jennifer) He\njianhe@ucalgary.ca\n[]\n<p><span><span><span>Dr. Patrick Hettiaratchi, Professor, Associate Head (Research)<br/><a href=\"mailto:jhettiar@ucalgary.ca\">jhettiar@ucalgary.ca</a><br/><a href=\"/contacts/joseph-patrick-hettiaratchi\">View profile &gt;</a></span></span></span></p>\nHettiaratchi\njhettiar@ucalgary.ca\nProfessor, Associate Head (Research)\n<p><span><span><span>Dr. John Hunt, Professor<br/><a href=\"mailto:jdhunt@ucalgary.ca\">jdhunt@ucalgary.ca</a><br/><a href=\"/contacts/john-hunt\">View profile &gt;</a></span></span></span></p>\nHunt\njdhunt@ucalgary.ca\nProfessor\n<p><span><span><span>Dr.<strong> </strong>Martin Jasso, Assistant Professor<br/><a href=\"mailto:mjasso@ucalgary.ca\">mjasso@ucalgary.ca</a><br/><a href=\"/contacts/martin-jasso\">View profile &gt;</a></span></span></span></p>\nJasso\nmjasso@ucalgary.ca\nAssistant Professor\n<p><span><span><span>Dr. George Jergeas, Professor, Director (CPME)<br/><a href=\"mailto:jergeas@ucalgary.ca\">jergeas@ucalgary.ca</a><br/><a href=\"/contacts/george-jergeas\">View profile &gt;</a></span></span></span></p>\nJergeas\njergeas@ucalgary.ca\nProfessor, Director (CPME)\n<p><span><span><span>Dr. Lina Kattan, Professor<br/><a href=\"mailto:lkattan@ucalgary.ca\">lkattan@ucalgary.ca</a><br/><a href=\"/contacts/lina-kattan\">View profile &gt;</a></span></span></span></p>\nKattan\nlkattan@ucalgary.ca\nProfessor\n<p><span><span><span>Dr. Rahil Khoshnazar, Assistant Professor<br/><a href=\"mailto:rahil.khoshnazar@ucalgary.ca\">rahil.khoshnazar@ucalgary.ca</a><br/><a href=\"/contacts/rahil-khoshnazar\">View profile &gt;</a></span></span></span></p>\nKhoshnazar\nrahil.khoshnazar@ucalgary.ca\nAssistant Professor\n<p><span><span><span>Dr. Shelley Lissel, Associate Professor<br/><a href=\"mailto:sllissel@ucalgary.ca\">sllissel@ucalgary.ca</a><br/><a href=\"/contacts/shelley-lissel\">View profile &gt;</a></span></span></span></p>\nLissel\nsllissel@ucalgary.ca\nAssociate Professor\n<p><span><span><span>Dr. </span></span></span>Jeffrey Priest<span><span><span>, Professor</span></span></span><br/><a href=\"mailto:japriest@Ucalgary.ca\">japriest@Ucalgary.ca</a><br/><span><span><span><a href=\"/contacts/jeffrey-priest\">View profile &gt;</a></span></span></span></p>\nPriest\njapriest@Ucalgary.ca\nProfessor\n<p><span><span><span>Dr. Janaka Ruwanpura, Professor<br/><a href=\"mailto:janaka@ucalgary.ca\">janaka@ucalgary.ca</a><br/><a href=\"/contacts/janaka-ruwanpura\">View profile &gt;</a></span></span></span></p>\nRuwanpura\njanaka@ucalgary.ca\nProfessor\n<p><span><span><span>Dr. Farnaz Sadeghpour, Associate Professor<br/><a href=\"mailto:farnaz@ucalgary.ca\">farnaz@ucalgary.ca</a><br/><a href=\"/contacts/farnaz-sadeghpour\">View profile &gt;</a></span></span></span></p>\nSadeghpour\nfarnaz@ucalgary.ca\nAssociate Professor\n<p>Dr. Saeid Saidi, Assistant Professor<br/><a href=\"mailto:ssaidi@ucalgary.ca\">ssaidi@ucalgary.ca</a><br/><a href=\"https://schulich.ucalgary.ca/contacts/saeid-saidi\">View profile &gt;</a></p>\nSaidi\nssaidi@ucalgary.ca\nAssistant Professor\n<p><span><span><span>Dr. Nigel Shrive, Professor<br/><a href=\"mailto:ngshrive@ucalgary.ca\">ngshrive@ucalgary.ca</a><br/><a href=\"/contacts/nigel-shrive\">View profile &gt;</a></span></span></span></p>\nShrive\nngshrive@ucalgary.ca\nProfessor\n<p><span><span><span>Dr. Andrew Tay, Professor<br/><a href=\"mailto:jhatay@ucalgary.ca\">jhatay@ucalgary.ca</a><br/><a href=\"/contacts/joo-hwa-andrew-tay\">View profile &gt;</a></span></span></span></p>\nTay\njhatay@ucalgary.ca\nProfessor\n<p><span><span><span>Jacqueline Vera, Instructor<br/><a href=\"mailto:jacqueline.vera@ucalgary.ca\">jacqueline.vera@ucalgary.ca</a><br/><a href=\"/contacts/jacqueline-vera\">View profile &gt;</a></span></span></span></p>\n['Jacqueline Vera, Instructorjacqueline.vera@ucalgary.caView profile >']\n<p><span><span><span>Dr. Richard Wan, Professor<br/><a href=\"mailto:wan@ucalgary.ca\">wan@ucalgary.ca</a><br/><a href=\"/contacts/richard-wan\">View profile &gt;</a></span></span></span></p>\nWan\nwan@ucalgary.ca\nProfessor\n<p><span><span><span>Dr. S. Chan Wirasinghe, Professor<br/><a href=\"mailto:chan.wirasinghe@ucalgary.ca\">chan.wirasinghe@ucalgary.ca</a><br/><a href=\"/contacts/s-chan-wirasinghe\">View profile &gt;</a></span></span></span></p>\nChan Wirasinghe\nchan.wirasinghe@ucalgary.ca\nProfessor\n<p><span><span><span>Dr. Ron Chik-Kwong Wong, Professor<br/><a href=\"mailto:rckwong@ucalgary.ca\">rckwong@ucalgary.ca</a><br/><a href=\"/contacts/ron-wong\">View profile &gt;</a></span></span></span></p>\nChik-Kwong Wong\nrckwong@ucalgary.ca\nProfessor\n<p><span><span><span>Dr. Qi Zhou, Assistant Professor<br/><a href=\"mailto:qi.zhou1@ucalgary.ca\">qi.zhou1@ucalgary.ca</a><br/><a href=\"/contacts/qi-zhou\">View profile &gt;</a></span></span></span></p>\nZhou\nqi.zhou1@ucalgary.ca\nAssistant Professor\n<p> </p>\n[' ']\n<p> </p>\n[' ']\n",
      "mechanical-and-manufacturing-engineering\n<p><span><span><span>Dr. Luc Bauwens, Professor<br/><a href=\"mailto:bauwens@ucalgary.ca\">bauwens@ucalgary.ca</a><br/><a href=\"/contacts/luc-bauwens\">View profile &gt;</a></span></span></span></p>\nBauwens\nbauwens@ucalgary.ca\nProfessor\n<p><span><span><span>Dr. Robert Brennan, Professor, Department Head<br/><a href=\"mailto:rbrennan@ucalgary.ca\">rbrennan@ucalgary.ca</a><br/><a href=\"/contacts/robert-brennan\">View profile &gt;</a></span></span></span></p>\nBrennan\nrbrennan@ucalgary.ca\nProfessor, Department Head\n<p><span><span><span>Dr. Roes (Arief) Budiman, Senior Instructor<br/><a href=\"mailto:rbudiman@ucalgary.ca\">rbudiman@ucalgary.ca</a><br/><a href=\"/contacts/roes-arief-budiman\">View profile &gt;</a></span></span></span></p>\n(Arief) Budiman\nrbudiman@ucalgary.ca\n[]\n<p><span><span><span>Dr. Frank Cheng, Professor<br/><a href=\"mailto:fcheng@ucalgary.ca\">fcheng@ucalgary.ca</a><br/><a href=\"/contacts/frank-cheng\">View profile &gt;</a></span></span></span></p>\nCheng\nfcheng@ucalgary.ca\nProfessor\n<p><span><span><span>Dr. Ke Du, Associate Professor<br/><a href=\"mailto:kddu@ucalgary.ca\">kddu@ucalgary.ca</a><br/><a href=\"/contacts/ke-du\">View profile &gt;</a></span></span></span></p>\nDu\nkddu@ucalgary.ca\nAssociate Professor\n<p><span><span><span>Dr. Philip Egberts, Associate Professor<br/><a href=\"mailto:philip.egberts@ucalgary.ca\">philip.egberts@ucalgary.ca</a><br/><a href=\"/contacts/philip-egberts\">View profile &gt;</a></span></span></span></p>\nEgberts\nphilip.egberts@ucalgary.ca\nAssociate Professor\n<p><span><span><span>Dr. Marjan Eggermont, Teaching Professor, Associate Director (Undergraduate) CBRE<br/><a href=\"mailto:meggermo@ucalgary.ca\">meggermo@ucalgary.ca</a><br/><a href=\"/contacts/marjan-eggermont\">View profile &gt;</a></span></span></span></p>\nEggermont\nmeggermo@ucalgary.ca\nTeaching Professor, Associate Director (Undergraduate) CBRE\n<p><span><span><span>Dr. Silvanus Theodore Enns, Associate Professor<br/><a href=\"mailto:enns@ucalgary.ca\">enns@ucalgary.ca</a><br/><a href=\"/contacts/silvanus-theodore-enns\">View profile &gt;</a></span></span></span></p>\nTheodore Enns\nenns@ucalgary.ca\nAssociate Professor\n<p><span><span><span>Dr. Marcelo Epstein, Professor<br/><a href=\"mailto:mepstein@ucalgary.ca\">mepstein@ucalgary.ca</a><br/><a href=\"/contacts/marcelo-epstein\">View profile &gt;</a></span></span></span></p>\nEpstein\nmepstein@ucalgary.ca\nProfessor\n<p><span><span><span>Dr. Salvatore Federico, Professor<br/><a href=\"mailto:salvatore.federico@ucalgary.ca\">salvatore.federico@ucalgary.ca</a><br/><a href=\"/contacts/salvatore-federico\">View profile &gt;</a></span></span></span></p>\nFederico\nsalvatore.federico@ucalgary.ca\nProfessor\n<p><span><span><span>Dr. Ahmad Ghasemloonia, Instructor<br/><a href=\"mailto:ahmad.ghasemloonia@ucalgary.ca\">ahmad.ghasemloonia@ucalgary.ca</a><br/><a href=\"/contacts/ahmad-ghasemloonia\">View profile &gt;</a></span></span></span></p>\nGhasemloonia\nahmad.ghasemloonia@ucalgary.ca\nInstructor\n<p><span><span><span>Dr. Peter Goldsmith, Associate Professor, Associate Head (Undergraduate Studies)<br/><a href=\"mailto:peter.goldsmith@ucalgary.ca\">peter.goldsmith@ucalgary.ca</a><br/><a href=\"/contacts/peter-goldsmith\">View profile &gt;</a></span></span></span></p>\nGoldsmith\npeter.goldsmith@ucalgary.ca\nAssociate Professor, Associate Head (Undergraduate Studies)\n<p><span><span><span>Dr. Ron Hugo, Professor, Director (PEC)<br/><a href=\"mailto:hugo@ucalgary.ca\">hugo@ucalgary.ca</a><br/><a href=\"/contacts/ron-hugo\">View profile &gt;</a></span></span></span></p>\nHugo\nhugo@ucalgary.ca\nProfessor, Director (PEC)\n<p><span><span><span>Dr. Craig Johansen, Associate Professor<br/><a href=\"mailto:johansen@ucalgary.ca\">johansen@ucalgary.ca</a><br/><a href=\"/contacts/craig-johansen\">View profile &gt;</a></span></span></span></p>\nJohansen\njohansen@ucalgary.ca\nAssociate Professor\n<p>Dr. Keekyoung Kim, Assistant Professor<br/><a href=\"mailto:keekyoung.kim@ucalgary.ca\">keekyoung.kim@ucalgary.ca</a><br/><a href=\"https://schulich.ucalgary.ca/contacts/keekyoung-kim\">View profile &gt;</a></p>\nKim\nkeekyoung.kim@ucalgary.ca\nAssistant Professor\n<p><span><span><span>Dr. Seonghwan (Sam) Kim, Associate Professor<br/><a href=\"mailto:sskim@ucalgary.ca\">sskim@ucalgary.ca</a><br/><a href=\"/contacts/seonghwan-sam-kim\">View profile &gt;</a></span></span></span></p>\n(Sam) Kim\nsskim@ucalgary.ca\n[]\n<p><span><span><span>Dr. Artem Korobenko, Assistant Professor<br/><a href=\"mailto:artem.korobenko@ucalgary.ca\">artem.korobenko@ucalgary.ca</a><br/><a href=\"/contacts/artem-korobenko\">View profile &gt;</a></span></span></span></p>\nKorobenko\nartem.korobenko@ucalgary.ca\nAssistant Professor\n<p><span><span><span>Dr. </span></span></span>Daniel Yu-Hing Kwok<span><span><span>, Associate Professor</span></span></span><br/><a href=\"mailto:kwokd@ucalgary.ca\">kwokd@ucalgary.ca</a><br/><span><span><span><a href=\"/contacts/daniel-yu-hing-kwok\">View profile &gt;</a></span></span></span></p>\nYu-Hing Kwok\nkwokd@ucalgary.ca\nAssociate Professor\n<p>Dr. Jihyun Lee, Assistant Professor<br/><a href=\"mailto:jihyun.lee@ucalgary.ca\">jihyun.lee@ucalgary.ca</a><br/><a href=\"/contacts/jihyun-lee\">View profile &gt;</a></p>\nLee\njihyun.lee@ucalgary.ca\nAssistant Professor\n<p><span><span><span>Dr. Leping Li, Associate Professor<br/><a href=\"mailto:leping.li@ucalgary.ca\">leping.li@ucalgary.ca</a></span></span></span><br/><a href=\"/contacts/leping-li\"><span><span><span>View profile &gt;</span></span></span></a></p>\nLi\nleping.li@ucalgary.ca\nAssociate Professor\n<p><span><span><span>Dr. Simon Li, Associate Professor<br/><a href=\"mailto:simoli@ucalgary.ca\">simoli@ucalgary.ca</a><br/><a href=\"/contacts/simon-li\">View profile &gt;</a></span></span></span></p>\nLi\nsimoli@ucalgary.ca\nAssociate Professor\n<p><span><span><span>Dr. Robert Martinuzzi, Professor, Associate Head (Research)<br/><a href=\"mailto:rmartinu@ucalgary.ca\">rmartinu@ucalgary.ca</a><br/><a href=\"/contacts/robert-martinuzzi\">View profile &gt;</a></span></span></span></p>\nMartinuzzi\nrmartinu@ucalgary.ca\nProfessor, Associate Head (Research)\n<p><span><span><span>Dr. Abdulmajeed Mohamad, Professor<br/><a href=\"mailto:mohamad@ucalgary.ca\">mohamad@ucalgary.ca</a><br/><a href=\"/contacts/abdulmajeed-mohamad\">View profile &gt;</a></span></span></span></p>\nMohamad\nmohamad@ucalgary.ca\nProfessor\n<p><span><span><span>Dr. Christopher Morton, Assistant Professor, Associate Head (Graduate Studies)<br/><a href=\"mailto:chris.morton@ucalgary.ca\">chris.morton@ucalgary.ca</a><br/><a href=\"/contacts/christopher-morton\">View profile &gt;</a></span></span></span></p>\nMorton\nchris.morton@ucalgary.ca\nAssistant Professor, Associate Head (Graduate Studies)\n<p><span><span><span>Dr. Simon Park, Professor<br/><a href=\"mailto:sipark@ucalgary.ca\">sipark@ucalgary.ca</a><br/><a href=\"/contacts/simon-park\">View profile &gt;</a></span></span></span></p>\nPark\nsipark@ucalgary.ca\nProfessor\n<p><span><span><span>Dr. Jeff Pieper, </span></span></span>Associate Professor<br/><a href=\"mailto:pieper@ucalgary.ca\">pieper@ucalgary.ca</a><br/><a href=\"/contacts/jeff-pieper\">View profile &gt;</a></p>\nPieper\npieper@ucalgary.ca\nAssociate Professor\n<p><span><span><span>Dr. Alejandro Ramirez-Serrano, Professor<br/><a href=\"mailto:aramirez@ucalgary.ca\">aramirez@ucalgary.ca</a><br/><a href=\"/contacts/alejandro-ramirez-serrano\">View profile &gt;</a></span></span></span></p>\nRamirez-Serrano\naramirez@ucalgary.ca\nProfessor\n<p><span><span><span>Dr. Paul Rogers, Associate Professor<br/><a href=\"mailto:rogers@ucalgary.ca\">rogers@ucalgary.ca</a><br/><a href=\"/contacts/paul-rogers\">View profile &gt;</a></span></span></span></p>\nRogers\nrogers@ucalgary.ca\nAssociate Professor\n<p><span><span><span>Dr. Janet Lenore Ronsky, Professor<br/><a href=\"mailto:jlronsky@ucalgary.ca\">jlronsky@ucalgary.ca</a><br/><a href=\"/contacts/janet-lenore-ronsky\">View profile &gt;</a></span></span></span></p>\nLenore Ronsky\njlronsky@ucalgary.ca\nProfessor\n<p><span><span><span>Dr. Amir Sanati Nezhad, Assistant Professor<br/><a href=\"mailto:amir.sanatinezhad@ucalgary.ca\">amir.sanatinezhad@ucalgary.ca</a><br/><a href=\"/contacts/amir-sanati-nezhad\">View profile &gt;</a></span></span></span></p>\nSanati Nezhad\namir.sanatinezhad@ucalgary.ca\nAssistant Professor\n<p><span><span><span>Dr. Meera Singh, Senior Instructor</span><br/><a href=\"mailto:meera.singh@ucalgary.ca\">meera.singh@ucalgary.ca</a><br/><a href=\"/contacts/meera-singh\"><span>View profile &gt;</span></a></span></span></p>\nSingh\nmeera.singh@ucalgary.ca\nSenior Instructor\n<p><span><span><span>Dr. Les Jozef Sudak, Professor<br/><a href=\"mailto:lsudak@ucalgary.ca\">lsudak@ucalgary.ca</a><br/><a href=\"/contacts/les-jozef-sudak\">View profile &gt;</a></span></span></span></p>\nJozef Sudak\nlsudak@ucalgary.ca\nProfessor\n<p><span><span><span>Dr. Qiao Sun, Professor, Associate Dean (Diversity and Equity; Teaching and Learning)</span><br/><a href=\"mailto:qsun@ucalgary.ca\">qsun@ucalgary.ca</a><br/><a href=\"/contacts/qiao-sun\"><span>View profile &gt;</span></a></span></span></p>\nSun\nqsun@ucalgary.ca\n[]\n<p><span><span><span>Dr. Yiliu (Paul) Tu, Professor</span><br/><a href=\"mailto:paultu@ucalgary.ca\">paultu@ucalgary.ca</a><br/><a href=\"/contacts/yiliu-paul-tu\"><span>View profile &gt;</span></a></span></span></p>\n(Paul) Tu\npaultu@ucalgary.ca\n[]\n<p><span><span><span>Dr. Joanna Wong, Assistant Professor<br/><a href=\"mailto:wong.j@ucalgary.ca\">wong.j@ucalgary.ca</a><br/><a href=\"/contacts/joanna-wong\">View profile &gt;</a></span></span></span></p>\nWong\nwong.j@ucalgary.ca\nAssistant Professor\n<p><span><span><span>Dr. David Wood, Professor</span></span></span><br/><span><span><span><a href=\"mailto:dhwood@ucalgary.ca\">dhwood@ucalgary.ca</a></span></span></span><br/><a href=\"/contacts/david-wood\"><span><span><span>View profile &gt;</span></span></span></a></p>\nWood\ndhwood@ucalgary.ca\nProfessor\n<p><span><span><span>Dr. Deyi Xue, Professor<br/><a href=\"mailto:dxue@ucalgary.ca\">dxue@ucalgary.ca</a><br/><a href=\"/contacts/deyi-xue\">View profile &gt;</a></span></span></span></p>\nXue\ndxue@ucalgary.ca\nProfessor\n<p><span><span><span>Dr. Paul Ziade, Instructor, Associate Dean (Student Affairs; Student Professional Development)</span></span></span><br/><span><span><span><a href=\"mailto:paul.ziade@ucalgary.ca\">paul.ziade@ucalgary.ca</a><br/><a href=\"/contacts/paul-ziade\">View profile &gt;</a></span></span></span></p>\nZiade\npaul.ziade@ucalgary.ca\n[]\n<p> </p>\n[' ']\n<p> </p>\n[' ']\n<p> </p>\n[' ']\n",
      "geomatics\n<p><span><span><span>Dr. Michael Barry, Professor<br/><a href=\"mailto:mbarry@ucalgary.ca\">mbarry@ucalgary.ca</a><br/><a href=\"/contacts/michael-barry\">View profile &gt;</a></span></span></span></p>\nBarry\nmbarry@ucalgary.ca\nProfessor\n<p><span><span><span>Dr. Alexander Bruton, Teaching Professor<br/><a href=\"mailto:alexander.bruton@ucalgary.ca\">alexander.bruton@ucalgary.ca</a><br/><a href=\"/contacts/alex-bruton\">View profile &gt;</a></span></span></span></p>\nBruton\nalexander.bruton@ucalgary.ca\nTeaching Professor\n<p><span><span><span>Dr. Elizabeth Cannon, Professor, President Emeritus (UCalgary)<br/><a href=\"mailto:cannon@ucalgary.ca\">cannon@ucalgary.ca</a><br/><a href=\"https://expertfile.com/experts/elizabeth.cannon\">View profile &gt;</a></span></span></span></p>\nCannon\ncannon@ucalgary.ca\nProfessor, President Emeritus (UCalgary)\n<p><span><span><span>Dr. Michael Collins, Professor<br/><a href=\"mailto:mjcollin@ucalgary.ca\">mjcollin@ucalgary.ca</a><br/><a href=\"/contacts/michael-collins\">View profile &gt;</a></span></span></span></p>\nCollins\nmjcollin@ucalgary.ca\nProfessor\n<p><span><span><span>Dr. Ivan Detchev, Instructor<br/><a href=\"mailto:i.detchev@ucalgary.ca\">i.detchev@ucalgary.ca</a><br/><a href=\"/contacts/ivan-detchev\">View profile &gt;</a></span></span></span></p>\nDetchev\ni.detchev@ucalgary.ca\nInstructor\n<p><span><span><span>Dr. Naser El-Sheimy, Professor<br/><a href=\"mailto:elsheimy@ucalgary.ca\">elsheimy@ucalgary.ca</a><br/><a href=\"/contacts/naser-el-sheimy\">View profile &gt;</a></span></span></span></p>\nEl-Sheimy\nelsheimy@ucalgary.ca\nProfessor\n<p><span><span><span>Dr. Yang Gao, Professor<br/><a href=\"mailto:ygao@ucalgary.ca\">ygao@ucalgary.ca</a><br/><a href=\"/contacts/yang-gao\">View profile &gt;</a></span></span></span></p>\nGao\nygao@ucalgary.ca\nProfessor\n<p><span><span><span>Dr. Quazi Hassan, Professor<br/><a href=\"mailto:qhassan@ucalgary.ca\">qhassan@ucalgary.ca</a><br/><a href=\"/contacts/quazi-hassan\">View profile &gt;</a></span></span></span></p>\nHassan\nqhassan@ucalgary.ca\nProfessor\n<p><span><span><span>Dr. Jeong Woo Kim, Professor<br/><a href=\"mailto:jw.kim@ucalgary.ca\">jw.kim@ucalgary.ca</a><br/><a href=\"/contacts/jeong-woo-kim\">View profile &gt;</a></span></span></span></p>\nWoo Kim\njw.kim@ucalgary.ca\nProfessor\n<p><span><span><span>Dr. Steve Liang, Associate Professor<br/><a href=\"mailto:steve.liang@ucalgary.ca\">steve.liang@ucalgary.ca</a><br/><a href=\"/contacts/steve-liang\">View profile &gt;</a></span></span></span></p>\nLiang\nsteve.liang@ucalgary.ca\nAssociate Professor\n<p><span><span><span>Dr. Derek Lichti, Professor<br/><a href=\"mailto:ddlichti@ucalgary.ca\">ddlichti@ucalgary.ca</a><br/><a href=\"/contacts/derek-lichti\">View profile &gt;</a></span></span></span></p>\nLichti\nddlichti@ucalgary.ca\nProfessor\n<p><span><span><span>Dr. Kyle O’Keefe, Professor<br/><a href=\"mailto:kpgokeef@ucalgary.ca\">kpgokeef@ucalgary.ca</a><br/><a href=\"/contacts/kyle-okeefe\">View profile &gt;</a></span></span></span></p>\n['Dr. Kyle O’Keefe, Professorkpgokeef@ucalgary.caView profile >']\n<p><span><span><span>Dr. Elena Rangelova, Instructor, Associate Head (Undergraduate Studies)<br/><a href=\"mailto:evrangel@ucalgary.ca\">evrangel@ucalgary.ca</a><br/><a href=\"/contacts/elena-rangelova\">View profile &gt;</a></span></span></span></p>\nRangelova\nevrangel@ucalgary.ca\nInstructor, Associate Head (Undergraduate Studies)\n<p><span><span><span>Dr. Mozhdeh Shahbazi, Assistant Professor<br/><a href=\"mailto:mozhdeh.shahbazi@ucalgary.ca\">mozhdeh.shahbazi@ucalgary.ca</a><br/><a href=\"/contacts/mozhdeh-shahbazi\">View profile &gt;</a></span></span></span></p>\nShahbazi\nmozhdeh.shahbazi@ucalgary.ca\nAssistant Professor\n<p><span><span><span>Dr. Michael Sideris, Professor, Associate Head (Graduate Studies)<br/><a href=\"mailto:sideris@ucalgary.ca\">sideris@ucalgary.ca</a><br/><a href=\"/contacts/michael-sideris\">View profile &gt;</a></span></span></span></p>\nSideris\nsideris@ucalgary.ca\nProfessor, Associate Head (Graduate Studies)\n<p><span><span><span>Dr. Susan Skone, Professor, Associate VP (Research)<br/><a href=\"mailto:shskone@ucalgary.ca\">shskone@ucalgary.ca</a><br/><a href=\"https://www.ucalgary.ca/research/research-ucalgary/office-vice-president-research/about-vpr-team/susan-skone-associate-vice-president\">View profile &gt;</a></span></span></span></p>\nSkone\nshskone@ucalgary.ca\nProfessor, Associate VP (Research)\n<p><span><span><span>Dr. Emmanuel Stefanakis, Professor, Department Head<br/><a href=\"mailto:emmanuel.stefanakis@ucalgary.ca\">emmanuel.stefanakis@ucalgary.ca</a></span></span></span><br/><a href=\"/contacts/emmanuel-stefanakis\">View profile &gt;</a></p>\nStefanakis\nemmanuel.stefanakis@ucalgary.ca\nProfessor, Department Head\n<p><span><span><span>Dr. Xin Wang, Professor<br/><a href=\"mailto:xcwang@ucalgary.ca\">xcwang@ucalgary.ca</a><br/><a href=\"/contacts/xin-wang\">View profile &gt;</a></span></span></span></p>\nWang\nxcwang@ucalgary.ca\nProfessor\n<p><span><span><span>Dr. Ruisheng Wang, Associate Professor<br/><a href=\"mailto:ruiswang@ucalgary.ca\">ruiswang@ucalgary.ca</a><br/><a href=\"/contacts/ruisheng-wang\">View profile &gt;</a></span></span></span></p>\nWang\nruiswang@ucalgary.ca\nAssociate Professor\n"
     ],
     "output_type": "stream"
    },
    {
     "data": {
      "text/plain": "    firstname     lastname                                         title  \\\n0        Norm      Bartley                             Senior Instructor   \n1       Laleh       Behjat                                     Professor   \n2         Leo  Belostotski                                     Professor   \n3       Laura       Curiel                           Assistant Professor   \n4       Colin       Dalton                           Assistant Professor   \n..        ...          ...                                           ...   \n169   Michael      Sideris  Professor, Associate Head (Graduate Studies)   \n170     Susan        Skone            Professor, Associate VP (Research)   \n171  Emmanuel   Stefanakis                    Professor, Department Head   \n172       Xin         Wang                                     Professor   \n173  Ruisheng         Wang                           Associate Professor   \n\n                                 faculty                            email  \\\n0    electrical-and-computer-engineering             nbartley@ucalgary.ca   \n1    electrical-and-computer-engineering                laleh@ucalgary.ca   \n2    electrical-and-computer-engineering             lbelosto@ucalgary.ca   \n3    electrical-and-computer-engineering         laura.curiel@ucalgary.ca   \n4    electrical-and-computer-engineering              cdalton@ucalgary.ca   \n..                                   ...                              ...   \n169                            geomatics              sideris@ucalgary.ca   \n170                            geomatics              shskone@ucalgary.ca   \n171                            geomatics  emmanuel.stefanakis@ucalgary.ca   \n172                            geomatics               xcwang@ucalgary.ca   \n173                            geomatics             ruiswang@ucalgary.ca   \n\n                                              homepage  \n0    https://schulich.ucalgary.ca/contacts/norm-bar...  \n1    https://schulich.ucalgary.ca/contacts/laleh-be...  \n2    https://schulich.ucalgary.ca/contacts/leo-belo...  \n3    https://schulich.ucalgary.ca/contacts/laura-cu...  \n4    https://schulich.ucalgary.ca/contacts/colin-da...  \n..                                                 ...  \n169  https://schulich.ucalgary.ca/contacts/michael-...  \n170                                                NaN  \n171  https://schulich.ucalgary.ca/contacts/emmanuel...  \n172     https://schulich.ucalgary.ca/contacts/xin-wang  \n173  https://schulich.ucalgary.ca/contacts/ruisheng...  \n\n[174 rows x 6 columns]",
      "text/html": "<div>\n<style scoped>\n    .dataframe tbody tr th:only-of-type {\n        vertical-align: middle;\n    }\n\n    .dataframe tbody tr th {\n        vertical-align: top;\n    }\n\n    .dataframe thead th {\n        text-align: right;\n    }\n</style>\n<table border=\"1\" class=\"dataframe\">\n  <thead>\n    <tr style=\"text-align: right;\">\n      <th></th>\n      <th>firstname</th>\n      <th>lastname</th>\n      <th>title</th>\n      <th>faculty</th>\n      <th>email</th>\n      <th>homepage</th>\n    </tr>\n  </thead>\n  <tbody>\n    <tr>\n      <td>0</td>\n      <td>Norm</td>\n      <td>Bartley</td>\n      <td>Senior Instructor</td>\n      <td>electrical-and-computer-engineering</td>\n      <td>nbartley@ucalgary.ca</td>\n      <td>https://schulich.ucalgary.ca/contacts/norm-bar...</td>\n    </tr>\n    <tr>\n      <td>1</td>\n      <td>Laleh</td>\n      <td>Behjat</td>\n      <td>Professor</td>\n      <td>electrical-and-computer-engineering</td>\n      <td>laleh@ucalgary.ca</td>\n      <td>https://schulich.ucalgary.ca/contacts/laleh-be...</td>\n    </tr>\n    <tr>\n      <td>2</td>\n      <td>Leo</td>\n      <td>Belostotski</td>\n      <td>Professor</td>\n      <td>electrical-and-computer-engineering</td>\n      <td>lbelosto@ucalgary.ca</td>\n      <td>https://schulich.ucalgary.ca/contacts/leo-belo...</td>\n    </tr>\n    <tr>\n      <td>3</td>\n      <td>Laura</td>\n      <td>Curiel</td>\n      <td>Assistant Professor</td>\n      <td>electrical-and-computer-engineering</td>\n      <td>laura.curiel@ucalgary.ca</td>\n      <td>https://schulich.ucalgary.ca/contacts/laura-cu...</td>\n    </tr>\n    <tr>\n      <td>4</td>\n      <td>Colin</td>\n      <td>Dalton</td>\n      <td>Assistant Professor</td>\n      <td>electrical-and-computer-engineering</td>\n      <td>cdalton@ucalgary.ca</td>\n      <td>https://schulich.ucalgary.ca/contacts/colin-da...</td>\n    </tr>\n    <tr>\n      <td>...</td>\n      <td>...</td>\n      <td>...</td>\n      <td>...</td>\n      <td>...</td>\n      <td>...</td>\n      <td>...</td>\n    </tr>\n    <tr>\n      <td>169</td>\n      <td>Michael</td>\n      <td>Sideris</td>\n      <td>Professor, Associate Head (Graduate Studies)</td>\n      <td>geomatics</td>\n      <td>sideris@ucalgary.ca</td>\n      <td>https://schulich.ucalgary.ca/contacts/michael-...</td>\n    </tr>\n    <tr>\n      <td>170</td>\n      <td>Susan</td>\n      <td>Skone</td>\n      <td>Professor, Associate VP (Research)</td>\n      <td>geomatics</td>\n      <td>shskone@ucalgary.ca</td>\n      <td>NaN</td>\n    </tr>\n    <tr>\n      <td>171</td>\n      <td>Emmanuel</td>\n      <td>Stefanakis</td>\n      <td>Professor, Department Head</td>\n      <td>geomatics</td>\n      <td>emmanuel.stefanakis@ucalgary.ca</td>\n      <td>https://schulich.ucalgary.ca/contacts/emmanuel...</td>\n    </tr>\n    <tr>\n      <td>172</td>\n      <td>Xin</td>\n      <td>Wang</td>\n      <td>Professor</td>\n      <td>geomatics</td>\n      <td>xcwang@ucalgary.ca</td>\n      <td>https://schulich.ucalgary.ca/contacts/xin-wang</td>\n    </tr>\n    <tr>\n      <td>173</td>\n      <td>Ruisheng</td>\n      <td>Wang</td>\n      <td>Associate Professor</td>\n      <td>geomatics</td>\n      <td>ruiswang@ucalgary.ca</td>\n      <td>https://schulich.ucalgary.ca/contacts/ruisheng...</td>\n    </tr>\n  </tbody>\n</table>\n<p>174 rows × 6 columns</p>\n</div>"
     },
     "metadata": {},
     "output_type": "execute_result",
     "execution_count": 74
    }
   ],
   "source": [
    "all_urls=[\"https://schulich.ucalgary.ca/departments/electrical-and-computer-engineering/faculty\",\n",
    "\"https://schulich.ucalgary.ca/departments/chemical-and-petroleum-engineering/faculty\",\n",
    "\"https://schulich.ucalgary.ca/departments/civil-engineering/faculty\",\n",
    "\"https://schulich.ucalgary.ca/departments/mechanical-and-manufacturing-engineering/faculty\",\n",
    "\"https://schulich.ucalgary.ca/geomatics/faculty-members\"]\n",
    "\n",
    "df_professors=pd.DataFrame(columns = [\"firstname\", \"lastname\", \"title\", \"faculty\", \"email\",\"homepage\"])\n",
    "\n",
    "# Your solution goes here\n",
    "for i in range(5):\n",
    "    html=requests.get(all_urls[i], verify=False).text\n",
    "    soup = BeautifulSoup(html, 'lxml')\n",
    "    \n",
    "    faculty = all_urls[i].split(\"/\")[-2]\n",
    "    print(faculty)\n",
    "    # all profs are children of this special div, wrapped in a p\n",
    "    for row in soup.find('div',class_=\"col-sm-12 two-col\").find_all('p'):\n",
    "        print(row)\n",
    "        text = row.get_text()\n",
    "        text = text.replace(\"\\xa0\",\" \")\n",
    "        \n",
    "        try:\n",
    "            the_name = re.findall(\"Dr\\.\\s([\\w\\s\\(\\)\\.-]*),\",text)[0].split()\n",
    "            firstname = the_name[0]\n",
    "            lastname = \" \".join(the_name[1:])\n",
    "            email=row.select('a[href^=mailto]')[0].get_text().strip()\n",
    "            title = re.findall(f'{lastname}, ([\\w\\s,(),]*){email}',text)\n",
    "            if len(title) == 1:\n",
    "                title = title[0]\n",
    "            print(rf\"{lastname}\")\n",
    "            print(rf\"{email}\")\n",
    "            print(title)\n",
    "            if email == 'spjazaye@ucalgary.ca':\n",
    "                title = 'Senior Instructor'\n",
    "            if email == 'dean@ucalgary.ca':\n",
    "                title = 'Professor, Dean'\n",
    "            \n",
    "            homepage=np.nan\n",
    "            # firstname = row.find(property=\"profile:first_name\").content\n",
    "            \n",
    "        \n",
    "            # profile websites have a href that contains /contacts\n",
    "            link=row.find(href=re.compile(\"/contacts\"))\n",
    "            if link is not None:\n",
    "        #         print(link['href'])\n",
    "                homepage=\"https://schulich.ucalgary.ca\"+link['href']  \n",
    "        \n",
    "            # add a row\n",
    "            df_professors=df_professors.append({'firstname': firstname,'lastname': lastname,'title': title,'faculty': faculty,'email': email,'homepage':homepage}, ignore_index=True)\n",
    "        except:\n",
    "            print([text])\n",
    "\n",
    "\n",
    "df_professors"
   ]
  },
  {
   "cell_type": "markdown",
   "metadata": {},
   "source": [
    "## Section B (2.5 pts)\n",
    "\n",
    "### part I (2 pts)\n",
    "In this part, iterate on professors dataframe and request to get their homepage html, and find the phone number and office (building and room) of each professor and add it to your previous dataframe as a new column.  Finally, save the dataframe as a csv file. \n",
    "\n",
    "\n",
    "<div class=\"alert alert-block alert-danger\">\n",
    "<b>Note:</b> <br>\n",
    "Put `nan` for professors who do not have phone and office numbers on their webpage\n",
    "</div>\n",
    "\n"
   ]
  },
  {
   "cell_type": "code",
   "execution_count": 105,
   "metadata": {
    "scrolled": false,
    "pycharm": {
     "is_executing": false
    }
   },
   "outputs": [
    {
     "name": "stdout",
     "text": [
      "https://schulich.ucalgary.ca/contacts/norm-bartley\n",
      "https://schulich.ucalgary.ca/contacts/laleh-behjat\n",
      "https://schulich.ucalgary.ca/contacts/leo-belostotski\n",
      "https://schulich.ucalgary.ca/contacts/laura-curiel\n",
      "https://schulich.ucalgary.ca/contacts/colin-dalton\n",
      "https://schulich.ucalgary.ca/contacts/vassil-dimitrov\n",
      "https://schulich.ucalgary.ca/contacts/abraham-fapojuwo\n",
      "https://schulich.ucalgary.ca/contacts/behrouz-far\n",
      "https://schulich.ucalgary.ca/contacts/elise-fear\n",
      "https://schulich.ucalgary.ca/contacts/fadhel-ghannouchi\n",
      "https://schulich.ucalgary.ca/contacts/anis-haque\n",
      "https://schulich.ucalgary.ca/contacts/mohamed-helaoui\n",
      "https://schulich.ucalgary.ca/contacts/hadi-hemmati\n",
      "https://schulich.ucalgary.ca/contacts/yaoping-hu\n",
      "https://schulich.ucalgary.ca/contacts/seyed-pouyan-yani-jazayeri\n",
      "https://schulich.ucalgary.ca/contacts/andy-knight\n",
      "https://schulich.ucalgary.ca/contacts/diwakar-krishnamurthy\n",
      "https://schulich.ucalgary.ca/contacts/henry-leung\n",
      "https://schulich.ucalgary.ca/contacts/chris-macnab\n",
      "https://schulich.ucalgary.ca/contacts/brent-maundy\n",
      "https://schulich.ucalgary.ca/contacts/geoffrey-messier\n",
      "https://schulich.ucalgary.ca/contacts/martin-p-mintchev\n",
      "https://schulich.ucalgary.ca/contacts/mohammad-moshirpour\n",
      "https://schulich.ucalgary.ca/contacts/mahmood-moussavi\n",
      "https://schulich.ucalgary.ca/contacts/kartikeya-murari\n",
      "https://schulich.ucalgary.ca/contacts/john-nielsen\n",
      "https://schulich.ucalgary.ca/contacts/steve-norman\n",
      "https://schulich.ucalgary.ca/contacts/ed-nowicki\n",
      "https://schulich.ucalgary.ca/contacts/anders-nygren\n",
      "https://schulich.ucalgary.ca/contacts/michal-okoniewski\n",
      "https://schulich.ucalgary.ca/contacts/denis-onen\n",
      "https://schulich.ucalgary.ca/contacts/majid-pahlevani\n",
      "https://schulich.ucalgary.ca/contacts/mike-potter\n",
      "nan\nnan\nhttps://schulich.ucalgary.ca/contacts/guenther-ruhe\n",
      "https://schulich.ucalgary.ca/contacts/abu-sesay\n",
      "https://schulich.ucalgary.ca/contacts/michael-smith\n",
      "https://schulich.ucalgary.ca/contacts/rushi-vyas\n",
      "https://schulich.ucalgary.ca/contacts/yingxu-wang\n",
      "https://schulich.ucalgary.ca/contacts/david-westwick\n",
      "https://schulich.ucalgary.ca/contacts/orly-yadid-pecht\n",
      "https://schulich.ucalgary.ca/contacts/svetlana-yanushkevich\n",
      "https://schulich.ucalgary.ca/contacts/hamidreza-zareipour\n",
      "https://schulich.ucalgary.ca/contacts/jalal-abedi\n",
      "https://schulich.ucalgary.ca/contacts/roberto-aguilera\n",
      "https://schulich.ucalgary.ca/contacts/jalel-azaiez\n",
      "https://schulich.ucalgary.ca/contacts/anne-benneker\n",
      "https://schulich.ucalgary.ca/contacts/joule-bergerson\n",
      "https://schulich.ucalgary.ca/contacts/steven-bryant\n",
      "https://schulich.ucalgary.ca/contacts/zhangxing-john-chen\n",
      "https://schulich.ucalgary.ca/contacts/shengnan-nancy-chen\n",
      "https://schulich.ucalgary.ca/contacts/matthew-clarke\n",
      "https://schulich.ucalgary.ca/contacts/mingzhe-dong\n",
      "https://schulich.ucalgary.ca/contacts/michael-foley\n",
      "https://schulich.ucalgary.ca/contacts/ian-donald-gates\n",
      "https://schulich.ucalgary.ca/contacts/hassan-hassanzadeh\n",
      "https://schulich.ucalgary.ca/contacts/hossein-hejazi\n",
      "https://schulich.ucalgary.ca/contacts/josephine-mary-hill\n",
      "https://schulich.ucalgary.ca/contacts/jinguang-hu\n",
      "https://schulich.ucalgary.ca/contacts/maen-husein\n",
      "https://schulich.ucalgary.ca/contacts/martin-jasso\n",
      "https://schulich.ucalgary.ca/contacts/ayodeji-aderopo-jeje\n",
      "https://schulich.ucalgary.ca/contacts/kimberly-johnston\n",
      "https://schulich.ucalgary.ca/contacts/michael-kallos\n",
      "https://schulich.ucalgary.ca/contacts/apostolos-kantzas\n",
      "https://schulich.ucalgary.ca/contacts/kunal-karan\n",
      "https://schulich.ucalgary.ca/contacts/md-kibria\n",
      "https://schulich.ucalgary.ca/contacts/qingye-gemma-lu\n",
      "https://schulich.ucalgary.ca/contacts/nader-mahinpey\n",
      "https://schulich.ucalgary.ca/contacts/brij-maini\n",
      "https://schulich.ucalgary.cahttps://schulich.ucalgary.ca/contacts/sean-mccoy\nhttps://schulich.ucalgary.cahttps://schulich.ucalgary.ca/contacts/sean-mccoy\nhttps://schulich.ucalgary.ca/contacts/anil-k-mehrotra\n",
      "https://schulich.ucalgary.ca/contacts/sudarshan-mehta\n",
      "https://schulich.ucalgary.ca/contacts/robert-gordon-moore\n",
      "https://schulich.ucalgary.ca/contacts/nashaat-nassar\n",
      "https://schulich.ucalgary.ca/contacts/giovanniantonio-natale\n",
      "https://schulich.ucalgary.ca/contacts/pedro-pereira-almao\n",
      "https://schulich.ucalgary.ca/contacts/tatyana-plaksina\n",
      "https://schulich.ucalgary.ca/contacts/sathish-ponnurangam\n",
      "https://schulich.ucalgary.ca/contacts/kristina-diane-rinker\n",
      "https://schulich.ucalgary.ca/contacts/edward-roberts\n",
      "https://schulich.ucalgary.ca/contacts/hemanta-sarma\n",
      "https://schulich.ucalgary.ca/contacts/arindom-sen\n",
      "https://schulich.ucalgary.ca/contacts/roman-shor\n",
      "https://schulich.ucalgary.ca/contacts/hector-siegler\n",
      "https://schulich.ucalgary.ca/contacts/hua-song\n",
      "https://schulich.ucalgary.ca/contacts/kazi-sumon\n",
      "https://schulich.ucalgary.ca/contacts/uttandaraman-ut-sundararaj\n",
      "https://schulich.ucalgary.ca/contacts/milana-trifkovic\n",
      "https://schulich.ucalgary.ca/contacts/harvey-yarranton\n",
      "https://schulich.ucalgary.ca/contacts/gopal-achari\n",
      "https://schulich.ucalgary.cahttps://schulich.ucalgary.ca/contacts/kerry-black\nhttps://schulich.ucalgary.cahttps://schulich.ucalgary.ca/contacts/kerry-black\nhttps://schulich.ucalgary.ca/contacts/angus-chu\n",
      "https://schulich.ucalgary.ca/contacts/markus-dann\n",
      "https://schulich.ucalgary.ca/contacts/alex-de-barros\n",
      "https://schulich.ucalgary.ca/contacts/elena-di-martino\n",
      "https://schulich.ucalgary.ca/contacts/neil-duncan\n",
      "https://schulich.ucalgary.ca/contacts/mamdouh-el-badry\n",
      "https://schulich.ucalgary.ca/contacts/raafat-el-hacha\n",
      "https://schulich.ucalgary.ca/contacts/jocelyn-hayley\n",
      "https://schulich.ucalgary.ca/contacts/jianxun-jennifer-he\n",
      "https://schulich.ucalgary.ca/contacts/joseph-patrick-hettiaratchi\n",
      "https://schulich.ucalgary.ca/contacts/john-hunt\n",
      "https://schulich.ucalgary.ca/contacts/martin-jasso\n",
      "https://schulich.ucalgary.ca/contacts/george-jergeas\n",
      "https://schulich.ucalgary.ca/contacts/lina-kattan\n",
      "https://schulich.ucalgary.ca/contacts/rahil-khoshnazar\n",
      "https://schulich.ucalgary.ca/contacts/shelley-lissel\n",
      "https://schulich.ucalgary.ca/contacts/jeffrey-priest\n",
      "https://schulich.ucalgary.ca/contacts/janaka-ruwanpura\n",
      "https://schulich.ucalgary.ca/contacts/farnaz-sadeghpour\n",
      "https://schulich.ucalgary.cahttps://schulich.ucalgary.ca/contacts/saeid-saidi\nhttps://schulich.ucalgary.cahttps://schulich.ucalgary.ca/contacts/saeid-saidi\nhttps://schulich.ucalgary.ca/contacts/nigel-shrive\n",
      "https://schulich.ucalgary.ca/contacts/joo-hwa-andrew-tay\n",
      "https://schulich.ucalgary.ca/contacts/richard-wan\n",
      "https://schulich.ucalgary.ca/contacts/s-chan-wirasinghe\n",
      "https://schulich.ucalgary.ca/contacts/ron-wong\n",
      "https://schulich.ucalgary.ca/contacts/qi-zhou\n",
      "https://schulich.ucalgary.ca/contacts/luc-bauwens\n",
      "https://schulich.ucalgary.ca/contacts/robert-brennan\n",
      "https://schulich.ucalgary.ca/contacts/roes-arief-budiman\n",
      "https://schulich.ucalgary.ca/contacts/frank-cheng\n",
      "https://schulich.ucalgary.ca/contacts/ke-du\n",
      "https://schulich.ucalgary.ca/contacts/philip-egberts\n",
      "https://schulich.ucalgary.ca/contacts/marjan-eggermont\n",
      "https://schulich.ucalgary.ca/contacts/silvanus-theodore-enns\n",
      "https://schulich.ucalgary.ca/contacts/marcelo-epstein\n",
      "https://schulich.ucalgary.ca/contacts/salvatore-federico\n",
      "https://schulich.ucalgary.ca/contacts/ahmad-ghasemloonia\n",
      "https://schulich.ucalgary.ca/contacts/peter-goldsmith\n",
      "https://schulich.ucalgary.ca/contacts/ron-hugo\n",
      "https://schulich.ucalgary.ca/contacts/craig-johansen\n",
      "https://schulich.ucalgary.cahttps://schulich.ucalgary.ca/contacts/keekyoung-kim\nhttps://schulich.ucalgary.cahttps://schulich.ucalgary.ca/contacts/keekyoung-kim\nhttps://schulich.ucalgary.ca/contacts/seonghwan-sam-kim\n",
      "https://schulich.ucalgary.ca/contacts/artem-korobenko\n",
      "https://schulich.ucalgary.ca/contacts/daniel-yu-hing-kwok\n",
      "https://schulich.ucalgary.ca/contacts/jihyun-lee\n",
      "https://schulich.ucalgary.ca/contacts/leping-li\n",
      "https://schulich.ucalgary.ca/contacts/simon-li\n",
      "https://schulich.ucalgary.ca/contacts/robert-martinuzzi\n",
      "https://schulich.ucalgary.ca/contacts/abdulmajeed-mohamad\n",
      "https://schulich.ucalgary.ca/contacts/christopher-morton\n",
      "https://schulich.ucalgary.ca/contacts/simon-park\n",
      "https://schulich.ucalgary.ca/contacts/jeff-pieper\n",
      "https://schulich.ucalgary.ca/contacts/alejandro-ramirez-serrano\n",
      "https://schulich.ucalgary.ca/contacts/paul-rogers\n",
      "https://schulich.ucalgary.ca/contacts/janet-lenore-ronsky\n",
      "https://schulich.ucalgary.ca/contacts/amir-sanati-nezhad\n",
      "https://schulich.ucalgary.ca/contacts/meera-singh\n",
      "https://schulich.ucalgary.ca/contacts/les-jozef-sudak\n",
      "https://schulich.ucalgary.ca/contacts/qiao-sun\n",
      "https://schulich.ucalgary.ca/contacts/yiliu-paul-tu\n",
      "https://schulich.ucalgary.ca/contacts/joanna-wong\n",
      "https://schulich.ucalgary.ca/contacts/david-wood\n",
      "https://schulich.ucalgary.ca/contacts/deyi-xue\n",
      "https://schulich.ucalgary.ca/contacts/paul-ziade\n",
      "https://schulich.ucalgary.ca/contacts/michael-barry\n",
      "https://schulich.ucalgary.ca/contacts/alex-bruton\n",
      "nan\nnan\nhttps://schulich.ucalgary.ca/contacts/michael-collins\n",
      "https://schulich.ucalgary.ca/contacts/ivan-detchev\n",
      "https://schulich.ucalgary.ca/contacts/naser-el-sheimy\n",
      "https://schulich.ucalgary.ca/contacts/yang-gao\n",
      "https://schulich.ucalgary.ca/contacts/quazi-hassan\n",
      "https://schulich.ucalgary.ca/contacts/jeong-woo-kim\n",
      "https://schulich.ucalgary.ca/contacts/steve-liang\n",
      "https://schulich.ucalgary.ca/contacts/derek-lichti\n",
      "https://schulich.ucalgary.ca/contacts/elena-rangelova\n",
      "https://schulich.ucalgary.ca/contacts/mozhdeh-shahbazi\n",
      "https://schulich.ucalgary.ca/contacts/michael-sideris\n",
      "nan\nnan\nhttps://schulich.ucalgary.ca/contacts/emmanuel-stefanakis\n",
      "https://schulich.ucalgary.ca/contacts/xin-wang\n",
      "https://schulich.ucalgary.ca/contacts/ruisheng-wang\n"
     ],
     "output_type": "stream"
    },
    {
     "name": "stderr",
     "text": [
      "/home/bryce/anaconda3/lib/python3.7/site-packages/ipykernel_launcher.py:12: FutureWarning: \n.ix is deprecated. Please use\n.loc for label based indexing or\n.iloc for positional indexing\n\nSee the documentation here:\nhttp://pandas.pydata.org/pandas-docs/stable/user_guide/indexing.html#ix-indexer-is-deprecated\n  if sys.path[0] == '':\n"
     ],
     "output_type": "stream"
    }
   ],
   "source": [
    "# Your solution goes here\n",
    "with requests.Session() as s:\n",
    "    page = df_professors.loc[:, \"homepage\"]\n",
    "    for i in range(df_professors.shape[0]):\n",
    "        try:\n",
    "            print(page[i])\n",
    "            html=s.get(page[i], verify=False).text\n",
    "            soup = BeautifulSoup(html, 'lxml')\n",
    "            text = str(soup.prettify())\n",
    "            phone = re.findall(\"403?[\\s.-]?\\d{3}[\\s.-]?\\d{4}\",text)\n",
    "            if phone:\n",
    "                df_professors.ix[i, 'Phone Number'] = phone[0] \n",
    "            # phone = re.findall(\"403?[\\s.-]?\\d{3}[\\s.-]?\\d{4}\",text)\n",
    "            building = re.findall(\"https:\\/\\/www\\.ucalgary\\.ca\\/map\\/contactlist\\/\\?Building=(.*)\",text)\n",
    "            if building:\n",
    "                df_professors.ix[i, 'Office'] = building[0].replace(\"&amp;Room=\", \" \").replace(\"\\\">\", \"\").replace(\"%20\", \"\")\n",
    "        except:\n",
    "            print(page[i])\n",
    "            "
   ]
  },
  {
   "cell_type": "code",
   "execution_count": 106,
   "outputs": [],
   "source": [
    "import os\n",
    "df_professors.to_csv(r'/home/bryce/schulich_profs.csv')      \n",
    "    \n",
    "\n",
    "    "
   ],
   "metadata": {
    "collapsed": false,
    "pycharm": {
     "name": "#%%\n",
     "is_executing": false
    }
   }
  },
  {
   "cell_type": "markdown",
   "metadata": {},
   "source": [
    "### part II (0.5 pt)\n",
    "\n",
    "In this part, you need to generate the following reports:\n",
    "  \n",
    "  \n",
    "* Number of Full professors\n",
    "* Number of Associate professors\n",
    "* Number of Assistant professors\n",
    "* Number of Instructor professors (Instructor, Senior Instructor, Teaching Professors)"
   ]
  },
  {
   "cell_type": "code",
   "execution_count": 102,
   "metadata": {
    "pycharm": {
     "is_executing": false
    }
   },
   "outputs": [
    {
     "name": "stdout",
     "text": [
      "174\nProfessors: 76\nAssistant Professors: 30\nAssociate Professors: 31\nInstructor Professors: 15\n228\n"
     ],
     "output_type": "stream"
    }
   ],
   "source": [
    "# Your solution goes here\n",
    "print(df_professors.shape[0])\n",
    "professors = df_professors.title.str.contains(\"Professor\").sum()\n",
    "assistant_professors = df_professors.title.str.contains(\"Assistant Professor\").sum()\n",
    "associate_professors = df_professors.title.str.contains(\"Associate Professor\").sum()\n",
    "instructor_professors = df_professors.title.str.contains(\"Teaching|Instructor\").sum()\n",
    "print(\"Professors: \" + str( professors-assistant_professors-associate_professors-instructor_professors))\n",
    "print(\"Assistant Professors: \" + str(assistant_professors))\n",
    "print(\"Associate Professors: \" + str(associate_professors))\n",
    "print(\"Instructor Professors: \" + str(instructor_professors))\n",
    "\n"
   ]
  },
  {
   "cell_type": "code",
   "execution_count": null,
   "outputs": [],
   "source": [
    "\n"
   ],
   "metadata": {
    "collapsed": false,
    "pycharm": {
     "name": "#%%\n"
    }
   }
  }
 ],
 "metadata": {
  "kernelspec": {
   "display_name": "Python 3",
   "language": "python",
   "name": "python3"
  },
  "language_info": {
   "codemirror_mode": {
    "name": "ipython",
    "version": 3
   },
   "file_extension": ".py",
   "mimetype": "text/x-python",
   "name": "python",
   "nbconvert_exporter": "python",
   "pygments_lexer": "ipython3",
   "version": "3.7.4"
  },
  "pycharm": {
   "stem_cell": {
    "cell_type": "raw",
    "source": [],
    "metadata": {
     "collapsed": false
    }
   }
  }
 },
 "nbformat": 4,
 "nbformat_minor": 2
}