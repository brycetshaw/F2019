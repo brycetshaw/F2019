{
 "cells": [
  {
   "cell_type": "markdown",
   "metadata": {},
   "source": [
    "## Updates:\n",
    "- Solutions posted for A07, A08, A09.\n",
    "- Marks for A07 and A08 will be entered by end of week.\n",
    "- Instructions posted for final exam.\n",
    "- Meet Friday Dec 6, 13:45 in front of ICT 320 for those interested in seeing the rooms.\n",
    "- Please contact me if you have concerns about using your own laptop for the final."
   ]
  },
  {
   "cell_type": "markdown",
   "metadata": {},
   "source": [
    "## Jupyter in the cloud:\n",
    "\n",
    "https://ucalgary.syzygy.ca\n"
   ]
  },
  {
   "cell_type": "markdown",
   "metadata": {},
   "source": [
    "## 3. Files and strings\n",
    "Write a function `extract_abstract()` that takes a filename, `9908043.txt` as parameter. The function checks if the file exists and if it exists, extracts the abstract and saves the text of the abstract in a new file with name `9908043_abstract.txt`.\n",
    "\n",
    "The abstract is the text follwing the first occurence of `{\\bf` until `}`.\n",
    "\n",
    "Write a program that uses this function to extract the abstract in the file `9908043.txt`. In this file, the abstract starts with:\n",
    ">Computers are physical systems: ...\n",
    "\n",
    "\n"
   ]
  },
  {
   "cell_type": "markdown",
   "metadata": {},
   "source": [
    "### Print a file boiler plate"
   ]
  },
  {
   "cell_type": "code",
   "execution_count": null,
   "metadata": {},
   "outputs": [],
   "source": [
    "with open('9908043.txt', mode='r') as fin:\n",
    "    i = 1\n",
    "    for line in fin:\n",
    "        print(\"{}: {}\".format(i, repr(line)))\n",
    "        i +=1"
   ]
  },
  {
   "cell_type": "markdown",
   "metadata": {},
   "source": [
    "### Solving the problem"
   ]
  },
  {
   "cell_type": "code",
   "execution_count": null,
   "metadata": {},
   "outputs": [],
   "source": [
    "\n",
    "def extract_abstract(fname):\n",
    "    try:\n",
    "        fout_name = fname.split('.')[0] + '_abstract.txt' #9908043_abstract.txt\n",
    "        with open(fname, mode='r') as fin:\n",
    "            abstract=''\n",
    "            recording=False\n",
    "\n",
    "            for line in fin:\n",
    "                if line.startswith(r'{\\bf') or recording:\n",
    "                    abstract += line + ' '\n",
    "                    recording=True\n",
    "                if line.strip().endswith(r'}') and recording:\n",
    "                    break\n",
    "\n",
    "        print(abstract)\n",
    "\n",
    "        with open(fout_name, mode='w') as fout:\n",
    "            fout.write(abstract)\n",
    "    except:\n",
    "        print('something went wrong')"
   ]
  },
  {
   "cell_type": "code",
   "execution_count": null,
   "metadata": {},
   "outputs": [],
   "source": [
    "fname ='9908043-aaa.txt'\n",
    "extract_abstract(fname)"
   ]
  },
  {
   "cell_type": "code",
   "execution_count": null,
   "metadata": {},
   "outputs": [],
   "source": [
    "fname ='9908043.txt'\n",
    "fname.split('.')[0] + '_abstract.txt'"
   ]
  }
 ],
 "metadata": {
  "kernelspec": {
   "display_name": "Python 3",
   "language": "python",
   "name": "python3"
  },
  "language_info": {
   "codemirror_mode": {
    "name": "ipython",
    "version": 3
   },
   "file_extension": ".py",
   "mimetype": "text/x-python",
   "name": "python",
   "nbconvert_exporter": "python",
   "pygments_lexer": "ipython3",
   "version": "3.7.4"
  }
 },
 "nbformat": 4,
 "nbformat_minor": 2
}
