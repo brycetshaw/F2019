{
 "cells": [
  {
   "cell_type": "markdown",
   "metadata": {},
   "source": [
    "## Notebook widgets - buttons\n",
    "Collect customer satisfaction by pressing buttons"
   ]
  },
  {
   "cell_type": "code",
   "execution_count": 1,
   "metadata": {},
   "outputs": [
    {
     "data": {
      "application/vnd.jupyter.widget-view+json": {
       "model_id": "80af057f47704637a5a4fb317dcc2259",
       "version_major": 2,
       "version_minor": 0
      },
      "text/plain": [
       "Button(description='Happy', style=ButtonStyle())"
      ]
     },
     "metadata": {},
     "output_type": "display_data"
    },
    {
     "data": {
      "application/vnd.jupyter.widget-view+json": {
       "model_id": "147ee5c437574ac5974ac2c00a885a05",
       "version_major": 2,
       "version_minor": 0
      },
      "text/plain": [
       "Button(description='Sad', style=ButtonStyle())"
      ]
     },
     "metadata": {},
     "output_type": "display_data"
    },
    {
     "name": "stdout",
     "output_type": "stream",
     "text": [
      "2019-11-29 10:43:31,  Happy\n",
      "2019-11-29 10:43:33,  Sad\n",
      "2019-11-29 10:43:34,  Sad\n",
      "2019-11-29 10:43:35,  Happy\n",
      "2019-11-29 10:43:36,  Happy\n"
     ]
    }
   ],
   "source": [
    "import numpy as np\n",
    "import pandas as pd\n",
    "\n",
    "import ipywidgets as widgets\n",
    "from IPython.display import display\n",
    "from datetime import datetime\n",
    " \n",
    "btn = widgets.Button(description='Happy')\n",
    "other_btn = widgets.Button(description='Sad')\n",
    "display(btn)\n",
    "display(other_btn)\n",
    "\n",
    "stamps = []\n",
    "btns = []\n",
    "\n",
    "def my_event_handler(btn_object):\n",
    "    stamp = datetime.now().strftime('%Y-%m-%d %H:%M:%S')\n",
    "    print('{},  {}'.format(stamp, btn_object.description))\n",
    "    stamps.append(stamp)\n",
    "    btns.append(btn_object.description)\n",
    " \n",
    "btn.on_click(my_event_handler)\n",
    "other_btn.on_click(my_event_handler)"
   ]
  },
  {
   "cell_type": "code",
   "execution_count": 2,
   "metadata": {},
   "outputs": [
    {
     "data": {
      "text/plain": [
       "['2019-11-29 10:43:31',\n",
       " '2019-11-29 10:43:33',\n",
       " '2019-11-29 10:43:34',\n",
       " '2019-11-29 10:43:35',\n",
       " '2019-11-29 10:43:36']"
      ]
     },
     "execution_count": 2,
     "metadata": {},
     "output_type": "execute_result"
    }
   ],
   "source": [
    "stamps"
   ]
  },
  {
   "cell_type": "code",
   "execution_count": 3,
   "metadata": {},
   "outputs": [],
   "source": [
    "df_sat = pd.DataFrame({'when': stamps, 'button': btns})"
   ]
  },
  {
   "cell_type": "code",
   "execution_count": 4,
   "metadata": {},
   "outputs": [
    {
     "data": {
      "text/html": [
       "<div>\n",
       "<style scoped>\n",
       "    .dataframe tbody tr th:only-of-type {\n",
       "        vertical-align: middle;\n",
       "    }\n",
       "\n",
       "    .dataframe tbody tr th {\n",
       "        vertical-align: top;\n",
       "    }\n",
       "\n",
       "    .dataframe thead th {\n",
       "        text-align: right;\n",
       "    }\n",
       "</style>\n",
       "<table border=\"1\" class=\"dataframe\">\n",
       "  <thead>\n",
       "    <tr style=\"text-align: right;\">\n",
       "      <th></th>\n",
       "      <th>when</th>\n",
       "      <th>button</th>\n",
       "    </tr>\n",
       "  </thead>\n",
       "  <tbody>\n",
       "    <tr>\n",
       "      <td>0</td>\n",
       "      <td>2019-11-29 10:43:31</td>\n",
       "      <td>Happy</td>\n",
       "    </tr>\n",
       "    <tr>\n",
       "      <td>1</td>\n",
       "      <td>2019-11-29 10:43:33</td>\n",
       "      <td>Sad</td>\n",
       "    </tr>\n",
       "    <tr>\n",
       "      <td>2</td>\n",
       "      <td>2019-11-29 10:43:34</td>\n",
       "      <td>Sad</td>\n",
       "    </tr>\n",
       "    <tr>\n",
       "      <td>3</td>\n",
       "      <td>2019-11-29 10:43:35</td>\n",
       "      <td>Happy</td>\n",
       "    </tr>\n",
       "    <tr>\n",
       "      <td>4</td>\n",
       "      <td>2019-11-29 10:43:36</td>\n",
       "      <td>Happy</td>\n",
       "    </tr>\n",
       "  </tbody>\n",
       "</table>\n",
       "</div>"
      ],
      "text/plain": [
       "                  when button\n",
       "0  2019-11-29 10:43:31  Happy\n",
       "1  2019-11-29 10:43:33    Sad\n",
       "2  2019-11-29 10:43:34    Sad\n",
       "3  2019-11-29 10:43:35  Happy\n",
       "4  2019-11-29 10:43:36  Happy"
      ]
     },
     "execution_count": 4,
     "metadata": {},
     "output_type": "execute_result"
    }
   ],
   "source": [
    "df_sat"
   ]
  },
  {
   "cell_type": "code",
   "execution_count": null,
   "metadata": {},
   "outputs": [],
   "source": []
  }
 ],
 "metadata": {
  "kernelspec": {
   "display_name": "Python 3",
   "language": "python",
   "name": "python3"
  },
  "language_info": {
   "codemirror_mode": {
    "name": "ipython",
    "version": 3
   },
   "file_extension": ".py",
   "mimetype": "text/x-python",
   "name": "python",
   "nbconvert_exporter": "python",
   "pygments_lexer": "ipython3",
   "version": "3.7.4"
  }
 },
 "nbformat": 4,
 "nbformat_minor": 2
}
