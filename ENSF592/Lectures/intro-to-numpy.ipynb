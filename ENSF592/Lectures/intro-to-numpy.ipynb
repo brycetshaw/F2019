{
 "cells": [
  {
   "cell_type": "code",
   "execution_count": 40,
   "metadata": {
    "pycharm": {
     "is_executing": false
    }
   },
   "outputs": [],
   "source": [
    "import numpy as np"
   ]
  },
  {
   "cell_type": "markdown",
   "metadata": {},
   "source": [
    "## Create numpy arrays\n",
    "```python\n",
    ">>> np.zeros((3,4))\n",
    ">>> np.ones((2,3,4),dtype=np.int16) \n",
    ">>> d = np.arange(10,25,5)\n",
    ">>> np.linspace(0,2,9)\n",
    "```"
   ]
  },
  {
   "cell_type": "code",
   "execution_count": 41,
   "metadata": {
    "pycharm": {
     "is_executing": false
    }
   },
   "outputs": [
    {
     "data": {
      "text/plain": "array([1, 2, 3, 4])"
     },
     "metadata": {},
     "output_type": "execute_result",
     "execution_count": 41
    }
   ],
   "source": [
    "# From a list\n",
    "a = np.array([1, 2, 3, 4])\n",
    "a"
   ]
  },
  {
   "cell_type": "markdown",
   "metadata": {},
   "source": [
    "### Random arrays"
   ]
  },
  {
   "cell_type": "code",
   "execution_count": 42,
   "metadata": {
    "pycharm": {
     "is_executing": false
    }
   },
   "outputs": [
    {
     "name": "stdout",
     "text": [
      "(5, 2) \n [22.34458463 23.87612186] \n [22.34458463 26.03863924 26.20676545 27.5857451  24.56599398] \n 1.7257306953985907\n"
     ],
     "output_type": "stream"
    }
   ],
   "source": [
    "ranstat = np.random.RandomState(1988)\n",
    "tc = ranstat.normal(25.0, 2.0, size=(5,2))\n",
    "print(\n",
    "tc.shape, '\\n',\n",
    "tc[0], '\\n',\n",
    "tc[:,0], '\\n',\n",
    "tc.std()\n",
    ")"
   ]
  },
  {
   "cell_type": "markdown",
   "metadata": {},
   "source": [
    "## Array math"
   ]
  },
  {
   "cell_type": "code",
   "execution_count": 43,
   "metadata": {
    "pycharm": {
     "is_executing": false
    }
   },
   "outputs": [
    {
     "data": {
      "text/plain": "array([[72.22025234, 74.97701935],\n       [78.86955063, 74.25682371],\n       [79.17217782, 72.05395819],\n       [81.65434119, 75.39951728],\n       [76.21878917, 72.44794676]])"
     },
     "metadata": {},
     "output_type": "execute_result",
     "execution_count": 43
    }
   ],
   "source": [
    "# direct math\n",
    "tf = (9/5) * tc + 32\n",
    "tf"
   ]
  },
  {
   "cell_type": "code",
   "execution_count": 44,
   "metadata": {
    "pycharm": {
     "is_executing": false
    }
   },
   "outputs": [
    {
     "data": {
      "text/plain": "array([[ 94.56483698,  98.85314121],\n       [104.90818986,  97.73283688],\n       [105.37894327,  94.30615719],\n       [109.24008629,  99.51036021],\n       [100.78478315,  94.91902829]])"
     },
     "metadata": {},
     "output_type": "execute_result",
     "execution_count": 44
    }
   ],
   "source": [
    "# add two arrays of same shape\n",
    "tc + tf"
   ]
  },
  {
   "cell_type": "code",
   "execution_count": 45,
   "metadata": {
    "pycharm": {
     "is_executing": false
    }
   },
   "outputs": [
    {
     "data": {
      "text/plain": "array([[72.22025234, 74.97701935],\n       [78.86955063, 74.25682371],\n       [79.17217782, 72.05395819],\n       [81.65434119, 75.39951728],\n       [76.21878917, 72.44794676]])"
     },
     "metadata": {},
     "output_type": "execute_result",
     "execution_count": 45
    }
   ],
   "source": [
    "# map a function\n",
    "c_to_f = lambda x: (9/5)*x+32\n",
    "\n",
    "tf2 = np.array(list(map(c_to_f, tc)))\n",
    "tf2"
   ]
  },
  {
   "cell_type": "code",
   "execution_count": 46,
   "metadata": {
    "pycharm": {
     "is_executing": false
    }
   },
   "outputs": [
    {
     "data": {
      "text/plain": "True"
     },
     "metadata": {},
     "output_type": "execute_result",
     "execution_count": 46
    }
   ],
   "source": [
    "# Are these two arrays equal?\n",
    "np.array_equal(tf, tf2)"
   ]
  },
  {
   "cell_type": "code",
   "execution_count": 47,
   "metadata": {
    "pycharm": {
     "is_executing": false
    }
   },
   "outputs": [
    {
     "name": "stdout",
     "text": [
      " array_equal(*args, **kwargs)\n\nTrue if two arrays have the same shape and elements, False otherwise.\n\nParameters\n----------\na1, a2 : array_like\n    Input arrays.\n\nReturns\n-------\nb : bool\n    Returns True if the arrays are equal.\n\nSee Also\n--------\nallclose: Returns True if two arrays are element-wise equal within a\n          tolerance.\narray_equiv: Returns True if input arrays are shape consistent and all\n             elements equal.\n\nExamples\n--------\n>>> np.array_equal([1, 2], [1, 2])\nTrue\n>>> np.array_equal(np.array([1, 2]), np.array([1, 2]))\nTrue\n>>> np.array_equal([1, 2], [1, 2, 3])\nFalse\n>>> np.array_equal([1, 2], [1, 4])\nFalse\n"
     ],
     "output_type": "stream"
    }
   ],
   "source": [
    "np.info(np.array_equal)"
   ]
  },
  {
   "cell_type": "code",
   "execution_count": 48,
   "metadata": {
    "pycharm": {
     "is_executing": false
    }
   },
   "outputs": [],
   "source": [
    "# vectorize a function\n"
   ]
  },
  {
   "cell_type": "markdown",
   "metadata": {},
   "source": [
    "## Array manipulation"
   ]
  },
  {
   "cell_type": "code",
   "execution_count": 49,
   "metadata": {
    "pycharm": {
     "is_executing": false
    }
   },
   "outputs": [
    {
     "data": {
      "text/plain": "array([[22.34458463, 23.87612186, 72.22025234, 74.97701935],\n       [26.03863924, 23.47601317, 78.86955063, 74.25682371],\n       [26.20676545, 22.252199  , 79.17217782, 72.05395819],\n       [27.5857451 , 24.11084293, 81.65434119, 75.39951728],\n       [24.56599398, 22.47108153, 76.21878917, 72.44794676]])"
     },
     "metadata": {},
     "output_type": "execute_result",
     "execution_count": 49
    }
   ],
   "source": [
    "t = np.hstack((tc, tf))\n",
    "t"
   ]
  },
  {
   "cell_type": "markdown",
   "metadata": {},
   "source": [
    "## Load data from file\n",
    "\n",
    "Using `np.genfromtxt()`"
   ]
  },
  {
   "cell_type": "code",
   "execution_count": 50,
   "metadata": {
    "pycharm": {
     "is_executing": false
    }
   },
   "outputs": [],
   "source": [
    "# skip first row\n",
    "da = np.genfromtxt('data.csv', delimiter=',',skip_header=1,dtype=float)"
   ]
  },
  {
   "cell_type": "code",
   "execution_count": 51,
   "metadata": {
    "pycharm": {
     "is_executing": false
    }
   },
   "outputs": [
    {
     "data": {
      "text/plain": "(293, 14)"
     },
     "metadata": {},
     "output_type": "execute_result",
     "execution_count": 51
    }
   ],
   "source": [
    "da.shape"
   ]
  },
  {
   "cell_type": "code",
   "execution_count": 52,
   "metadata": {
    "pycharm": {
     "is_executing": false
    }
   },
   "outputs": [
    {
     "data": {
      "text/plain": "array([[ 28.,   1.,   2., 130., 132.,   0.,   2., 185.,   0.,   0.,  nan,\n         nan,  nan,   0.],\n       [ 29.,   1.,   2., 120., 243.,   0.,   0., 160.,   0.,   0.,  nan,\n         nan,  nan,   0.],\n       [ 29.,   1.,   2., 140.,  nan,   0.,   0., 170.,   0.,   0.,  nan,\n         nan,  nan,   0.],\n       [ 30.,   0.,   1., 170., 237.,   0.,   1., 170.,   0.,   0.,  nan,\n         nan,   6.,   0.],\n       [ 31.,   0.,   2., 100., 219.,   0.,   1., 150.,   0.,   0.,  nan,\n         nan,  nan,   0.]])"
     },
     "metadata": {},
     "output_type": "execute_result",
     "execution_count": 52
    }
   ],
   "source": [
    "da[:5,:]"
   ]
  },
  {
   "cell_type": "code",
   "execution_count": 53,
   "metadata": {
    "pycharm": {
     "is_executing": false
    }
   },
   "outputs": [
    {
     "name": "stdout",
     "text": [
      "[[ 28.   1.   2. 130. 132.   0.   2. 185.   0.   0.  nan  nan  nan   0.]\n [ 29.   1.   2. 120. 243.   0.   0. 160.   0.   0.  nan  nan  nan   0.]\n [ 29.   1.   2. 140.  nan   0.   0. 170.   0.   0.  nan  nan  nan   0.]\n [ 30.   0.   1. 170. 237.   0.   1. 170.   0.   0.  nan  nan   6.   0.]\n [ 31.   0.   2. 100. 219.   0.   1. 150.   0.   0.  nan  nan  nan   0.]]\n"
     ],
     "output_type": "stream"
    }
   ],
   "source": [
    "print(da[:5,:])"
   ]
  },
  {
   "cell_type": "code",
   "execution_count": 54,
   "metadata": {
    "pycharm": {
     "is_executing": false
    }
   },
   "outputs": [
    {
     "name": "stdout",
     "text": [
      "[[ 28.   1.   2. 130. 132.   0.   2. 185.   0.   0.  nan  nan  nan   0.]\n [ 29.   1.   2. 120. 243.   0.   0. 160.   0.   0.  nan  nan  nan   0.]\n [ 29.   1.   2. 140.  nan   0.   0. 170.   0.   0.  nan  nan  nan   0.]\n [ 30.   0.   1. 170. 237.   0.   1. 170.   0.   0.  nan  nan   6.   0.]\n [ 31.   0.   2. 100. 219.   0.   1. 150.   0.   0.  nan  nan  nan   0.]]\n"
     ],
     "output_type": "stream"
    }
   ],
   "source": [
    "with np.printoptions(precision=3):\n",
    "    print(da[:5,:])"
   ]
  },
  {
   "cell_type": "code",
   "execution_count": 55,
   "metadata": {
    "pycharm": {
     "is_executing": false
    }
   },
   "outputs": [
    {
     "name": "stdout",
     "text": [
      "[[ 28.0  1.0  2.0  130.0  132.0  0.0  2.0  185.0  0.0  0.0  nan  nan  nan\n   0.0]\n [ 29.0  1.0  2.0  120.0  243.0  0.0  0.0  160.0  0.0  0.0  nan  nan  nan\n   0.0]\n [ 29.0  1.0  2.0  140.0  nan  0.0  0.0  170.0  0.0  0.0  nan  nan  nan\n   0.0]\n [ 30.0  0.0  1.0  170.0  237.0  0.0  1.0  170.0  0.0  0.0  nan  nan  6.0\n   0.0]\n [ 31.0  0.0  2.0  100.0  219.0  0.0  1.0  150.0  0.0  0.0  nan  nan  nan\n   0.0]]\n"
     ],
     "output_type": "stream"
    }
   ],
   "source": [
    "with np.printoptions(formatter={'float': '{: 0.1f}'.format}):\n",
    "    print(da[:5,:])"
   ]
  },
  {
   "cell_type": "code",
   "execution_count": 56,
   "metadata": {
    "pycharm": {
     "is_executing": false
    }
   },
   "outputs": [],
   "source": [
    "# Use first row as column names\n",
    "da2 = np.genfromtxt('data.csv', delimiter=',',names=True,dtype=float)"
   ]
  },
  {
   "cell_type": "code",
   "execution_count": 57,
   "metadata": {
    "pycharm": {
     "is_executing": false
    }
   },
   "outputs": [
    {
     "data": {
      "text/plain": "('age',\n 'gender',\n 'cp',\n 'trestbps',\n 'chol',\n 'fbs',\n 'restecg',\n 'thalach',\n 'exang',\n 'oldpeak',\n 'slope',\n 'ca',\n 'thal',\n 'num')"
     },
     "metadata": {},
     "output_type": "execute_result",
     "execution_count": 57
    }
   ],
   "source": [
    "da2.dtype.names"
   ]
  },
  {
   "cell_type": "code",
   "execution_count": 58,
   "metadata": {
    "pycharm": {
     "is_executing": false
    }
   },
   "outputs": [
    {
     "data": {
      "text/plain": "array([28., 29., 29., 30., 31., 32., 32., 32., 33., 34., 34., 34., 35.,\n       35., 35., 35., 36., 36., 36., 36., 37., 37., 37., 37., 37., 37.,\n       37., 38., 38., 38., 39., 39., 39., 39., 39., 39., 39., 39., 39.,\n       39., 40., 40., 40., 40., 40., 41., 41., 41., 41., 41., 41., 41.,\n       42., 42., 42., 42., 42., 42., 42., 43., 43., 43., 43., 43., 43.,\n       43., 43., 44., 44., 44., 44., 45., 45., 45., 45., 45., 45., 45.,\n       46., 46., 46., 46., 46., 46., 46., 47., 47., 47., 47., 47., 48.,\n       48., 48., 48., 48., 48., 48., 48., 48., 48., 48., 49., 49., 49.,\n       49., 49., 49., 49., 49., 50., 50., 50., 50., 50., 50., 50., 51.,\n       51., 51., 51., 51., 51., 51., 52., 52., 52., 52., 52., 52., 52.,\n       52., 53., 53., 53., 53., 53., 53., 53., 53., 53., 54., 54., 54.,\n       54., 54., 54., 54., 54., 54., 54., 54., 54., 54., 54., 54., 54.,\n       55., 55., 55., 55., 55., 55., 55., 55., 55., 55., 56., 56., 56.,\n       56., 56., 57., 57., 57., 58., 58., 58., 58., 59., 59., 59., 59.,\n       59., 60., 61., 61., 62., 62., 31., 33., 34., 35., 36., 37., 38.,\n       38., 38., 40., 41., 41., 43., 46., 46., 46., 47., 47., 48., 48.,\n       48., 49., 49., 49., 50., 50., 51., 52., 54., 54., 55., 57., 58.,\n       59., 60., 63., 65., 32., 38., 39., 40., 43., 45., 46., 46., 48.,\n       48., 48., 48., 50., 52., 52., 53., 54., 54., 54., 54., 54., 55.,\n       56., 57., 58., 58., 41., 43., 44., 44., 46., 47., 48., 49., 49.,\n       51., 52., 52., 52., 52., 53., 53., 54., 55., 55., 55., 56., 56.,\n       56., 58., 59., 59., 65., 66., 41., 43., 44., 47., 47., 49., 49.,\n       50., 50., 52., 52., 54., 56., 58.])"
     },
     "metadata": {},
     "output_type": "execute_result",
     "execution_count": 58
    }
   ],
   "source": [
    "da2['age']"
   ]
  },
  {
   "cell_type": "markdown",
   "metadata": {},
   "source": [
    "## Summarize values\n",
    "What is the mean, std, min, max in each column?"
   ]
  },
  {
   "cell_type": "code",
   "execution_count": 59,
   "metadata": {
    "pycharm": {
     "is_executing": false
    }
   },
   "outputs": [
    {
     "data": {
      "text/plain": "array([47.76791809,  0.72354949,  2.97952218,         nan,         nan,\n               nan,         nan,         nan,         nan,  0.58464164,\n               nan,         nan,         nan,  0.35836177])"
     },
     "metadata": {},
     "output_type": "execute_result",
     "execution_count": 59
    }
   ],
   "source": [
    "da.mean(axis=0)"
   ]
  },
  {
   "cell_type": "code",
   "execution_count": 60,
   "metadata": {
    "pycharm": {
     "is_executing": false
    }
   },
   "outputs": [
    {
     "name": "stdout",
     "text": [
      "[4.77679181e+01 7.23549488e-01 2.97952218e+00 1.32592466e+02\n 2.50759259e+02 7.01754386e-02 2.15753425e-01 1.39212329e+02\n 3.01369863e-01 5.84641638e-01 1.89320388e+00 0.00000000e+00\n 5.64285714e+00 3.58361775e-01]\n"
     ],
     "output_type": "stream"
    }
   ],
   "source": [
    "print(np.nanmean(da,axis=0))"
   ]
  },
  {
   "cell_type": "code",
   "execution_count": 61,
   "metadata": {
    "pycharm": {
     "is_executing": false
    }
   },
   "outputs": [
    {
     "name": "stdout",
     "text": [
      "[ 47.77   0.72   2.98 132.59 250.76   0.07   0.22 139.21   0.3    0.58\n   1.89   0.     5.64   0.36]\n"
     ],
     "output_type": "stream"
    }
   ],
   "source": [
    "with np.printoptions(precision=2, suppress=True):\n",
    "    print(np.nanmean(da,axis=0))"
   ]
  },
  {
   "cell_type": "code",
   "execution_count": 62,
   "metadata": {
    "pycharm": {
     "is_executing": false
    }
   },
   "outputs": [
    {
     "name": "stdout",
     "text": [
      "[[28.  0.  1. nan nan nan nan nan nan  0. nan nan nan  0.]\n [66.  1.  4. nan nan nan nan nan nan  5. nan nan nan  1.]]\n"
     ],
     "output_type": "stream"
    }
   ],
   "source": [
    "da_min_max = np.vstack((da.min(axis=0), da.max(axis=0)))\n",
    "print(da_min_max)"
   ]
  },
  {
   "cell_type": "markdown",
   "metadata": {},
   "source": [
    "## Find nans\n",
    "How many nans in each column?"
   ]
  },
  {
   "cell_type": "code",
   "execution_count": 63,
   "metadata": {
    "pycharm": {
     "is_executing": false
    }
   },
   "outputs": [
    {
     "data": {
      "text/plain": "array([[False, False, False, ...,  True,  True, False],\n       [False, False, False, ...,  True,  True, False],\n       [False, False, False, ...,  True,  True, False],\n       ...,\n       [False, False, False, ...,  True,  True, False],\n       [False, False, False, ...,  True,  True, False],\n       [False, False, False, ...,  True, False, False]])"
     },
     "metadata": {},
     "output_type": "execute_result",
     "execution_count": 63
    }
   ],
   "source": [
    "np.isnan(da)"
   ]
  },
  {
   "cell_type": "code",
   "execution_count": 64,
   "metadata": {
    "pycharm": {
     "is_executing": false
    }
   },
   "outputs": [
    {
     "data": {
      "text/plain": "array([  0,   0,   0,   1,  23,   8,   1,   1,   1,   0, 190, 290, 265,\n         0])"
     },
     "metadata": {},
     "output_type": "execute_result",
     "execution_count": 64
    }
   ],
   "source": [
    "np.isnan(da).sum(axis=0)"
   ]
  },
  {
   "cell_type": "code",
   "execution_count": 65,
   "metadata": {
    "pycharm": {
     "is_executing": false
    }
   },
   "outputs": [
    {
     "name": "stdout",
     "text": [
      "[[ 28.   0.   1.   0.   0.   0.   0.   0.   0.   0.   0.   0.   0.   0.]\n [ 66.   1.   4. 200. 603.   1.   2. 190.   1.   5.   3.   0.   7.   1.]]\n"
     ],
     "output_type": "stream"
    }
   ],
   "source": [
    "da_no_nan = np.nan_to_num(da)\n",
    "\n",
    "da_min_max = np.vstack((da_no_nan.min(axis=0), da_no_nan.max(axis=0)))\n",
    "print(da_min_max)"
   ]
  },
  {
   "cell_type": "markdown",
   "metadata": {},
   "source": [
    "## Remove duplicate rows"
   ]
  },
  {
   "cell_type": "markdown",
   "metadata": {},
   "source": [
    "### Create an array with duplicate rows"
   ]
  },
  {
   "cell_type": "code",
   "execution_count": 66,
   "metadata": {
    "pycharm": {
     "is_executing": false
    }
   },
   "outputs": [
    {
     "data": {
      "text/plain": "array([[ 0,  1,  2,  3],\n       [ 4,  5,  6,  7],\n       [ 8,  9, 10, 11],\n       [12, 13, 14, 15],\n       [16, 17, 18, 19]])"
     },
     "metadata": {},
     "output_type": "execute_result",
     "execution_count": 66
    }
   ],
   "source": [
    "a = np.arange(20).reshape(5,4)\n",
    "a"
   ]
  },
  {
   "cell_type": "code",
   "execution_count": 67,
   "metadata": {
    "pycharm": {
     "is_executing": false
    }
   },
   "outputs": [
    {
     "data": {
      "text/plain": "array([3, 3, 0, 0, 2, 3, 2, 1, 4, 4])"
     },
     "metadata": {},
     "output_type": "execute_result",
     "execution_count": 67
    }
   ],
   "source": [
    "rand_idx = ranstat.choice(5, 10)\n",
    "rand_idx"
   ]
  },
  {
   "cell_type": "code",
   "execution_count": 68,
   "metadata": {
    "pycharm": {
     "is_executing": false
    }
   },
   "outputs": [
    {
     "data": {
      "text/plain": "array([[12, 13, 14, 15],\n       [12, 13, 14, 15],\n       [ 0,  1,  2,  3],\n       [ 0,  1,  2,  3],\n       [ 8,  9, 10, 11],\n       [12, 13, 14, 15],\n       [ 8,  9, 10, 11],\n       [ 4,  5,  6,  7],\n       [16, 17, 18, 19],\n       [16, 17, 18, 19]])"
     },
     "metadata": {},
     "output_type": "execute_result",
     "execution_count": 68
    }
   ],
   "source": [
    "dup = a[rand_idx]\n",
    "dup"
   ]
  },
  {
   "cell_type": "markdown",
   "metadata": {},
   "source": [
    "### Using `np.unique()`"
   ]
  },
  {
   "cell_type": "code",
   "execution_count": 69,
   "metadata": {
    "pycharm": {
     "is_executing": false
    }
   },
   "outputs": [
    {
     "data": {
      "text/plain": "array([[ 0,  1,  2,  3],\n       [ 4,  5,  6,  7],\n       [ 8,  9, 10, 11],\n       [12, 13, 14, 15],\n       [16, 17, 18, 19]])"
     },
     "metadata": {},
     "output_type": "execute_result",
     "execution_count": 69
    }
   ],
   "source": [
    "np.unique(dup, axis=0)"
   ]
  },
  {
   "cell_type": "markdown",
   "metadata": {},
   "source": [
    "### Another, pythonic way"
   ]
  },
  {
   "cell_type": "code",
   "execution_count": 70,
   "metadata": {
    "pycharm": {
     "is_executing": false
    }
   },
   "outputs": [
    {
     "name": "stderr",
     "text": [
      "/home/bryce/anaconda3/lib/python3.7/site-packages/ipykernel_launcher.py:1: FutureWarning: arrays to stack must be passed as a \"sequence\" type such as list or tuple. Support for non-sequence iterables such as generators is deprecated as of NumPy 1.16 and will raise an error in the future.\n  \"\"\"Entry point for launching an IPython kernel.\n"
     ],
     "output_type": "stream"
    },
    {
     "data": {
      "text/plain": "array([[ 8,  9, 10, 11],\n       [12, 13, 14, 15],\n       [16, 17, 18, 19],\n       [ 4,  5,  6,  7],\n       [ 0,  1,  2,  3]])"
     },
     "metadata": {},
     "output_type": "execute_result",
     "execution_count": 70
    }
   ],
   "source": [
    "np.vstack(set(map(tuple, dup)))"
   ]
  },
  {
   "cell_type": "markdown",
   "metadata": {},
   "source": [
    "## Count unique values (a histogram)"
   ]
  },
  {
   "cell_type": "code",
   "execution_count": 71,
   "metadata": {
    "pycharm": {
     "is_executing": false
    }
   },
   "outputs": [],
   "source": [
    "# view on ages column\n",
    "da_ages = da_no_nan[:,0]"
   ]
  },
  {
   "cell_type": "code",
   "execution_count": 72,
   "metadata": {
    "pycharm": {
     "is_executing": false
    }
   },
   "outputs": [
    {
     "name": "stdout",
     "text": [
      "[28. 29. 30. 31. 32. 33. 34. 35. 36. 37. 38. 39. 40. 41. 42. 43. 44. 45.\n 46. 47. 48. 49. 50. 51. 52. 53. 54. 55. 56. 57. 58. 59. 60. 61. 62. 63.\n 65. 66.]\n[ 1  2  1  2  4  2  4  5  5  8  7 11  7 11  7 12  7  8 13 10 19 15 12  9\n 17 12 25 15 10  5  9  8  2  2  2  1  2  1]\n"
     ],
     "output_type": "stream"
    }
   ],
   "source": [
    "ages, age_cnt = np.unique(da_ages, return_counts=True)\n",
    "print(ages)\n",
    "print(age_cnt)"
   ]
  },
  {
   "cell_type": "markdown",
   "metadata": {},
   "source": [
    "### What age splits the dataset in half?"
   ]
  },
  {
   "cell_type": "code",
   "execution_count": 73,
   "metadata": {
    "pycharm": {
     "is_executing": false
    }
   },
   "outputs": [
    {
     "data": {
      "text/plain": "(189,)"
     },
     "metadata": {},
     "output_type": "execute_result",
     "execution_count": 73
    }
   ],
   "source": [
    "da_ages[da_ages > 45].shape"
   ]
  },
  {
   "cell_type": "code",
   "execution_count": 74,
   "metadata": {
    "pycharm": {
     "is_executing": false
    }
   },
   "outputs": [
    {
     "data": {
      "text/plain": "array([  1,   3,   4,   6,  10,  12,  16,  21,  26,  34,  41,  52,  59,\n        70,  77,  89,  96, 104, 117, 127, 146, 161, 173, 182, 199, 211,\n       236, 251, 261, 266, 275, 283, 285, 287, 289, 290, 292, 293])"
     },
     "metadata": {},
     "output_type": "execute_result",
     "execution_count": 74
    }
   ],
   "source": [
    "np.cumsum(age_cnt)"
   ]
  },
  {
   "cell_type": "code",
   "execution_count": 75,
   "metadata": {
    "pycharm": {
     "is_executing": false
    }
   },
   "outputs": [
    {
     "data": {
      "text/plain": "21"
     },
     "metadata": {},
     "output_type": "execute_result",
     "execution_count": 75
    }
   ],
   "source": [
    "idx, = np.where(np.cumsum(age_cnt)>150)\n",
    "idx[0]"
   ]
  },
  {
   "cell_type": "code",
   "execution_count": 76,
   "metadata": {
    "pycharm": {
     "is_executing": false
    }
   },
   "outputs": [
    {
     "data": {
      "text/plain": "161"
     },
     "metadata": {},
     "output_type": "execute_result",
     "execution_count": 76
    }
   ],
   "source": [
    "np.cumsum(age_cnt)[idx[0]]"
   ]
  },
  {
   "cell_type": "code",
   "execution_count": 77,
   "metadata": {
    "pycharm": {
     "is_executing": false
    }
   },
   "outputs": [
    {
     "data": {
      "text/plain": "48.0"
     },
     "metadata": {},
     "output_type": "execute_result",
     "execution_count": 77
    }
   ],
   "source": [
    "ages[idx[0]-1]"
   ]
  },
  {
   "cell_type": "markdown",
   "metadata": {},
   "source": [
    "### Create a young/old category"
   ]
  },
  {
   "cell_type": "code",
   "execution_count": 78,
   "metadata": {
    "pycharm": {
     "is_executing": false
    }
   },
   "outputs": [
    {
     "data": {
      "text/plain": "array([0, 0, 0, 0, 0, 0, 0, 0, 0, 0, 0, 0, 0, 0, 0, 0, 0, 0, 0, 0, 0, 0,\n       0, 0, 0, 0, 0, 0, 0, 0, 0, 0, 0, 0, 0, 0, 0, 0, 0, 0, 0, 0, 0, 0,\n       0, 0, 0, 0, 0, 0, 0, 0, 0, 0, 0, 0, 0, 0, 0, 0, 0, 0, 0, 0, 0, 0,\n       0, 0, 0, 0, 0, 0, 0, 0, 0, 0, 0, 0, 0, 0, 0, 0, 0, 0, 0, 0, 0, 0,\n       0, 0, 0, 0, 0, 0, 0, 0, 0, 0, 0, 0, 0, 1, 1, 1, 1, 1, 1, 1, 1, 1,\n       1, 1, 1, 1, 1, 1, 1, 1, 1, 1, 1, 1, 1, 1, 1, 1, 1, 1, 1, 1, 1, 1,\n       1, 1, 1, 1, 1, 1, 1, 1, 1, 1, 1, 1, 1, 1, 1, 1, 1, 1, 1, 1, 1, 1,\n       1, 1, 1, 1, 1, 1, 1, 1, 1, 1, 1, 1, 1, 1, 1, 1, 1, 1, 1, 1, 1, 1,\n       1, 1, 1, 1, 1, 1, 1, 1, 1, 1, 1, 1, 0, 0, 0, 0, 0, 0, 0, 0, 0, 0,\n       0, 0, 0, 0, 0, 0, 0, 0, 0, 0, 0, 1, 1, 1, 1, 1, 1, 1, 1, 1, 1, 1,\n       1, 1, 1, 1, 1, 0, 0, 0, 0, 0, 0, 0, 0, 0, 0, 0, 0, 1, 1, 1, 1, 1,\n       1, 1, 1, 1, 1, 1, 1, 1, 1, 0, 0, 0, 0, 0, 0, 0, 1, 1, 1, 1, 1, 1,\n       1, 1, 1, 1, 1, 1, 1, 1, 1, 1, 1, 1, 1, 1, 1, 0, 0, 0, 0, 0, 1, 1,\n       1, 1, 1, 1, 1, 1, 1])"
     },
     "metadata": {},
     "output_type": "execute_result",
     "execution_count": 78
    }
   ],
   "source": [
    "da_age_young_old = np.where(da_ages>48, 1, 0) #1-> old, 0-> young\n",
    "da_age_young_old"
   ]
  },
  {
   "cell_type": "code",
   "execution_count": 79,
   "metadata": {
    "pycharm": {
     "is_executing": false
    }
   },
   "outputs": [
    {
     "data": {
      "text/plain": "array([28., 29., 29., 30., 31., 32., 32., 32., 33., 34., 34., 34., 35.,\n       35., 35., 35., 36., 36., 36., 36., 37., 37., 37., 37., 37., 37.,\n       37., 38., 38., 38., 39., 39., 39., 39., 39., 39., 39., 39., 39.,\n       39., 40., 40., 40., 40., 40., 41., 41., 41., 41., 41., 41., 41.,\n       42., 42., 42., 42., 42., 42., 42., 43., 43., 43., 43., 43., 43.,\n       43., 43., 44., 44., 44., 44., 45., 45., 45., 45., 45., 45., 45.,\n       46., 46., 46., 46., 46., 46., 46., 47., 47., 47., 47., 47., 48.,\n       48., 48., 48., 48., 48., 48., 48., 48., 48., 48., 49., 49., 49.,\n       49., 49., 49., 49., 49., 50., 50., 50., 50., 50., 50., 50., 51.,\n       51., 51., 51., 51., 51., 51., 52., 52., 52., 52., 52., 52., 52.,\n       52., 53., 53., 53., 53., 53., 53., 53., 53., 53., 54., 54., 54.,\n       54., 54., 54., 54., 54., 54., 54., 54., 54., 54., 54., 54., 54.,\n       55., 55., 55., 55., 55., 55., 55., 55., 55., 55., 56., 56., 56.,\n       56., 56., 57., 57., 57., 58., 58., 58., 58., 59., 59., 59., 59.,\n       59., 60., 61., 61., 62., 62., 31., 33., 34., 35., 36., 37., 38.,\n       38., 38., 40., 41., 41., 43., 46., 46., 46., 47., 47., 48., 48.,\n       48., 49., 49., 49., 50., 50., 51., 52., 54., 54., 55., 57., 58.,\n       59., 60., 63., 65., 32., 38., 39., 40., 43., 45., 46., 46., 48.,\n       48., 48., 48., 50., 52., 52., 53., 54., 54., 54., 54., 54., 55.,\n       56., 57., 58., 58., 41., 43., 44., 44., 46., 47., 48., 49., 49.,\n       51., 52., 52., 52., 52., 53., 53., 54., 55., 55., 55., 56., 56.,\n       56., 58., 59., 59., 65., 66., 41., 43., 44., 47., 47., 49., 49.,\n       50., 50., 52., 52., 54., 56., 58.])"
     },
     "metadata": {},
     "output_type": "execute_result",
     "execution_count": 79
    }
   ],
   "source": [
    "da_ages"
   ]
  },
  {
   "cell_type": "markdown",
   "metadata": {},
   "source": [
    "## Compare young and old"
   ]
  },
  {
   "cell_type": "code",
   "execution_count": 80,
   "metadata": {
    "pycharm": {
     "is_executing": false
    }
   },
   "outputs": [
    {
     "data": {
      "text/plain": "array([130., 120., 140., 170., 100., 105., 110., 125., 120., 130., 150.,\n        98., 120., 140., 120., 150., 120., 112., 130., 150., 120., 130.,\n       130., 130., 130., 120., 130., 120., 140., 145., 110., 120., 120.,\n       120., 130., 190., 120., 160., 110., 130., 130., 140., 130., 130.,\n       140., 110., 125., 130., 120., 120., 125., 112., 115., 120., 120.,\n       150., 120., 160., 140., 100., 120., 120., 120., 120., 150., 150.,\n       142., 120., 120., 130., 150., 130., 180., 132., 140., 135., 120.,\n       140., 130., 140., 120., 150., 110., 110., 180., 140., 130., 110.,\n       160., 140.,   0., 120., 120., 120., 108., 120., 150., 100., 130.,\n       140., 110., 110., 110., 124., 130., 100., 140., 120., 140., 110.,\n       120., 120., 140., 170., 140., 150., 160., 110., 130., 150., 125.,\n       130., 130., 120., 140., 125., 130., 120., 140., 160., 140., 113.,\n       140., 120., 120., 140., 120., 124., 130., 140., 120., 120., 120.,\n       130., 140., 150., 160., 120., 110., 120., 120., 160., 160., 120.,\n       150., 150., 110., 122., 130., 120., 140., 145., 110., 120., 120.,\n       140., 130., 130., 130., 130., 120., 130., 180., 140., 130., 130.,\n       140., 135., 130., 140., 130., 180., 140., 120., 130., 125., 160.,\n       140., 120., 100., 140., 110., 120., 140., 110., 120.,  92., 120.,\n       110., 120., 150., 110., 118., 120., 140., 150., 106., 120., 160.,\n       160., 115., 130., 140., 145., 160., 130., 125., 125., 140., 140.,\n       130., 130., 100., 150., 140., 118., 110., 110., 150., 120., 130.,\n       120., 130., 122., 160., 160., 160., 130., 120., 170., 120., 120.,\n       130., 130., 140., 200., 140., 150., 150., 160., 130., 130., 120.,\n       150., 130., 140., 135., 138., 130., 140., 135., 112., 130., 140.,\n       160., 145., 180., 140., 140., 160., 145., 120., 150., 170., 136.,\n       130., 140., 170., 140., 120., 140., 135., 120., 160., 128., 150.,\n       140., 140., 140., 160., 130., 155., 180.])"
     },
     "metadata": {},
     "output_type": "execute_result",
     "execution_count": 80
    }
   ],
   "source": [
    "#view on blood pressure\n",
    "da_bp = da_no_nan[:,3]\n",
    "da_bp"
   ]
  },
  {
   "cell_type": "code",
   "execution_count": 81,
   "metadata": {
    "pycharm": {
     "is_executing": false
    }
   },
   "outputs": [
    {
     "data": {
      "text/plain": "136.01360544217687"
     },
     "metadata": {},
     "output_type": "execute_result",
     "execution_count": 81
    }
   ],
   "source": [
    "bp_old = da_bp[da_ages>48].mean()\n",
    "bp_old"
   ]
  },
  {
   "cell_type": "code",
   "execution_count": 82,
   "metadata": {
    "pycharm": {
     "is_executing": false
    }
   },
   "outputs": [
    {
     "data": {
      "text/plain": "128.23972602739727"
     },
     "metadata": {},
     "output_type": "execute_result",
     "execution_count": 82
    }
   ],
   "source": [
    "bp_young = da_bp[~(da_ages>48)].mean()\n",
    "bp_young"
   ]
  },
  {
   "cell_type": "code",
   "execution_count": 83,
   "metadata": {
    "pycharm": {
     "is_executing": false
    }
   },
   "outputs": [
    {
     "data": {
      "text/plain": "7.7738794147796"
     },
     "metadata": {},
     "output_type": "execute_result",
     "execution_count": 83
    }
   ],
   "source": [
    "bp_old - bp_young"
   ]
  },
  {
   "cell_type": "markdown",
   "metadata": {},
   "source": [
    "Is this significant?"
   ]
  },
  {
   "cell_type": "code",
   "execution_count": 83,
   "metadata": {
    "pycharm": {
     "is_executing": false
    }
   },
   "outputs": [],
   "source": []
  }
 ],
 "metadata": {
  "@webio": {
   "lastCommId": null,
   "lastKernelId": null
  },
  "kernelspec": {
   "display_name": "Python 3",
   "language": "python",
   "name": "python3"
  },
  "language_info": {
   "codemirror_mode": {
    "name": "ipython",
    "version": 3
   },
   "file_extension": ".py",
   "mimetype": "text/x-python",
   "name": "python",
   "nbconvert_exporter": "python",
   "pygments_lexer": "ipython3",
   "version": "3.7.4"
  },
  "pycharm": {
   "stem_cell": {
    "cell_type": "raw",
    "source": [],
    "metadata": {
     "collapsed": false
    }
   }
  }
 },
 "nbformat": 4,
 "nbformat_minor": 2
}