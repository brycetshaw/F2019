{
 "cells": [
  {
   "cell_type": "markdown",
   "metadata": {},
   "source": [
    "# Web scraping\n",
    "## The goal\n",
    "Create a DataFrame with info on ECE faculty scraped from the department homepage  \n",
    "https://schulich.ucalgary.ca/departments/electrical-and-computer-engineering/faculty  \n",
    "\n",
    "## The tools and resources\n",
    "1. requests (to obtain html from webservers) https://realpython.com/python-requests/\n",
    "\n",
    "2. Beatifulsoup (to parse html and find things) https://www.crummy.com/software/BeautifulSoup/bs4/doc/\n",
    "\n",
    "You might also like to read Chapter 1 Your First Web Scraper in Web Scraping with Python, 2nd Ed by Ryan Mitchell available online through the UofC library. Code is on github too https://github.com/REMitchell/python-scraping\n",
    "\n",
    "For some more html exposure, when navigating the web, do right-click and 'view source' and check if your browser has right-click->'Inspect Element'. Safari on mac does and Chrome does too."
   ]
  },
  {
   "cell_type": "markdown",
   "metadata": {},
   "source": [
    "## 1. Obtain html from web"
   ]
  },
  {
   "cell_type": "code",
   "execution_count": null,
   "metadata": {},
   "outputs": [],
   "source": [
    "import requests"
   ]
  },
  {
   "cell_type": "code",
   "execution_count": null,
   "metadata": {},
   "outputs": [],
   "source": [
    "python_scraping_url = 'http://pythonscraping.com/pages/page1.html'\n",
    "python_scraping_url2= 'http://www.pythonscraping.com/pages/warandpeace.html'\n",
    "python_scraping_url3 = 'http://pythonscraping.com/pages/page3.html'\n",
    "schulich_url = \"https://schulich.ucalgary.ca/departments/electrical-and-computer-engineering/faculty\"\n",
    "\n",
    "\n"
   ]
  },
  {
   "cell_type": "code",
   "execution_count": null,
   "metadata": {},
   "outputs": [],
   "source": [
    "requests.get?\n",
    "\n",
    "# Not very useful, check out doc?\n",
    "# https://3.python-requests.org"
   ]
  },
  {
   "cell_type": "code",
   "execution_count": null,
   "metadata": {},
   "outputs": [],
   "source": [
    "response=requests.get(python_scraping_url)\n",
    "response"
   ]
  },
  {
   "cell_type": "code",
   "execution_count": null,
   "metadata": {},
   "outputs": [],
   "source": [
    "response.headers"
   ]
  },
  {
   "cell_type": "code",
   "execution_count": null,
   "metadata": {},
   "outputs": [],
   "source": [
    "print(response.text)"
   ]
  },
  {
   "cell_type": "markdown",
   "metadata": {},
   "source": [
    "## 2. Parse HTML with Beautifulsoup"
   ]
  },
  {
   "cell_type": "code",
   "execution_count": null,
   "metadata": {},
   "outputs": [],
   "source": [
    "from bs4 import BeautifulSoup"
   ]
  },
  {
   "cell_type": "code",
   "execution_count": null,
   "metadata": {},
   "outputs": [],
   "source": [
    "response=requests.get(python_scraping_url2)\n",
    "soup = BeautifulSoup(response.text, 'lxml')\n",
    "print(soup.prettify())"
   ]
  },
  {
   "cell_type": "markdown",
   "metadata": {},
   "source": [
    "## 3. Find stuff with Beautifulsoup\n",
    "**Top-down:** Follow Web scraping with python Ch 1 and Ch2  \n",
    "**Bottom-up:** Follow Beautifulsoup doc\n",
    "\n",
    "- access elements directly\n",
    "- stripped_strings()\n",
    "- find_all()\n",
    "- find()"
   ]
  },
  {
   "cell_type": "code",
   "execution_count": null,
   "metadata": {},
   "outputs": [],
   "source": [
    "soup.div"
   ]
  },
  {
   "cell_type": "code",
   "execution_count": null,
   "metadata": {},
   "outputs": [],
   "source": [
    "soup.div.text"
   ]
  },
  {
   "cell_type": "code",
   "execution_count": null,
   "metadata": {},
   "outputs": [],
   "source": [
    "soup.find_all('span', class_='green')"
   ]
  },
  {
   "cell_type": "code",
   "execution_count": null,
   "metadata": {},
   "outputs": [],
   "source": [
    "for green in soup.find_all('span', class_='green'):\n",
    "    print(green.text)"
   ]
  },
  {
   "cell_type": "code",
   "execution_count": null,
   "metadata": {},
   "outputs": [],
   "source": [
    "for string in soup.stripped_strings:\n",
    "    print(string)"
   ]
  },
  {
   "cell_type": "code",
   "execution_count": null,
   "metadata": {},
   "outputs": [],
   "source": [
    "for string in soup.body.stripped_strings:\n",
    "    print(string)"
   ]
  },
  {
   "cell_type": "code",
   "execution_count": null,
   "metadata": {},
   "outputs": [],
   "source": [
    "response = requests.get('http://pythonscraping.com/pages/page3.html')\n",
    "soup = BeautifulSoup(response.text, 'lxml')\n",
    "print(soup.prettify())"
   ]
  },
  {
   "cell_type": "code",
   "execution_count": null,
   "metadata": {},
   "outputs": [],
   "source": [
    "for item in soup.find_all('tr', class_='gift'):\n",
    "    print(item.td.text)"
   ]
  },
  {
   "cell_type": "markdown",
   "metadata": {},
   "source": [
    "### Using regular expressions"
   ]
  },
  {
   "cell_type": "code",
   "execution_count": null,
   "metadata": {},
   "outputs": [],
   "source": [
    "import re"
   ]
  },
  {
   "cell_type": "code",
   "execution_count": null,
   "metadata": {},
   "outputs": [],
   "source": [
    "for image in soup.find_all(src=re.compile(r'^\\.\\.')):\n",
    "    print(image['src'])"
   ]
  },
  {
   "cell_type": "markdown",
   "metadata": {},
   "source": [
    "## 4. Schulich site"
   ]
  },
  {
   "cell_type": "code",
   "execution_count": null,
   "metadata": {},
   "outputs": [],
   "source": [
    "# get webpage\n",
    "\n",
    "# parse with bs\n",
    "\n",
    "# find things\n",
    "#    - get each row in the correct div\n",
    "#    - get stripped_strings to build name and title\n",
    "#    - use find_all href with regex mailto\n",
    "#    - use find_all href with regex /contents"
   ]
  }
 ],
 "metadata": {
  "@webio": {
   "lastCommId": null,
   "lastKernelId": null
  },
  "kernelspec": {
   "display_name": "Python 3",
   "language": "python",
   "name": "python3"
  },
  "language_info": {
   "codemirror_mode": {
    "name": "ipython",
    "version": 3
   },
   "file_extension": ".py",
   "mimetype": "text/x-python",
   "name": "python",
   "nbconvert_exporter": "python",
   "pygments_lexer": "ipython3",
   "version": "3.7.4"
  }
 },
 "nbformat": 4,
 "nbformat_minor": 2
}
