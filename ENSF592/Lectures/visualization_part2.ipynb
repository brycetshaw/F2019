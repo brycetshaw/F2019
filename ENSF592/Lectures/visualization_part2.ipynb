{
 "cells": [
  {
   "cell_type": "markdown",
   "metadata": {},
   "source": [
    "# Visualization part 2\n",
    "\n",
    "## Topics\n",
    "1. Plotting summary from video\n",
    "2. Seaborn colors and styles\n",
    "3. Case study: visualizing customer satisfaction\n",
    "\n",
    "## Resources\n",
    "1. Ch 9 in Python for Data Analysis, 2nd Ed, Wes McKinney (UCalgary library and https://github.com/wesm/pydata-book)\n",
    "2. Ch 4 in Python Data Science Handbook, Jake VanderPlas (Ucalgary library and https://github.com/jakevdp/PythonDataScienceHandbook)\n",
    "3. Fundamentals of Data Visualization, Claus O. Wilke (Ucalgary library and https://serialmentor.com/dataviz/index.html)\n",
    "4. Overview by Jake VanderPlas https://www.youtube.com/watch?v=FytuB8nFHPQ\n"
   ]
  },
  {
   "cell_type": "markdown",
   "metadata": {},
   "source": [
    "## Plotting summary"
   ]
  },
  {
   "cell_type": "markdown",
   "metadata": {},
   "source": [
    "1. What information was presented that you did not know before? Pick one if you have many.\n",
    "\n",
    "2. Which statement do you most agree with?  \n",
    "\n",
    "3. Which statement do you least agree with?  \n",
    "\n",
    "\n",
    "Notes/Questions:\n"
   ]
  },
  {
   "cell_type": "code",
   "execution_count": null,
   "metadata": {},
   "outputs": [],
   "source": []
  },
  {
   "cell_type": "markdown",
   "metadata": {},
   "source": [
    "## Seaborn colors and styles "
   ]
  },
  {
   "cell_type": "code",
   "execution_count": null,
   "metadata": {},
   "outputs": [],
   "source": [
    "%matplotlib inline\n",
    "\n",
    "import numpy as np\n",
    "import pandas as pd\n",
    "import matplotlib as mpl\n",
    "import matplotlib.pyplot as plt\n",
    "\n",
    "import seaborn as sns\n"
   ]
  },
  {
   "cell_type": "markdown",
   "metadata": {},
   "source": [
    "### Styles\n",
    "\n",
    "https://seaborn.pydata.org/tutorial/aesthetics.html\n",
    "\n",
    "> The interface for manipulating these parameters are two pairs of functions. To control the style, use the axes_style() and set_style() functions. To scale the plot, use the plotting_context() and set_context() functions. In both cases, the first function returns a dictionary of parameters and the second sets the matplotlib defaults.\n",
    "\n"
   ]
  },
  {
   "cell_type": "markdown",
   "metadata": {},
   "source": [
    "Styles are: darkgrid, whitegrid, dark, white, and ticks"
   ]
  },
  {
   "cell_type": "code",
   "execution_count": null,
   "metadata": {},
   "outputs": [],
   "source": [
    "sns.set_style(\"whitegrid\")\n",
    "data = np.random.normal(size=(20, 6)) + np.arange(6) / 2\n",
    "sns.boxplot(data=data);"
   ]
  },
  {
   "cell_type": "code",
   "execution_count": null,
   "metadata": {},
   "outputs": [],
   "source": [
    "# TODO: Above plot, but using with and darkgrid\n"
   ]
  },
  {
   "cell_type": "markdown",
   "metadata": {},
   "source": [
    "Contexts are: paper, notebook, talk, and poster"
   ]
  },
  {
   "cell_type": "code",
   "execution_count": null,
   "metadata": {},
   "outputs": [],
   "source": [
    "sns.set_context(\"poster\")\n",
    "data = np.random.normal(size=(20, 6)) + np.arange(6) / 2\n",
    "sns.boxplot(data=data);"
   ]
  },
  {
   "cell_type": "code",
   "execution_count": null,
   "metadata": {},
   "outputs": [],
   "source": [
    "# TODO: above plot but using with and talk\n"
   ]
  },
  {
   "cell_type": "code",
   "execution_count": null,
   "metadata": {},
   "outputs": [],
   "source": [
    "# TODO: reset to default\n"
   ]
  },
  {
   "cell_type": "markdown",
   "metadata": {},
   "source": [
    "### Color\n",
    "\n",
    "https://seaborn.pydata.org/tutorial/color_palettes.html\n",
    "\n",
    "1. Qualitative\n",
    "2. Sequential\n",
    "3. Diverging\n",
    "\n",
    "`sns.set_palette(\"husl\")`\n",
    "\n",
    "`with sns.color_palette(\"PuBuGn_d\"):`"
   ]
  },
  {
   "cell_type": "markdown",
   "metadata": {},
   "source": [
    "### Qualitative "
   ]
  },
  {
   "cell_type": "code",
   "execution_count": null,
   "metadata": {},
   "outputs": [],
   "source": [
    "sns.set_palette(\"colorblind\")\n",
    "\n",
    "x = np.linspace(0, 10, 100)\n",
    "\n",
    "plt.plot(x, np.sin(x), '-')\n",
    "plt.plot(x, np.cos(x), '--');"
   ]
  },
  {
   "cell_type": "code",
   "execution_count": null,
   "metadata": {},
   "outputs": [],
   "source": [
    "with sns.color_palette(\"dark\"):\n",
    "    plt.plot(x, np.sin(x), '-')\n",
    "    plt.plot(x, np.cos(x), '--');"
   ]
  },
  {
   "cell_type": "markdown",
   "metadata": {},
   "source": [
    "### Sequential \n",
    "Increasing values\n",
    "\n",
    "**TODO: Add an example**"
   ]
  },
  {
   "cell_type": "code",
   "execution_count": null,
   "metadata": {},
   "outputs": [],
   "source": []
  },
  {
   "cell_type": "markdown",
   "metadata": {},
   "source": [
    "### Diverging \n",
    "Usefull when values have a center value, e.g. positive and negative values with center value 0."
   ]
  },
  {
   "cell_type": "code",
   "execution_count": null,
   "metadata": {},
   "outputs": [],
   "source": [
    "# load the heart attack dataset\n",
    "data = pd.read_csv('../L14-code/data.csv', na_values='?')"
   ]
  },
  {
   "cell_type": "code",
   "execution_count": null,
   "metadata": {},
   "outputs": [],
   "source": [
    "g = sns.heatmap(data[['age', 'trestbps', 'chol', 'thalach']].corr(method='spearman'), \n",
    "            annot=True, \n",
    "            vmin=-1, \n",
    "            vmax =1,\n",
    "            cmap = sns.color_palette(\"BrBG\"))\n",
    "# a little hack to get the top and bottom squares not to be cropped\n",
    "# set y limits to be the same as x limits (in reverse order that 1's are on main diagonal)\n",
    "g.set_ylim(g.get_xlim()[::-1]);"
   ]
  },
  {
   "cell_type": "markdown",
   "metadata": {},
   "source": [
    "##  Visualizing customer satisfaction\n",
    "\n",
    "Customers at a store were asked on three occasions, one month appart each, how satisfied they are with the service. A single question was asked:_'Overall, how satisfied are you with the service at Bla-and-Bla?'_ with possible answers:\n",
    "- extremily dissatisfied (--)\n",
    "- somewhat dissatisfied (-)\n",
    "- neither dissatisfied nor satisfied (O)\n",
    "- somewhat satisfied (+)\n",
    "- extremily satisfied (++)\n",
    "\n",
    "What would the dataframe look like and how would we best plot this data?"
   ]
  },
  {
   "cell_type": "code",
   "execution_count": null,
   "metadata": {},
   "outputs": [],
   "source": []
  },
  {
   "cell_type": "code",
   "execution_count": null,
   "metadata": {},
   "outputs": [],
   "source": []
  },
  {
   "cell_type": "code",
   "execution_count": null,
   "metadata": {},
   "outputs": [],
   "source": []
  }
 ],
 "metadata": {
  "@webio": {
   "lastCommId": null,
   "lastKernelId": null
  },
  "kernelspec": {
   "display_name": "Python 3",
   "language": "python",
   "name": "python3"
  },
  "language_info": {
   "codemirror_mode": {
    "name": "ipython",
    "version": 3
   },
   "file_extension": ".py",
   "mimetype": "text/x-python",
   "name": "python",
   "nbconvert_exporter": "python",
   "pygments_lexer": "ipython3",
   "version": "3.7.4"
  }
 },
 "nbformat": 4,
 "nbformat_minor": 2
}
