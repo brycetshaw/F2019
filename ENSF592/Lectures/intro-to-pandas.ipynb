{
 "cells": [
  {
   "cell_type": "code",
   "execution_count": 34,
   "metadata": {
    "pycharm": {
     "is_executing": false
    }
   },
   "outputs": [],
   "source": [
    "import numpy as np\n",
    "import pandas as pd"
   ]
  },
  {
   "cell_type": "markdown",
   "metadata": {},
   "source": [
    "## Create pandas DataFrames\n",
    "```python\n",
    "# dictionary of lists\n",
    "data = {'state': ['Ohio', 'Ohio', 'Ohio', 'Nevada', 'Nevada', 'Nevada'],\n",
    "            'year': [2000, 2001, 2002, 2001, 2002, 2003],\n",
    "            'pop': [1.5, 1.7, 3.6, 2.4, 2.9, 3.2]}\n",
    "frame = pd.DataFrame(data)\n",
    "\n",
    "\n",
    "```"
   ]
  },
  {
   "cell_type": "code",
   "execution_count": 35,
   "metadata": {
    "pycharm": {
     "is_executing": false
    }
   },
   "outputs": [
    {
     "data": {
      "text/plain": "   alpha  beta  gamma  delta\n0      0     1      2      3\n1      4     5      6      7\n2      8     9     10     11\n3     12    13     14     15\n4     16    17     18     19",
      "text/html": "<div>\n<style scoped>\n    .dataframe tbody tr th:only-of-type {\n        vertical-align: middle;\n    }\n\n    .dataframe tbody tr th {\n        vertical-align: top;\n    }\n\n    .dataframe thead th {\n        text-align: right;\n    }\n</style>\n<table border=\"1\" class=\"dataframe\">\n  <thead>\n    <tr style=\"text-align: right;\">\n      <th></th>\n      <th>alpha</th>\n      <th>beta</th>\n      <th>gamma</th>\n      <th>delta</th>\n    </tr>\n  </thead>\n  <tbody>\n    <tr>\n      <td>0</td>\n      <td>0</td>\n      <td>1</td>\n      <td>2</td>\n      <td>3</td>\n    </tr>\n    <tr>\n      <td>1</td>\n      <td>4</td>\n      <td>5</td>\n      <td>6</td>\n      <td>7</td>\n    </tr>\n    <tr>\n      <td>2</td>\n      <td>8</td>\n      <td>9</td>\n      <td>10</td>\n      <td>11</td>\n    </tr>\n    <tr>\n      <td>3</td>\n      <td>12</td>\n      <td>13</td>\n      <td>14</td>\n      <td>15</td>\n    </tr>\n    <tr>\n      <td>4</td>\n      <td>16</td>\n      <td>17</td>\n      <td>18</td>\n      <td>19</td>\n    </tr>\n  </tbody>\n</table>\n</div>"
     },
     "metadata": {},
     "output_type": "execute_result",
     "execution_count": 35
    }
   ],
   "source": [
    "# From a numpy array\n",
    "df = pd.DataFrame( np.arange(20).reshape(5,4), columns=['alpha', 'beta', 'gamma', 'delta'])\n",
    "df"
   ]
  },
  {
   "cell_type": "code",
   "execution_count": 36,
   "metadata": {
    "pycharm": {
     "is_executing": false
    }
   },
   "outputs": [
    {
     "data": {
      "text/plain": "pandas.core.frame.DataFrame"
     },
     "metadata": {},
     "output_type": "execute_result",
     "execution_count": 36
    }
   ],
   "source": [
    "type(df)"
   ]
  },
  {
   "cell_type": "markdown",
   "metadata": {},
   "source": [
    "## Indexing"
   ]
  },
  {
   "cell_type": "code",
   "execution_count": 37,
   "metadata": {
    "pycharm": {
     "is_executing": false
    }
   },
   "outputs": [
    {
     "data": {
      "text/plain": "0     0\n1     4\n2     8\n3    12\n4    16\nName: alpha, dtype: int64"
     },
     "metadata": {},
     "output_type": "execute_result",
     "execution_count": 37
    }
   ],
   "source": [
    "# select a column\n",
    "df['alpha']"
   ]
  },
  {
   "cell_type": "code",
   "execution_count": 38,
   "metadata": {
    "pycharm": {
     "is_executing": false
    }
   },
   "outputs": [
    {
     "data": {
      "text/plain": "   alpha  beta  gamma  delta\n0      0     1      2      3\n1      4     5      6      7",
      "text/html": "<div>\n<style scoped>\n    .dataframe tbody tr th:only-of-type {\n        vertical-align: middle;\n    }\n\n    .dataframe tbody tr th {\n        vertical-align: top;\n    }\n\n    .dataframe thead th {\n        text-align: right;\n    }\n</style>\n<table border=\"1\" class=\"dataframe\">\n  <thead>\n    <tr style=\"text-align: right;\">\n      <th></th>\n      <th>alpha</th>\n      <th>beta</th>\n      <th>gamma</th>\n      <th>delta</th>\n    </tr>\n  </thead>\n  <tbody>\n    <tr>\n      <td>0</td>\n      <td>0</td>\n      <td>1</td>\n      <td>2</td>\n      <td>3</td>\n    </tr>\n    <tr>\n      <td>1</td>\n      <td>4</td>\n      <td>5</td>\n      <td>6</td>\n      <td>7</td>\n    </tr>\n  </tbody>\n</table>\n</div>"
     },
     "metadata": {},
     "output_type": "execute_result",
     "execution_count": 38
    }
   ],
   "source": [
    "# select rows\n",
    "df.iloc[:2]"
   ]
  },
  {
   "cell_type": "markdown",
   "metadata": {},
   "source": [
    "## DataFrame math"
   ]
  },
  {
   "cell_type": "code",
   "execution_count": 39,
   "metadata": {
    "pycharm": {
     "is_executing": false
    }
   },
   "outputs": [
    {
     "data": {
      "text/plain": "   alpha  beta  gamma  delta\n0   32.0  33.8   35.6   37.4\n1   39.2  41.0   42.8   44.6\n2   46.4  48.2   50.0   51.8\n3   53.6  55.4   57.2   59.0\n4   60.8  62.6   64.4   66.2",
      "text/html": "<div>\n<style scoped>\n    .dataframe tbody tr th:only-of-type {\n        vertical-align: middle;\n    }\n\n    .dataframe tbody tr th {\n        vertical-align: top;\n    }\n\n    .dataframe thead th {\n        text-align: right;\n    }\n</style>\n<table border=\"1\" class=\"dataframe\">\n  <thead>\n    <tr style=\"text-align: right;\">\n      <th></th>\n      <th>alpha</th>\n      <th>beta</th>\n      <th>gamma</th>\n      <th>delta</th>\n    </tr>\n  </thead>\n  <tbody>\n    <tr>\n      <td>0</td>\n      <td>32.0</td>\n      <td>33.8</td>\n      <td>35.6</td>\n      <td>37.4</td>\n    </tr>\n    <tr>\n      <td>1</td>\n      <td>39.2</td>\n      <td>41.0</td>\n      <td>42.8</td>\n      <td>44.6</td>\n    </tr>\n    <tr>\n      <td>2</td>\n      <td>46.4</td>\n      <td>48.2</td>\n      <td>50.0</td>\n      <td>51.8</td>\n    </tr>\n    <tr>\n      <td>3</td>\n      <td>53.6</td>\n      <td>55.4</td>\n      <td>57.2</td>\n      <td>59.0</td>\n    </tr>\n    <tr>\n      <td>4</td>\n      <td>60.8</td>\n      <td>62.6</td>\n      <td>64.4</td>\n      <td>66.2</td>\n    </tr>\n  </tbody>\n</table>\n</div>"
     },
     "metadata": {},
     "output_type": "execute_result",
     "execution_count": 39
    }
   ],
   "source": [
    "# direct math\n",
    "df2 = (9/5) * df + 32\n",
    "df2"
   ]
  },
  {
   "cell_type": "code",
   "execution_count": 40,
   "metadata": {
    "pycharm": {
     "is_executing": false
    }
   },
   "outputs": [
    {
     "data": {
      "text/plain": "   alpha  beta  gamma  delta\n0   32.0  34.8   37.6   40.4\n1   43.2  46.0   48.8   51.6\n2   54.4  57.2   60.0   62.8\n3   65.6  68.4   71.2   74.0\n4   76.8  79.6   82.4   85.2",
      "text/html": "<div>\n<style scoped>\n    .dataframe tbody tr th:only-of-type {\n        vertical-align: middle;\n    }\n\n    .dataframe tbody tr th {\n        vertical-align: top;\n    }\n\n    .dataframe thead th {\n        text-align: right;\n    }\n</style>\n<table border=\"1\" class=\"dataframe\">\n  <thead>\n    <tr style=\"text-align: right;\">\n      <th></th>\n      <th>alpha</th>\n      <th>beta</th>\n      <th>gamma</th>\n      <th>delta</th>\n    </tr>\n  </thead>\n  <tbody>\n    <tr>\n      <td>0</td>\n      <td>32.0</td>\n      <td>34.8</td>\n      <td>37.6</td>\n      <td>40.4</td>\n    </tr>\n    <tr>\n      <td>1</td>\n      <td>43.2</td>\n      <td>46.0</td>\n      <td>48.8</td>\n      <td>51.6</td>\n    </tr>\n    <tr>\n      <td>2</td>\n      <td>54.4</td>\n      <td>57.2</td>\n      <td>60.0</td>\n      <td>62.8</td>\n    </tr>\n    <tr>\n      <td>3</td>\n      <td>65.6</td>\n      <td>68.4</td>\n      <td>71.2</td>\n      <td>74.0</td>\n    </tr>\n    <tr>\n      <td>4</td>\n      <td>76.8</td>\n      <td>79.6</td>\n      <td>82.4</td>\n      <td>85.2</td>\n    </tr>\n  </tbody>\n</table>\n</div>"
     },
     "metadata": {},
     "output_type": "execute_result",
     "execution_count": 40
    }
   ],
   "source": [
    "# add two dataframes of same shape\n",
    "df + df2"
   ]
  },
  {
   "cell_type": "code",
   "execution_count": 41,
   "metadata": {
    "pycharm": {
     "is_executing": false
    }
   },
   "outputs": [
    {
     "data": {
      "text/plain": "alpha    16\nbeta     16\ngamma    16\ndelta    16\ndtype: int64"
     },
     "metadata": {},
     "output_type": "execute_result",
     "execution_count": 41
    }
   ],
   "source": [
    "# map a function to each column\n",
    "f = lambda x: x.max() - x.min()\n",
    "\n",
    "df.apply(f)"
   ]
  },
  {
   "cell_type": "markdown",
   "metadata": {},
   "source": [
    "## DataFrame manipulation"
   ]
  },
  {
   "cell_type": "code",
   "execution_count": 42,
   "metadata": {
    "pycharm": {
     "is_executing": false
    }
   },
   "outputs": [
    {
     "data": {
      "text/plain": "   alpha  beta  gamma  delta epsilon\n0      0     1      2      3     low\n1      4     5      6      7  medium\n2      8     9     10     11     low\n3     12    13     14     15    high\n4     16    17     18     19    high",
      "text/html": "<div>\n<style scoped>\n    .dataframe tbody tr th:only-of-type {\n        vertical-align: middle;\n    }\n\n    .dataframe tbody tr th {\n        vertical-align: top;\n    }\n\n    .dataframe thead th {\n        text-align: right;\n    }\n</style>\n<table border=\"1\" class=\"dataframe\">\n  <thead>\n    <tr style=\"text-align: right;\">\n      <th></th>\n      <th>alpha</th>\n      <th>beta</th>\n      <th>gamma</th>\n      <th>delta</th>\n      <th>epsilon</th>\n    </tr>\n  </thead>\n  <tbody>\n    <tr>\n      <td>0</td>\n      <td>0</td>\n      <td>1</td>\n      <td>2</td>\n      <td>3</td>\n      <td>low</td>\n    </tr>\n    <tr>\n      <td>1</td>\n      <td>4</td>\n      <td>5</td>\n      <td>6</td>\n      <td>7</td>\n      <td>medium</td>\n    </tr>\n    <tr>\n      <td>2</td>\n      <td>8</td>\n      <td>9</td>\n      <td>10</td>\n      <td>11</td>\n      <td>low</td>\n    </tr>\n    <tr>\n      <td>3</td>\n      <td>12</td>\n      <td>13</td>\n      <td>14</td>\n      <td>15</td>\n      <td>high</td>\n    </tr>\n    <tr>\n      <td>4</td>\n      <td>16</td>\n      <td>17</td>\n      <td>18</td>\n      <td>19</td>\n      <td>high</td>\n    </tr>\n  </tbody>\n</table>\n</div>"
     },
     "metadata": {},
     "output_type": "execute_result",
     "execution_count": 42
    }
   ],
   "source": [
    "# add a column\n",
    "df['epsilon'] = ['low', 'medium', 'low', 'high', 'high']\n",
    "df"
   ]
  },
  {
   "cell_type": "code",
   "execution_count": 43,
   "metadata": {
    "pycharm": {
     "is_executing": false
    }
   },
   "outputs": [
    {
     "data": {
      "text/plain": "(5, 5)"
     },
     "metadata": {},
     "output_type": "execute_result",
     "execution_count": 43
    }
   ],
   "source": [
    "df.shape"
   ]
  },
  {
   "cell_type": "code",
   "execution_count": 43,
   "metadata": {
    "pycharm": {
     "is_executing": false
    }
   },
   "outputs": [],
   "source": []
  },
  {
   "cell_type": "code",
   "execution_count": 44,
   "metadata": {
    "pycharm": {
     "is_executing": false
    }
   },
   "outputs": [],
   "source": [
    "pd.DataFrame.drop?"
   ]
  },
  {
   "cell_type": "code",
   "execution_count": 45,
   "metadata": {
    "pycharm": {
     "is_executing": false
    }
   },
   "outputs": [
    {
     "data": {
      "text/plain": "   alpha  beta  delta epsilon\n0      0     1      3     low\n1      4     5      7  medium\n2      8     9     11     low\n3     12    13     15    high\n4     16    17     19    high",
      "text/html": "<div>\n<style scoped>\n    .dataframe tbody tr th:only-of-type {\n        vertical-align: middle;\n    }\n\n    .dataframe tbody tr th {\n        vertical-align: top;\n    }\n\n    .dataframe thead th {\n        text-align: right;\n    }\n</style>\n<table border=\"1\" class=\"dataframe\">\n  <thead>\n    <tr style=\"text-align: right;\">\n      <th></th>\n      <th>alpha</th>\n      <th>beta</th>\n      <th>delta</th>\n      <th>epsilon</th>\n    </tr>\n  </thead>\n  <tbody>\n    <tr>\n      <td>0</td>\n      <td>0</td>\n      <td>1</td>\n      <td>3</td>\n      <td>low</td>\n    </tr>\n    <tr>\n      <td>1</td>\n      <td>4</td>\n      <td>5</td>\n      <td>7</td>\n      <td>medium</td>\n    </tr>\n    <tr>\n      <td>2</td>\n      <td>8</td>\n      <td>9</td>\n      <td>11</td>\n      <td>low</td>\n    </tr>\n    <tr>\n      <td>3</td>\n      <td>12</td>\n      <td>13</td>\n      <td>15</td>\n      <td>high</td>\n    </tr>\n    <tr>\n      <td>4</td>\n      <td>16</td>\n      <td>17</td>\n      <td>19</td>\n      <td>high</td>\n    </tr>\n  </tbody>\n</table>\n</div>"
     },
     "metadata": {},
     "output_type": "execute_result",
     "execution_count": 45
    }
   ],
   "source": [
    "# delete column\n",
    "df.drop(columns=['gamma'])\n"
   ]
  },
  {
   "cell_type": "code",
   "execution_count": 46,
   "metadata": {
    "pycharm": {
     "is_executing": false
    }
   },
   "outputs": [
    {
     "data": {
      "text/plain": "   alpha  beta  gamma  delta epsilon\n0      0     1      2      3     low\n1      4     5      6      7  medium\n2      8     9     10     11     low\n3     12    13     14     15    high\n4     16    17     18     19    high",
      "text/html": "<div>\n<style scoped>\n    .dataframe tbody tr th:only-of-type {\n        vertical-align: middle;\n    }\n\n    .dataframe tbody tr th {\n        vertical-align: top;\n    }\n\n    .dataframe thead th {\n        text-align: right;\n    }\n</style>\n<table border=\"1\" class=\"dataframe\">\n  <thead>\n    <tr style=\"text-align: right;\">\n      <th></th>\n      <th>alpha</th>\n      <th>beta</th>\n      <th>gamma</th>\n      <th>delta</th>\n      <th>epsilon</th>\n    </tr>\n  </thead>\n  <tbody>\n    <tr>\n      <td>0</td>\n      <td>0</td>\n      <td>1</td>\n      <td>2</td>\n      <td>3</td>\n      <td>low</td>\n    </tr>\n    <tr>\n      <td>1</td>\n      <td>4</td>\n      <td>5</td>\n      <td>6</td>\n      <td>7</td>\n      <td>medium</td>\n    </tr>\n    <tr>\n      <td>2</td>\n      <td>8</td>\n      <td>9</td>\n      <td>10</td>\n      <td>11</td>\n      <td>low</td>\n    </tr>\n    <tr>\n      <td>3</td>\n      <td>12</td>\n      <td>13</td>\n      <td>14</td>\n      <td>15</td>\n      <td>high</td>\n    </tr>\n    <tr>\n      <td>4</td>\n      <td>16</td>\n      <td>17</td>\n      <td>18</td>\n      <td>19</td>\n      <td>high</td>\n    </tr>\n  </tbody>\n</table>\n</div>"
     },
     "metadata": {},
     "output_type": "execute_result",
     "execution_count": 46
    }
   ],
   "source": [
    "df"
   ]
  },
  {
   "cell_type": "code",
   "execution_count": 47,
   "metadata": {
    "pycharm": {
     "is_executing": false
    }
   },
   "outputs": [
    {
     "data": {
      "text/plain": "   alpha  beta  gamma  delta epsilon\n3     12    13     14     15    high\n4     16    17     18     19    high\n0      0     1      2      3     low\n2      8     9     10     11     low\n1      4     5      6      7  medium",
      "text/html": "<div>\n<style scoped>\n    .dataframe tbody tr th:only-of-type {\n        vertical-align: middle;\n    }\n\n    .dataframe tbody tr th {\n        vertical-align: top;\n    }\n\n    .dataframe thead th {\n        text-align: right;\n    }\n</style>\n<table border=\"1\" class=\"dataframe\">\n  <thead>\n    <tr style=\"text-align: right;\">\n      <th></th>\n      <th>alpha</th>\n      <th>beta</th>\n      <th>gamma</th>\n      <th>delta</th>\n      <th>epsilon</th>\n    </tr>\n  </thead>\n  <tbody>\n    <tr>\n      <td>3</td>\n      <td>12</td>\n      <td>13</td>\n      <td>14</td>\n      <td>15</td>\n      <td>high</td>\n    </tr>\n    <tr>\n      <td>4</td>\n      <td>16</td>\n      <td>17</td>\n      <td>18</td>\n      <td>19</td>\n      <td>high</td>\n    </tr>\n    <tr>\n      <td>0</td>\n      <td>0</td>\n      <td>1</td>\n      <td>2</td>\n      <td>3</td>\n      <td>low</td>\n    </tr>\n    <tr>\n      <td>2</td>\n      <td>8</td>\n      <td>9</td>\n      <td>10</td>\n      <td>11</td>\n      <td>low</td>\n    </tr>\n    <tr>\n      <td>1</td>\n      <td>4</td>\n      <td>5</td>\n      <td>6</td>\n      <td>7</td>\n      <td>medium</td>\n    </tr>\n  </tbody>\n</table>\n</div>"
     },
     "metadata": {},
     "output_type": "execute_result",
     "execution_count": 47
    }
   ],
   "source": [
    "# sorting values\n",
    "df.sort_values(by='epsilon')"
   ]
  },
  {
   "cell_type": "markdown",
   "metadata": {},
   "source": [
    "## Load data from file\n",
    "\n",
    "Using `np.genfromtxt()`"
   ]
  },
  {
   "cell_type": "code",
   "execution_count": 48,
   "metadata": {
    "pycharm": {
     "is_executing": false
    }
   },
   "outputs": [],
   "source": [
    "# skip first row\n",
    "data = pd.read_csv('data.csv')"
   ]
  },
  {
   "cell_type": "code",
   "execution_count": 49,
   "metadata": {
    "pycharm": {
     "is_executing": false
    }
   },
   "outputs": [
    {
     "data": {
      "text/plain": "(293, 14)"
     },
     "metadata": {},
     "output_type": "execute_result",
     "execution_count": 49
    }
   ],
   "source": [
    "data.shape"
   ]
  },
  {
   "cell_type": "code",
   "execution_count": 50,
   "metadata": {
    "pycharm": {
     "is_executing": false
    }
   },
   "outputs": [
    {
     "data": {
      "text/plain": "   age  gender  cp trestbps chol fbs restecg thalach exang  oldpeak slope ca  \\\n0   28       1   2      130  132   0       2     185     0      0.0     ?  ?   \n1   29       1   2      120  243   0       0     160     0      0.0     ?  ?   \n2   29       1   2      140    ?   0       0     170     0      0.0     ?  ?   \n3   30       0   1      170  237   0       1     170     0      0.0     ?  ?   \n4   31       0   2      100  219   0       1     150     0      0.0     ?  ?   \n\n  thal  num  \n0    ?    0  \n1    ?    0  \n2    ?    0  \n3    6    0  \n4    ?    0  ",
      "text/html": "<div>\n<style scoped>\n    .dataframe tbody tr th:only-of-type {\n        vertical-align: middle;\n    }\n\n    .dataframe tbody tr th {\n        vertical-align: top;\n    }\n\n    .dataframe thead th {\n        text-align: right;\n    }\n</style>\n<table border=\"1\" class=\"dataframe\">\n  <thead>\n    <tr style=\"text-align: right;\">\n      <th></th>\n      <th>age</th>\n      <th>gender</th>\n      <th>cp</th>\n      <th>trestbps</th>\n      <th>chol</th>\n      <th>fbs</th>\n      <th>restecg</th>\n      <th>thalach</th>\n      <th>exang</th>\n      <th>oldpeak</th>\n      <th>slope</th>\n      <th>ca</th>\n      <th>thal</th>\n      <th>num</th>\n    </tr>\n  </thead>\n  <tbody>\n    <tr>\n      <td>0</td>\n      <td>28</td>\n      <td>1</td>\n      <td>2</td>\n      <td>130</td>\n      <td>132</td>\n      <td>0</td>\n      <td>2</td>\n      <td>185</td>\n      <td>0</td>\n      <td>0.0</td>\n      <td>?</td>\n      <td>?</td>\n      <td>?</td>\n      <td>0</td>\n    </tr>\n    <tr>\n      <td>1</td>\n      <td>29</td>\n      <td>1</td>\n      <td>2</td>\n      <td>120</td>\n      <td>243</td>\n      <td>0</td>\n      <td>0</td>\n      <td>160</td>\n      <td>0</td>\n      <td>0.0</td>\n      <td>?</td>\n      <td>?</td>\n      <td>?</td>\n      <td>0</td>\n    </tr>\n    <tr>\n      <td>2</td>\n      <td>29</td>\n      <td>1</td>\n      <td>2</td>\n      <td>140</td>\n      <td>?</td>\n      <td>0</td>\n      <td>0</td>\n      <td>170</td>\n      <td>0</td>\n      <td>0.0</td>\n      <td>?</td>\n      <td>?</td>\n      <td>?</td>\n      <td>0</td>\n    </tr>\n    <tr>\n      <td>3</td>\n      <td>30</td>\n      <td>0</td>\n      <td>1</td>\n      <td>170</td>\n      <td>237</td>\n      <td>0</td>\n      <td>1</td>\n      <td>170</td>\n      <td>0</td>\n      <td>0.0</td>\n      <td>?</td>\n      <td>?</td>\n      <td>6</td>\n      <td>0</td>\n    </tr>\n    <tr>\n      <td>4</td>\n      <td>31</td>\n      <td>0</td>\n      <td>2</td>\n      <td>100</td>\n      <td>219</td>\n      <td>0</td>\n      <td>1</td>\n      <td>150</td>\n      <td>0</td>\n      <td>0.0</td>\n      <td>?</td>\n      <td>?</td>\n      <td>?</td>\n      <td>0</td>\n    </tr>\n  </tbody>\n</table>\n</div>"
     },
     "metadata": {},
     "output_type": "execute_result",
     "execution_count": 50
    }
   ],
   "source": [
    "data.head()"
   ]
  },
  {
   "cell_type": "code",
   "execution_count": 51,
   "metadata": {
    "pycharm": {
     "is_executing": false
    }
   },
   "outputs": [
    {
     "data": {
      "text/plain": "Index(['age', 'gender', 'cp', 'trestbps', 'chol', 'fbs', 'restecg', 'thalach',\n       'exang', 'oldpeak', 'slope', 'ca', 'thal', 'num'],\n      dtype='object')"
     },
     "metadata": {},
     "output_type": "execute_result",
     "execution_count": 51
    }
   ],
   "source": [
    "data.columns"
   ]
  },
  {
   "cell_type": "markdown",
   "metadata": {},
   "source": [
    "## Summarize values\n",
    "What is the mean, std, min, max in each column?"
   ]
  },
  {
   "cell_type": "code",
   "execution_count": 52,
   "metadata": {
    "pycharm": {
     "is_executing": false
    }
   },
   "outputs": [
    {
     "data": {
      "text/plain": "age        47.767918\ngender      0.723549\ncp          2.979522\noldpeak     0.584642\nnum         0.358362\ndtype: float64"
     },
     "metadata": {},
     "output_type": "execute_result",
     "execution_count": 52
    }
   ],
   "source": [
    "data.mean()"
   ]
  },
  {
   "cell_type": "code",
   "execution_count": 53,
   "metadata": {
    "pycharm": {
     "is_executing": false
    }
   },
   "outputs": [
    {
     "data": {
      "text/plain": "age           int64\ngender        int64\ncp            int64\ntrestbps     object\nchol         object\nfbs          object\nrestecg      object\nthalach      object\nexang        object\noldpeak     float64\nslope        object\nca           object\nthal         object\nnum           int64\ndtype: object"
     },
     "metadata": {},
     "output_type": "execute_result",
     "execution_count": 53
    }
   ],
   "source": [
    "# where are the other columns? Check dtypes\n",
    "data.dtypes"
   ]
  },
  {
   "cell_type": "code",
   "execution_count": 54,
   "metadata": {
    "pycharm": {
     "is_executing": false
    }
   },
   "outputs": [],
   "source": [
    "# convert dtypes\n",
    "# data.astype('float').dtypes"
   ]
  },
  {
   "cell_type": "code",
   "execution_count": 55,
   "metadata": {
    "pycharm": {
     "is_executing": false
    }
   },
   "outputs": [
    {
     "data": {
      "text/plain": "   age  gender  cp trestbps chol fbs restecg thalach exang  oldpeak slope  \\\n0   28       1   2      130  132   0       2     185     0      0.0   NaN   \n1   29       1   2      120  243   0       0     160     0      0.0   NaN   \n2   29       1   2      140  NaN   0       0     170     0      0.0   NaN   \n3   30       0   1      170  237   0       1     170     0      0.0   NaN   \n4   31       0   2      100  219   0       1     150     0      0.0   NaN   \n\n    ca thal  num  \n0  NaN  NaN    0  \n1  NaN  NaN    0  \n2  NaN  NaN    0  \n3  NaN    6    0  \n4  NaN  NaN    0  ",
      "text/html": "<div>\n<style scoped>\n    .dataframe tbody tr th:only-of-type {\n        vertical-align: middle;\n    }\n\n    .dataframe tbody tr th {\n        vertical-align: top;\n    }\n\n    .dataframe thead th {\n        text-align: right;\n    }\n</style>\n<table border=\"1\" class=\"dataframe\">\n  <thead>\n    <tr style=\"text-align: right;\">\n      <th></th>\n      <th>age</th>\n      <th>gender</th>\n      <th>cp</th>\n      <th>trestbps</th>\n      <th>chol</th>\n      <th>fbs</th>\n      <th>restecg</th>\n      <th>thalach</th>\n      <th>exang</th>\n      <th>oldpeak</th>\n      <th>slope</th>\n      <th>ca</th>\n      <th>thal</th>\n      <th>num</th>\n    </tr>\n  </thead>\n  <tbody>\n    <tr>\n      <td>0</td>\n      <td>28</td>\n      <td>1</td>\n      <td>2</td>\n      <td>130</td>\n      <td>132</td>\n      <td>0</td>\n      <td>2</td>\n      <td>185</td>\n      <td>0</td>\n      <td>0.0</td>\n      <td>NaN</td>\n      <td>NaN</td>\n      <td>NaN</td>\n      <td>0</td>\n    </tr>\n    <tr>\n      <td>1</td>\n      <td>29</td>\n      <td>1</td>\n      <td>2</td>\n      <td>120</td>\n      <td>243</td>\n      <td>0</td>\n      <td>0</td>\n      <td>160</td>\n      <td>0</td>\n      <td>0.0</td>\n      <td>NaN</td>\n      <td>NaN</td>\n      <td>NaN</td>\n      <td>0</td>\n    </tr>\n    <tr>\n      <td>2</td>\n      <td>29</td>\n      <td>1</td>\n      <td>2</td>\n      <td>140</td>\n      <td>NaN</td>\n      <td>0</td>\n      <td>0</td>\n      <td>170</td>\n      <td>0</td>\n      <td>0.0</td>\n      <td>NaN</td>\n      <td>NaN</td>\n      <td>NaN</td>\n      <td>0</td>\n    </tr>\n    <tr>\n      <td>3</td>\n      <td>30</td>\n      <td>0</td>\n      <td>1</td>\n      <td>170</td>\n      <td>237</td>\n      <td>0</td>\n      <td>1</td>\n      <td>170</td>\n      <td>0</td>\n      <td>0.0</td>\n      <td>NaN</td>\n      <td>NaN</td>\n      <td>6</td>\n      <td>0</td>\n    </tr>\n    <tr>\n      <td>4</td>\n      <td>31</td>\n      <td>0</td>\n      <td>2</td>\n      <td>100</td>\n      <td>219</td>\n      <td>0</td>\n      <td>1</td>\n      <td>150</td>\n      <td>0</td>\n      <td>0.0</td>\n      <td>NaN</td>\n      <td>NaN</td>\n      <td>NaN</td>\n      <td>0</td>\n    </tr>\n  </tbody>\n</table>\n</div>"
     },
     "metadata": {},
     "output_type": "execute_result",
     "execution_count": 55
    }
   ],
   "source": [
    "# replace '?' with 'NaN'\n",
    "data = data.replace({'?': 'NaN'})\n",
    "data.head()"
   ]
  },
  {
   "cell_type": "code",
   "execution_count": 56,
   "metadata": {
    "pycharm": {
     "is_executing": false
    }
   },
   "outputs": [
    {
     "data": {
      "text/plain": "age         float64\ngender      float64\ncp          float64\ntrestbps    float64\nchol        float64\nfbs         float64\nrestecg     float64\nthalach     float64\nexang       float64\noldpeak     float64\nslope       float64\nca          float64\nthal        float64\nnum         float64\ndtype: object"
     },
     "metadata": {},
     "output_type": "execute_result",
     "execution_count": 56
    }
   ],
   "source": [
    "# convert dtypes\n",
    "data = data.astype('float')\n",
    "data.dtypes"
   ]
  },
  {
   "cell_type": "code",
   "execution_count": 57,
   "metadata": {
    "pycharm": {
     "is_executing": false
    }
   },
   "outputs": [],
   "source": [
    "# we could have loaded the data with na_values argument\n",
    "data = pd.read_csv('data.csv', na_values='?')"
   ]
  },
  {
   "cell_type": "code",
   "execution_count": 58,
   "metadata": {
    "pycharm": {
     "is_executing": false
    }
   },
   "outputs": [
    {
     "data": {
      "text/plain": "              age      gender          cp    trestbps        chol         fbs  \\\ncount  293.000000  293.000000  293.000000  292.000000  270.000000  285.000000   \nmean    47.767918    0.723549    2.979522  132.592466  250.759259    0.070175   \nstd      7.760150    0.448007    0.964928   17.656176   67.767297    0.255892   \nmin     28.000000    0.000000    1.000000   92.000000   85.000000    0.000000   \n25%     42.000000    0.000000    2.000000  120.000000  209.000000    0.000000   \n50%     49.000000    1.000000    3.000000  130.000000  243.000000    0.000000   \n75%     54.000000    1.000000    4.000000  140.000000  282.750000    0.000000   \nmax     66.000000    1.000000    4.000000  200.000000  603.000000    1.000000   \n\n          restecg     thalach       exang     oldpeak       slope   ca  \\\ncount  292.000000  292.000000  292.000000  293.000000  103.000000  3.0   \nmean     0.215753  139.212329    0.301370    0.584642    1.893204  0.0   \nstd      0.459372   23.587727    0.459641    0.909879    0.340490  0.0   \nmin      0.000000   82.000000    0.000000    0.000000    1.000000  0.0   \n25%      0.000000  122.000000    0.000000    0.000000    2.000000  0.0   \n50%      0.000000  140.000000    0.000000    0.000000    2.000000  0.0   \n75%      0.000000  155.000000    1.000000    1.000000    2.000000  0.0   \nmax      2.000000  190.000000    1.000000    5.000000    3.000000  0.0   \n\n            thal         num  \ncount  28.000000  293.000000  \nmean    5.642857    0.358362  \nstd     1.615074    0.480340  \nmin     3.000000    0.000000  \n25%     5.250000    0.000000  \n50%     6.000000    0.000000  \n75%     7.000000    1.000000  \nmax     7.000000    1.000000  ",
      "text/html": "<div>\n<style scoped>\n    .dataframe tbody tr th:only-of-type {\n        vertical-align: middle;\n    }\n\n    .dataframe tbody tr th {\n        vertical-align: top;\n    }\n\n    .dataframe thead th {\n        text-align: right;\n    }\n</style>\n<table border=\"1\" class=\"dataframe\">\n  <thead>\n    <tr style=\"text-align: right;\">\n      <th></th>\n      <th>age</th>\n      <th>gender</th>\n      <th>cp</th>\n      <th>trestbps</th>\n      <th>chol</th>\n      <th>fbs</th>\n      <th>restecg</th>\n      <th>thalach</th>\n      <th>exang</th>\n      <th>oldpeak</th>\n      <th>slope</th>\n      <th>ca</th>\n      <th>thal</th>\n      <th>num</th>\n    </tr>\n  </thead>\n  <tbody>\n    <tr>\n      <td>count</td>\n      <td>293.000000</td>\n      <td>293.000000</td>\n      <td>293.000000</td>\n      <td>292.000000</td>\n      <td>270.000000</td>\n      <td>285.000000</td>\n      <td>292.000000</td>\n      <td>292.000000</td>\n      <td>292.000000</td>\n      <td>293.000000</td>\n      <td>103.000000</td>\n      <td>3.0</td>\n      <td>28.000000</td>\n      <td>293.000000</td>\n    </tr>\n    <tr>\n      <td>mean</td>\n      <td>47.767918</td>\n      <td>0.723549</td>\n      <td>2.979522</td>\n      <td>132.592466</td>\n      <td>250.759259</td>\n      <td>0.070175</td>\n      <td>0.215753</td>\n      <td>139.212329</td>\n      <td>0.301370</td>\n      <td>0.584642</td>\n      <td>1.893204</td>\n      <td>0.0</td>\n      <td>5.642857</td>\n      <td>0.358362</td>\n    </tr>\n    <tr>\n      <td>std</td>\n      <td>7.760150</td>\n      <td>0.448007</td>\n      <td>0.964928</td>\n      <td>17.656176</td>\n      <td>67.767297</td>\n      <td>0.255892</td>\n      <td>0.459372</td>\n      <td>23.587727</td>\n      <td>0.459641</td>\n      <td>0.909879</td>\n      <td>0.340490</td>\n      <td>0.0</td>\n      <td>1.615074</td>\n      <td>0.480340</td>\n    </tr>\n    <tr>\n      <td>min</td>\n      <td>28.000000</td>\n      <td>0.000000</td>\n      <td>1.000000</td>\n      <td>92.000000</td>\n      <td>85.000000</td>\n      <td>0.000000</td>\n      <td>0.000000</td>\n      <td>82.000000</td>\n      <td>0.000000</td>\n      <td>0.000000</td>\n      <td>1.000000</td>\n      <td>0.0</td>\n      <td>3.000000</td>\n      <td>0.000000</td>\n    </tr>\n    <tr>\n      <td>25%</td>\n      <td>42.000000</td>\n      <td>0.000000</td>\n      <td>2.000000</td>\n      <td>120.000000</td>\n      <td>209.000000</td>\n      <td>0.000000</td>\n      <td>0.000000</td>\n      <td>122.000000</td>\n      <td>0.000000</td>\n      <td>0.000000</td>\n      <td>2.000000</td>\n      <td>0.0</td>\n      <td>5.250000</td>\n      <td>0.000000</td>\n    </tr>\n    <tr>\n      <td>50%</td>\n      <td>49.000000</td>\n      <td>1.000000</td>\n      <td>3.000000</td>\n      <td>130.000000</td>\n      <td>243.000000</td>\n      <td>0.000000</td>\n      <td>0.000000</td>\n      <td>140.000000</td>\n      <td>0.000000</td>\n      <td>0.000000</td>\n      <td>2.000000</td>\n      <td>0.0</td>\n      <td>6.000000</td>\n      <td>0.000000</td>\n    </tr>\n    <tr>\n      <td>75%</td>\n      <td>54.000000</td>\n      <td>1.000000</td>\n      <td>4.000000</td>\n      <td>140.000000</td>\n      <td>282.750000</td>\n      <td>0.000000</td>\n      <td>0.000000</td>\n      <td>155.000000</td>\n      <td>1.000000</td>\n      <td>1.000000</td>\n      <td>2.000000</td>\n      <td>0.0</td>\n      <td>7.000000</td>\n      <td>1.000000</td>\n    </tr>\n    <tr>\n      <td>max</td>\n      <td>66.000000</td>\n      <td>1.000000</td>\n      <td>4.000000</td>\n      <td>200.000000</td>\n      <td>603.000000</td>\n      <td>1.000000</td>\n      <td>2.000000</td>\n      <td>190.000000</td>\n      <td>1.000000</td>\n      <td>5.000000</td>\n      <td>3.000000</td>\n      <td>0.0</td>\n      <td>7.000000</td>\n      <td>1.000000</td>\n    </tr>\n  </tbody>\n</table>\n</div>"
     },
     "metadata": {},
     "output_type": "execute_result",
     "execution_count": 58
    }
   ],
   "source": [
    "data.describe() # ignores NaN"
   ]
  },
  {
   "cell_type": "markdown",
   "metadata": {},
   "source": [
    "## Find nans\n",
    "How many nans in each column?"
   ]
  },
  {
   "cell_type": "code",
   "execution_count": 59,
   "metadata": {
    "pycharm": {
     "is_executing": false
    }
   },
   "outputs": [
    {
     "data": {
      "text/plain": "       age  gender     cp  trestbps   chol    fbs  restecg  thalach  exang  \\\n0    False   False  False     False  False  False    False    False  False   \n1    False   False  False     False  False  False    False    False  False   \n2    False   False  False     False   True  False    False    False  False   \n3    False   False  False     False  False  False    False    False  False   \n4    False   False  False     False  False  False    False    False  False   \n..     ...     ...    ...       ...    ...    ...      ...      ...    ...   \n288  False   False  False     False  False  False    False    False  False   \n289  False   False  False     False  False  False    False    False  False   \n290  False   False  False     False  False  False    False    False  False   \n291  False   False  False     False  False  False    False    False  False   \n292  False   False  False     False  False  False    False    False  False   \n\n     oldpeak  slope    ca   thal    num  \n0      False   True  True   True  False  \n1      False   True  True   True  False  \n2      False   True  True   True  False  \n3      False   True  True  False  False  \n4      False   True  True   True  False  \n..       ...    ...   ...    ...    ...  \n288    False  False  True   True  False  \n289    False   True  True   True  False  \n290    False  False  True   True  False  \n291    False  False  True   True  False  \n292    False  False  True  False  False  \n\n[293 rows x 14 columns]",
      "text/html": "<div>\n<style scoped>\n    .dataframe tbody tr th:only-of-type {\n        vertical-align: middle;\n    }\n\n    .dataframe tbody tr th {\n        vertical-align: top;\n    }\n\n    .dataframe thead th {\n        text-align: right;\n    }\n</style>\n<table border=\"1\" class=\"dataframe\">\n  <thead>\n    <tr style=\"text-align: right;\">\n      <th></th>\n      <th>age</th>\n      <th>gender</th>\n      <th>cp</th>\n      <th>trestbps</th>\n      <th>chol</th>\n      <th>fbs</th>\n      <th>restecg</th>\n      <th>thalach</th>\n      <th>exang</th>\n      <th>oldpeak</th>\n      <th>slope</th>\n      <th>ca</th>\n      <th>thal</th>\n      <th>num</th>\n    </tr>\n  </thead>\n  <tbody>\n    <tr>\n      <td>0</td>\n      <td>False</td>\n      <td>False</td>\n      <td>False</td>\n      <td>False</td>\n      <td>False</td>\n      <td>False</td>\n      <td>False</td>\n      <td>False</td>\n      <td>False</td>\n      <td>False</td>\n      <td>True</td>\n      <td>True</td>\n      <td>True</td>\n      <td>False</td>\n    </tr>\n    <tr>\n      <td>1</td>\n      <td>False</td>\n      <td>False</td>\n      <td>False</td>\n      <td>False</td>\n      <td>False</td>\n      <td>False</td>\n      <td>False</td>\n      <td>False</td>\n      <td>False</td>\n      <td>False</td>\n      <td>True</td>\n      <td>True</td>\n      <td>True</td>\n      <td>False</td>\n    </tr>\n    <tr>\n      <td>2</td>\n      <td>False</td>\n      <td>False</td>\n      <td>False</td>\n      <td>False</td>\n      <td>True</td>\n      <td>False</td>\n      <td>False</td>\n      <td>False</td>\n      <td>False</td>\n      <td>False</td>\n      <td>True</td>\n      <td>True</td>\n      <td>True</td>\n      <td>False</td>\n    </tr>\n    <tr>\n      <td>3</td>\n      <td>False</td>\n      <td>False</td>\n      <td>False</td>\n      <td>False</td>\n      <td>False</td>\n      <td>False</td>\n      <td>False</td>\n      <td>False</td>\n      <td>False</td>\n      <td>False</td>\n      <td>True</td>\n      <td>True</td>\n      <td>False</td>\n      <td>False</td>\n    </tr>\n    <tr>\n      <td>4</td>\n      <td>False</td>\n      <td>False</td>\n      <td>False</td>\n      <td>False</td>\n      <td>False</td>\n      <td>False</td>\n      <td>False</td>\n      <td>False</td>\n      <td>False</td>\n      <td>False</td>\n      <td>True</td>\n      <td>True</td>\n      <td>True</td>\n      <td>False</td>\n    </tr>\n    <tr>\n      <td>...</td>\n      <td>...</td>\n      <td>...</td>\n      <td>...</td>\n      <td>...</td>\n      <td>...</td>\n      <td>...</td>\n      <td>...</td>\n      <td>...</td>\n      <td>...</td>\n      <td>...</td>\n      <td>...</td>\n      <td>...</td>\n      <td>...</td>\n      <td>...</td>\n    </tr>\n    <tr>\n      <td>288</td>\n      <td>False</td>\n      <td>False</td>\n      <td>False</td>\n      <td>False</td>\n      <td>False</td>\n      <td>False</td>\n      <td>False</td>\n      <td>False</td>\n      <td>False</td>\n      <td>False</td>\n      <td>False</td>\n      <td>True</td>\n      <td>True</td>\n      <td>False</td>\n    </tr>\n    <tr>\n      <td>289</td>\n      <td>False</td>\n      <td>False</td>\n      <td>False</td>\n      <td>False</td>\n      <td>False</td>\n      <td>False</td>\n      <td>False</td>\n      <td>False</td>\n      <td>False</td>\n      <td>False</td>\n      <td>True</td>\n      <td>True</td>\n      <td>True</td>\n      <td>False</td>\n    </tr>\n    <tr>\n      <td>290</td>\n      <td>False</td>\n      <td>False</td>\n      <td>False</td>\n      <td>False</td>\n      <td>False</td>\n      <td>False</td>\n      <td>False</td>\n      <td>False</td>\n      <td>False</td>\n      <td>False</td>\n      <td>False</td>\n      <td>True</td>\n      <td>True</td>\n      <td>False</td>\n    </tr>\n    <tr>\n      <td>291</td>\n      <td>False</td>\n      <td>False</td>\n      <td>False</td>\n      <td>False</td>\n      <td>False</td>\n      <td>False</td>\n      <td>False</td>\n      <td>False</td>\n      <td>False</td>\n      <td>False</td>\n      <td>False</td>\n      <td>True</td>\n      <td>True</td>\n      <td>False</td>\n    </tr>\n    <tr>\n      <td>292</td>\n      <td>False</td>\n      <td>False</td>\n      <td>False</td>\n      <td>False</td>\n      <td>False</td>\n      <td>False</td>\n      <td>False</td>\n      <td>False</td>\n      <td>False</td>\n      <td>False</td>\n      <td>False</td>\n      <td>True</td>\n      <td>False</td>\n      <td>False</td>\n    </tr>\n  </tbody>\n</table>\n<p>293 rows × 14 columns</p>\n</div>"
     },
     "metadata": {},
     "output_type": "execute_result",
     "execution_count": 59
    }
   ],
   "source": [
    "data.isnull()"
   ]
  },
  {
   "cell_type": "code",
   "execution_count": 60,
   "metadata": {
    "pycharm": {
     "is_executing": false
    }
   },
   "outputs": [
    {
     "data": {
      "text/plain": "age           0\ngender        0\ncp            0\ntrestbps      1\nchol         23\nfbs           8\nrestecg       1\nthalach       1\nexang         1\noldpeak       0\nslope       190\nca          290\nthal        265\nnum           0\ndtype: int64"
     },
     "metadata": {},
     "output_type": "execute_result",
     "execution_count": 60
    }
   ],
   "source": [
    "data.isnull().sum()"
   ]
  },
  {
   "cell_type": "code",
   "execution_count": 61,
   "metadata": {
    "pycharm": {
     "is_executing": false
    }
   },
   "outputs": [
    {
     "data": {
      "text/plain": "              age      gender          cp    trestbps        chol         fbs  \\\ncount  293.000000  293.000000  293.000000  293.000000  293.000000  293.000000   \nmean    47.767918    0.723549    2.979522  132.453925  237.747440    0.068259   \nstd      7.760150    0.448007    0.964928   17.784731   78.898698    0.252622   \nmin     28.000000    0.000000    1.000000   92.000000   85.000000    0.000000   \n25%     42.000000    0.000000    2.000000  120.000000  198.000000    0.000000   \n50%     49.000000    1.000000    3.000000  130.000000  237.000000    0.000000   \n75%     54.000000    1.000000    4.000000  140.000000  277.000000    0.000000   \nmax     66.000000    1.000000    4.000000  200.000000  603.000000    1.000000   \n\n          restecg     thalach       exang     oldpeak       slope     ca  \\\ncount  293.000000  293.000000  293.000000  293.000000  293.000000  293.0   \nmean     0.215017  139.017065    0.300341    0.584642    1.313993    0.0   \nstd      0.458758   23.783334    0.459191    0.909879    0.472217    0.0   \nmin      0.000000   82.000000    0.000000    0.000000    1.000000    0.0   \n25%      0.000000  122.000000    0.000000    0.000000    1.000000    0.0   \n50%      0.000000  140.000000    0.000000    0.000000    1.000000    0.0   \n75%      0.000000  155.000000    1.000000    1.000000    2.000000    0.0   \nmax      2.000000  190.000000    1.000000    5.000000    3.000000    0.0   \n\n             thal         num  \ncount  293.000000  293.000000  \nmean     3.252560    0.358362  \nstd      0.920301    0.480340  \nmin      3.000000    0.000000  \n25%      3.000000    0.000000  \n50%      3.000000    0.000000  \n75%      3.000000    1.000000  \nmax      7.000000    1.000000  ",
      "text/html": "<div>\n<style scoped>\n    .dataframe tbody tr th:only-of-type {\n        vertical-align: middle;\n    }\n\n    .dataframe tbody tr th {\n        vertical-align: top;\n    }\n\n    .dataframe thead th {\n        text-align: right;\n    }\n</style>\n<table border=\"1\" class=\"dataframe\">\n  <thead>\n    <tr style=\"text-align: right;\">\n      <th></th>\n      <th>age</th>\n      <th>gender</th>\n      <th>cp</th>\n      <th>trestbps</th>\n      <th>chol</th>\n      <th>fbs</th>\n      <th>restecg</th>\n      <th>thalach</th>\n      <th>exang</th>\n      <th>oldpeak</th>\n      <th>slope</th>\n      <th>ca</th>\n      <th>thal</th>\n      <th>num</th>\n    </tr>\n  </thead>\n  <tbody>\n    <tr>\n      <td>count</td>\n      <td>293.000000</td>\n      <td>293.000000</td>\n      <td>293.000000</td>\n      <td>293.000000</td>\n      <td>293.000000</td>\n      <td>293.000000</td>\n      <td>293.000000</td>\n      <td>293.000000</td>\n      <td>293.000000</td>\n      <td>293.000000</td>\n      <td>293.000000</td>\n      <td>293.0</td>\n      <td>293.000000</td>\n      <td>293.000000</td>\n    </tr>\n    <tr>\n      <td>mean</td>\n      <td>47.767918</td>\n      <td>0.723549</td>\n      <td>2.979522</td>\n      <td>132.453925</td>\n      <td>237.747440</td>\n      <td>0.068259</td>\n      <td>0.215017</td>\n      <td>139.017065</td>\n      <td>0.300341</td>\n      <td>0.584642</td>\n      <td>1.313993</td>\n      <td>0.0</td>\n      <td>3.252560</td>\n      <td>0.358362</td>\n    </tr>\n    <tr>\n      <td>std</td>\n      <td>7.760150</td>\n      <td>0.448007</td>\n      <td>0.964928</td>\n      <td>17.784731</td>\n      <td>78.898698</td>\n      <td>0.252622</td>\n      <td>0.458758</td>\n      <td>23.783334</td>\n      <td>0.459191</td>\n      <td>0.909879</td>\n      <td>0.472217</td>\n      <td>0.0</td>\n      <td>0.920301</td>\n      <td>0.480340</td>\n    </tr>\n    <tr>\n      <td>min</td>\n      <td>28.000000</td>\n      <td>0.000000</td>\n      <td>1.000000</td>\n      <td>92.000000</td>\n      <td>85.000000</td>\n      <td>0.000000</td>\n      <td>0.000000</td>\n      <td>82.000000</td>\n      <td>0.000000</td>\n      <td>0.000000</td>\n      <td>1.000000</td>\n      <td>0.0</td>\n      <td>3.000000</td>\n      <td>0.000000</td>\n    </tr>\n    <tr>\n      <td>25%</td>\n      <td>42.000000</td>\n      <td>0.000000</td>\n      <td>2.000000</td>\n      <td>120.000000</td>\n      <td>198.000000</td>\n      <td>0.000000</td>\n      <td>0.000000</td>\n      <td>122.000000</td>\n      <td>0.000000</td>\n      <td>0.000000</td>\n      <td>1.000000</td>\n      <td>0.0</td>\n      <td>3.000000</td>\n      <td>0.000000</td>\n    </tr>\n    <tr>\n      <td>50%</td>\n      <td>49.000000</td>\n      <td>1.000000</td>\n      <td>3.000000</td>\n      <td>130.000000</td>\n      <td>237.000000</td>\n      <td>0.000000</td>\n      <td>0.000000</td>\n      <td>140.000000</td>\n      <td>0.000000</td>\n      <td>0.000000</td>\n      <td>1.000000</td>\n      <td>0.0</td>\n      <td>3.000000</td>\n      <td>0.000000</td>\n    </tr>\n    <tr>\n      <td>75%</td>\n      <td>54.000000</td>\n      <td>1.000000</td>\n      <td>4.000000</td>\n      <td>140.000000</td>\n      <td>277.000000</td>\n      <td>0.000000</td>\n      <td>0.000000</td>\n      <td>155.000000</td>\n      <td>1.000000</td>\n      <td>1.000000</td>\n      <td>2.000000</td>\n      <td>0.0</td>\n      <td>3.000000</td>\n      <td>1.000000</td>\n    </tr>\n    <tr>\n      <td>max</td>\n      <td>66.000000</td>\n      <td>1.000000</td>\n      <td>4.000000</td>\n      <td>200.000000</td>\n      <td>603.000000</td>\n      <td>1.000000</td>\n      <td>2.000000</td>\n      <td>190.000000</td>\n      <td>1.000000</td>\n      <td>5.000000</td>\n      <td>3.000000</td>\n      <td>0.0</td>\n      <td>7.000000</td>\n      <td>1.000000</td>\n    </tr>\n  </tbody>\n</table>\n</div>"
     },
     "metadata": {},
     "output_type": "execute_result",
     "execution_count": 61
    }
   ],
   "source": [
    "data.fillna(data.min()).describe()"
   ]
  },
  {
   "cell_type": "markdown",
   "metadata": {},
   "source": [
    "## Remove duplicate rows"
   ]
  },
  {
   "cell_type": "code",
   "execution_count": 61,
   "metadata": {
    "pycharm": {
     "is_executing": false
    }
   },
   "outputs": [],
   "source": []
  },
  {
   "cell_type": "markdown",
   "metadata": {},
   "source": [
    "## Count unique values (a histogram)"
   ]
  },
  {
   "cell_type": "code",
   "execution_count": 62,
   "metadata": {
    "pycharm": {
     "is_executing": false
    }
   },
   "outputs": [
    {
     "data": {
      "text/plain": "54    25\n48    19\n52    17\n55    15\n49    15\n46    13\n53    12\n43    12\n50    12\n39    11\n41    11\n47    10\n56    10\n51     9\n58     9\n59     8\n37     8\n45     8\n44     7\n42     7\n40     7\n38     7\n36     5\n35     5\n57     5\n32     4\n34     4\n60     2\n33     2\n31     2\n65     2\n61     2\n62     2\n29     2\n30     1\n66     1\n63     1\n28     1\nName: age, dtype: int64"
     },
     "metadata": {},
     "output_type": "execute_result",
     "execution_count": 62
    }
   ],
   "source": [
    "data['age'].value_counts()"
   ]
  },
  {
   "cell_type": "code",
   "execution_count": 62,
   "metadata": {
    "pycharm": {
     "is_executing": false
    }
   },
   "outputs": [],
   "source": []
  }
 ],
 "metadata": {
  "@webio": {
   "lastCommId": null,
   "lastKernelId": null
  },
  "kernelspec": {
   "display_name": "Python 3",
   "language": "python",
   "name": "python3"
  },
  "language_info": {
   "codemirror_mode": {
    "name": "ipython",
    "version": 3
   },
   "file_extension": ".py",
   "mimetype": "text/x-python",
   "name": "python",
   "nbconvert_exporter": "python",
   "pygments_lexer": "ipython3",
   "version": "3.7.4"
  },
  "pycharm": {
   "stem_cell": {
    "cell_type": "raw",
    "source": [],
    "metadata": {
     "collapsed": false
    }
   }
  }
 },
 "nbformat": 4,
 "nbformat_minor": 2
}