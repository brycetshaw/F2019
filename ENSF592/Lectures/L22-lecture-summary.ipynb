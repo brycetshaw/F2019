{
 "cells": [
  {
   "cell_type": "markdown",
   "metadata": {},
   "source": [
    "## Agenda\n",
    "1. Final exam\n",
    "2. Review from tutorial\n",
    "  - Simple problems\n",
    "  - boiler plate code\n",
    "3. Random pattern\n",
    "4. Customer satisfaction web-app"
   ]
  },
  {
   "cell_type": "markdown",
   "metadata": {},
   "source": [
    "### 1. Final Exam\n",
    "\n",
    "Info: \n",
    "As posted, ICT 319, 320 on Dec 9 at 15:30.   \n",
    "Allowed: Use of books, notes, files on computer, **read** internet  \n",
    "**NOT** allowed: Any form of communication, file sharing, collaborative working services, write on the internet/email/text/etc.   \n",
    "\n",
    "Use your own laptop. Please contact me if you have concerns."
   ]
  },
  {
   "cell_type": "markdown",
   "metadata": {},
   "source": [
    "### 2. Review from tutorial\n",
    "\n",
    "Please have a look at `T05-python-problems-boilerplate.ipynb` in tutorials. We discussed solving simple problems to practice python. We also discussed preparing boilerplate code for different probelm types, web scraping was discussed as an example.\n"
   ]
  },
  {
   "cell_type": "markdown",
   "metadata": {},
   "source": [
    "### 3. Random pattern\n",
    "Discussed the random pattern:\n",
    "\n",
    "```\n",
    "Initialize an empty list\n",
    "\n",
    "repeat an attempt times, say 1000:\n",
    "    \n",
    "    Carry out attempt, involving some randomness and producing a value\n",
    "    Add value to emty list\n",
    "\n",
    "Report average value from list of values\n",
    "\n",
    "```\n",
    "\n",
    "Example is question 2 of sample final:\n",
    "\n",
    "The game yahtzee uses 5 dice. The goal is to roll the 5 dice and report scores in various categories. One category called 'yahtzee' worth 50 points is achieved when all 5 dice show the same number.\n",
    "\n",
    "Write a program that simulates 1000 attempts to get yahtzee, each attempt rolling five dice until all five have the same number. The program records the number of rolls needed in each attempt and print the average number of rolls after 1000 attempts.\n",
    "\n",
    "Note that the inverse of this average number will be close to the probability of getting yahtzee in one roll, namely \n",
    "$$\n",
    "p(yahtzee) = 6 * (1/6)^5 = 1/1296 \\approx 0.08\\%\n",
    "$$\n"
   ]
  },
  {
   "cell_type": "code",
   "execution_count": null,
   "metadata": {},
   "outputs": [],
   "source": [
    "import numpy as np"
   ]
  },
  {
   "cell_type": "code",
   "execution_count": null,
   "metadata": {},
   "outputs": [],
   "source": [
    "np.random.seed(453)\n",
    "\n",
    "l=[]\n",
    "for i in range(1000):\n",
    "    # attempt\n",
    "    dice = [1,2,3]\n",
    "    cnt = 0\n",
    "    while len(set(dice)) != 1:\n",
    "        dice = np.random.randint(1, 7, size=5)\n",
    "        cnt += 1\n",
    "\n",
    "    l.append(cnt)   \n",
    "\n",
    "print(sum(l)/len(l))"
   ]
  },
  {
   "cell_type": "markdown",
   "metadata": {},
   "source": [
    "### 4. Customer satisfaction web-app\n",
    "\n",
    "In last lecture, the question came up how we would get the satisfaction input from customers. Building a web-app (with flask) was mentioned as one idea. Another was using notebook widgets. Thank you again for this question.\n",
    "\n",
    "`notebook-buttons.ipynb` contains some sample code to explore widgets in jupyter notebooks. This would work, but what bugged me was that the code cell cannot be easily hidden (at least I did not find a satisfactory solution, comments welcome).\n",
    "\n",
    "`cherrypy_satisfaction_vote.py` uses CherryPy as the web framework to build a simple web-app. In essence, a HTML form contains buttons, each with a different value associated. A button push will cause a http-get to the cherrypy server triggering execution of a python method that will open a csv file as a dataframe, add a row with timestamp and satisfaction value (as well as sender IP) and save the dataframe as csv."
   ]
  },
  {
   "cell_type": "code",
   "execution_count": null,
   "metadata": {},
   "outputs": [],
   "source": []
  }
 ],
 "metadata": {
  "kernelspec": {
   "display_name": "Python 3",
   "language": "python",
   "name": "python3"
  },
  "language_info": {
   "codemirror_mode": {
    "name": "ipython",
    "version": 3
   },
   "file_extension": ".py",
   "mimetype": "text/x-python",
   "name": "python",
   "nbconvert_exporter": "python",
   "pygments_lexer": "ipython3",
   "version": "3.7.4"
  }
 },
 "nbformat": 4,
 "nbformat_minor": 2
}
