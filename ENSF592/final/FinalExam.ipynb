{
 "cells": [
  {
   "cell_type": "markdown",
   "metadata": {},
   "source": [
    "# Bryce Shaw \n",
    "# ENSF 592 Programming Fundamentals for Data Engineers - FINAL EXAM\n"
   ]
  },
  {
   "cell_type": "markdown",
   "metadata": {},
   "source": [
    "## Question 1: Functions (5pts)\n",
    "\n",
    "For large numbers, the natural logrithm `ln()`, logarithm to base e, can be approximated by multiplying the number of digits by 2.3. For example, ln(7654321) is approximately 7 * 2.3 = 16.1.\n",
    "\n",
    "Write a function: `ln_approx()` that takes a number as argument and retuns the approximate value of the logarithm as explained above. The function should handle both `int` and `float` arguments, and truncate floats prior to counting the digits. Other types, such as `str` do not need to be handeled, i.e. you can assume that the caller takes care of providing either `int` or `float` arguments.\n",
    "\n",
    "With this function, write a program that computes approximate and actual natural logarithms for 5 large numbers of your choice, testing both int and float, and prints results side by side for comparison. Actual logarithms are available in the `math` module, see `math.log()`."
   ]
  },
  {
   "cell_type": "code",
   "execution_count": 45,
   "outputs": [
    {
     "name": "stdout",
     "text": [
      "aproximation is 41.4, and the actual is 40.0\naproximation is 20.7, and the actual is 19.3\naproximation is 32.2, and the actual is 30.8\naproximation is 41.4, and the actual is 40.0\naproximation is 16.1, and the actual is 15.9\naproximation is 16.1, and the actual is 15.9\nINPUT INVALID\n"
     ],
     "output_type": "stream"
    }
   ],
   "source": [
    "import warnings\n",
    "warnings.filterwarnings('ignore')\n",
    "\n",
    "import math\n",
    "from pandas._libs import json\n",
    "\n",
    "def ln_aprox(number):\n",
    "    try:\n",
    "        number = float(number)\n",
    "        message = f\"aproximation is { round(2.3 * len(str( int(number) ) ), 1)}, and the actual is {round (math.log(float( number)), 1)}\"\n",
    "        return  message\n",
    "    except:\n",
    "        return \"INPUT INVALID\"\n",
    "    \n",
    "\n",
    "\n",
    "print(ln_aprox(234234234234879234))\n",
    "print( ln_aprox(234234234.234879234))\n",
    "print( ln_aprox(\"23423423423487.9234\"))\n",
    "print( ln_aprox(\"234234234234879234\"))\n",
    "print(ln_aprox(7654321))\n",
    "print(ln_aprox('7654321'))\n",
    "print(ln_aprox('765f4321'))"
   ],
   "metadata": {
    "collapsed": false,
    "pycharm": {
     "name": "#%%\n",
     "is_executing": false
    }
   }
  },
  {
   "cell_type": "markdown",
   "metadata": {},
   "source": [
    "## Question 2: Random (5pts)\n",
    "Ludo is a board game where players race their tokens to the finish line by rolling a six-sided die and advancing as many steps as the number on the die shows:  \n",
    "https://en.wikipedia.org/wiki/Ludo_(board_game)\n",
    "\n",
    "There are 57 steps to take for a token. We wonder how many rolls of dice are necessary on average to complete these 57 steps with one token? \n",
    "\n",
    "Write a program that simulates 1000 games, where for each game, a single six-sided die is rolled until the sum of the rolls reaches or exceeds 57 and the number of rolls are counted. The program prints the average number of rolls of the 1000 games.\n",
    "\n",
    "Note that the expected sum of n rolls is 3.5n. Therefore, the average obtained by the simulation should be close to 16.3 rolls.\n"
   ]
  },
  {
   "cell_type": "code",
   "execution_count": 47,
   "outputs": [
    {
     "name": "stdout",
     "text": [
      "The average number of rolls in 1000 games of ludo is 16.676\n"
     ],
     "output_type": "stream"
    }
   ],
   "source": [
    "import numpy as np\n",
    "np.random.seed(453)\n",
    "\n",
    "def ludo():\n",
    "    dice = 0\n",
    "    count = 0\n",
    "    while True:\n",
    "        count += 1\n",
    "        dice += np.random.randint(1,7)\n",
    "        \n",
    "        if dice >= 57 :\n",
    "            return count\n",
    "        \n",
    "def play_game():\n",
    "    l = []\n",
    "    for i in range(1000):\n",
    "        l.append(ludo())\n",
    "    \n",
    "    return sum(l) / len(l)\n",
    "\n",
    "print(f\"The average number of rolls in 1000 games of ludo is {play_game()}\")\n",
    "    \n"
   ],
   "metadata": {
    "collapsed": false,
    "pycharm": {
     "name": "#%%\n",
     "is_executing": false
    }
   }
  },
  {
   "cell_type": "markdown",
   "metadata": {},
   "source": [
    "\n",
    "\n",
    "## Question 3: Files and strings (8pts)\n",
    "In the file `email.txt` the content of an email are saved. Write a program that will read the contents of this file, builds a dictionary with the following keys: **from**, **to**, **date**, **subject**, and **body**. The values in the dictionary are the corresponding contents of the email for each key. Finally, the program saves this dictionary in json format to a file `email.json`."
   ]
  },
  {
   "cell_type": "code",
   "execution_count": 10,
   "outputs": [
    {
     "name": "stderr",
     "text": [
      "/home/bryce/anaconda3/lib/python3.7/site-packages/ipykernel_launcher.py:28: DeprecationWarning: Flags not at the start of the expression 'From: (?s)(.*?)@'\n"
     ],
     "output_type": "stream"
    },
    {
     "name": "stdout",
     "text": [
      "From: frank@\nWrote to file....\n{'from': 'frank@calgary.ca', 'subject': 'Notes from meeting', 'date': '27 November 2019 at 09:36:49 GMT-7', 'body': 'To: louise@calgary.ca\\n\\nHello,\\nLorem ipsum dolor sit amet, consectetur adipiscing elit, sed do eiusmod tempor incididunt ut labore et dolore magna aliqua. Ut enim ad minim veniam, quis nostrud exercitation ullamco laboris nisi ut aliquip ex ea commodo consequat. Duis aute irure dolor in reprehenderit in voluptate velit esse cillum dolore eu fugiat nulla pariatur. Excepteur sint occaecat cupidatat non proident, sunt in culpa qui officia deserunt mollit anim id est laborum.\\n\\nCheers,\\nFrank'}\n\nls...\n",
      " cfl_data.csv\t\t\t\t       FinalExam-SolutionTemplate.ipynb\r\n email.json\t\t\t\t       finalExam.zip\r\n email.txt\t\t\t\t      'Table of Contents.html'\r\n ENSF592-fall2019-FinalExam_approved_d2l.pdf\r\n"
     ],
     "output_type": "stream"
    }
   ],
   "source": [
    "import re\n",
    "import os\n",
    "import json\n",
    "\n",
    "def importfile(file):\n",
    "    local = os.getcwd()\n",
    "    fin = open(local + '/' + file, \"r\")\n",
    "    words = fin.read()\n",
    "    fin.close()\n",
    "    return words\n",
    "\n",
    "def parse_to_json(email):\n",
    "    contents = {'from': re.search(\"From: (.*)\", email)[0].replace(\"From: \",\"\"),\n",
    "                'subject': re.search(\"Subject: (.*)\", email)[0].replace(\"Subject: \",\"\"),\n",
    "                'date': re.search(\"Date: (.*)\", email)[0].replace(\"Date: \",\"\"),\n",
    "                'body':  '\\n'.join(email.split('\\n')[3:])\n",
    "                }\n",
    "    return contents\n",
    "\n",
    "def write_to_json(contents):\n",
    "    with open('email.json', 'w') as outfile:\n",
    "        json.dump(contents, outfile)\n",
    "    print(\"Wrote to file....\")\n",
    "    print(contents)\n",
    "    \n",
    "email_str = importfile('email.txt')\n",
    "\n",
    "print(re.search(\"From: (?s)(.*?)@\", email_str)[0])\n",
    "email_json = parse_to_json(email_str)\n",
    "write_to_json(email_json)\n",
    "\n",
    "print(\"\\nls...\")\n",
    "!ls"
   ],
   "metadata": {
    "collapsed": false,
    "pycharm": {
     "name": "#%%\n",
     "is_executing": false
    }
   }
  },
  {
   "cell_type": "markdown",
   "metadata": {},
   "source": [
    "## Question 4: Classes (5pts)\n",
    "Create a class named Citrus which has:\n",
    "- a `circumference` data variable which is a float (outer (un-peeled) circumference in cm)\n",
    "- and two class variables: `taste` that can be 'sweet', 'sour' or 'bitter', `peel_thickness` which is a float (thickness of the peel in cm).\n",
    "\n",
    "Create two classes named Orange and Lemon . These must be sub-classes of the Citrus\n",
    "class.\n",
    "\n",
    "Implement a `get_peeled_volume()` method in the parent class that uses the instance's circumference and the class' peel thickness to calculate the volume of the fruit assuming the shape is spherical.\n",
    "\n",
    "Use 0.7 and 0.3 for peel_thickness and 'sweet' and 'sour' for taste of Orange and Lemon,\n",
    "respectively. \n",
    "\n",
    "The fruit's circumference is an input given per instance, when first created. For example, \n",
    "```\n",
    "print(round(Orange(12).get_peeled_volume(), 2))\n",
    "```\n",
    "should print 7.42, and\n",
    "```\n",
    "print(round(Lemon(12).get_peeled_volume(), 2))\n",
    "```\n",
    "should print 17.48.\n",
    "\n",
    "Include these two print statements to confirm proper implementation of Orange and Lemon classes.\n",
    "\n",
    "The volume `V` of a sphere with radius `r` is given by:\n",
    "$$\n",
    "V = \\frac{4}{3}\\cdot \\pi \\cdot r^3\n",
    "$$\n",
    "\n",
    "The circumference `c` of a sphere with radius `r` is given by:\n",
    "$$\n",
    "c = 2\\pi\\cdot r\n",
    "$$\n",
    "\n",
    "Note that the peeled radius needed for calculating the peeled volume is `r-peel_thickness`."
   ]
  },
  {
   "cell_type": "code",
   "execution_count": 55,
   "outputs": [
    {
     "name": "stdout",
     "text": [
      "7.42\n17.48\n"
     ],
     "output_type": "stream"
    }
   ],
   "source": [
    "\n",
    "class Citrus:\n",
    "   \n",
    "    def __int__(self, circumference, taste, peel_thickness):\n",
    "        self.circumference = circumference\n",
    "        self.taste = taste\n",
    "        self.peel_thickness = peel_thickness\n",
    "        \n",
    "    def get_peeled_volume(self):\n",
    "        return   ( self.circumference / (2 * math.pi) - self.peel_thickness )**3 * 4 * math.pi /3\n",
    "        \n",
    "\n",
    "        \n",
    "class Orange(Citrus):\n",
    "   \n",
    "    def __init__(self, circumference):\n",
    "        Citrus.__int__(self, circumference, 'sweet', 0.7)\n",
    "       \n",
    "class Lemon(Citrus):\n",
    "   \n",
    "    def __init__(self, circumference):\n",
    "        Citrus.__int__(self, circumference, 'sour', 0.3)\n",
    "    \n",
    "\n",
    "print(round(Orange(12).get_peeled_volume(), 2))\n",
    "\n",
    "print(round(Lemon(12).get_peeled_volume(), 2))\n",
    "\n",
    "    \n",
    "    \n",
    "        "
   ],
   "metadata": {
    "collapsed": false,
    "pycharm": {
     "name": "#%%\n",
     "is_executing": false
    }
   }
  },
  {
   "cell_type": "markdown",
   "metadata": {},
   "source": [
    "## Question 5: Scraping (6pts)\n",
    "\n",
    "Using `BeautifulSoup` and `requests`, get the Picture of the Day's **image url** and **name**, from NASA Astronomy Picture of the Day webpage for September 15, 2017, the link below:\n",
    "\n",
    "https://apod.nasa.gov/apod/ap170915.html\n",
    "\n",
    "The name to extract is `100 Steps Forward` and the URL is https://apod.nasa.gov/apod/image/1709/ConjuncionViaLacteaHumanoVenusLuna_Jaramillo.jpg"
   ]
  },
  {
   "cell_type": "code",
   "execution_count": 53,
   "outputs": [
    {
     "name": "stdout",
     "text": [
      "100 Steps Forward\nhttps://apod.nasa.gov/apod/image/1709/ConjuncionViaLacteaHumanoVenusLuna_Jaramillo1024.jpg\n"
     ],
     "output_type": "stream"
    }
   ],
   "source": [
    "import requests\n",
    "import pandas as pd\n",
    "from bs4 import BeautifulSoup\n",
    "import re \n",
    "def pic_of_the_day(url):\n",
    "    \n",
    "    req = requests.get(url, verify=False).text\n",
    "    soup = BeautifulSoup(req, 'lxml')\n",
    "    \n",
    "    snip = re.search(\"- (.*)$\",  soup.title.string)[0][2:]\n",
    "    \n",
    "    src = soup.prettify()\n",
    "    img = soup.findAll('img')\n",
    "    return snip + '\\n' + 'https://apod.nasa.gov/apod/' + img[0]['src']\n",
    "\n",
    "url = 'https://apod.nasa.gov/apod/ap170915.html'\n",
    "print(pic_of_the_day(url))"
   ],
   "metadata": {
    "collapsed": false,
    "pycharm": {
     "name": "#%%\n",
     "is_executing": false
    }
   }
  },
  {
   "cell_type": "markdown",
   "metadata": {},
   "source": [
    "## Question 6: Data (6pts)\n",
    "Read the CFL games data (cfl_data.csv) input file with pandas and do the following:\n",
    "1. Remove all rows with missing data.\n",
    "2. Remove all rows from pre-season games\n",
    "3. Create a new column `TotalPts` containing the sum of `HomePts` and `AwayPts`\n",
    "4. Print the average `TotalPts` per week using Pandas groupby, sorted by `TotalPts` in descending order."
   ]
  },
  {
   "cell_type": "code",
   "execution_count": 1,
   "outputs": [],
   "source": [
    "import pandas as pd\n",
    "\n",
    "cfl = pd.read_csv('cfl_data.csv')\n"
   ],
   "metadata": {
    "collapsed": false,
    "pycharm": {
     "name": "#%%\n",
     "is_executing": false
    }
   }
  },
  {
   "cell_type": "code",
   "execution_count": 2,
   "outputs": [],
   "source": [
    "cfl = cfl.dropna()"
   ],
   "metadata": {
    "collapsed": false,
    "pycharm": {
     "name": "#%%\n",
     "is_executing": false
    }
   }
  },
  {
   "cell_type": "code",
   "execution_count": 3,
   "outputs": [],
   "source": [
    "cfl = cfl[cfl.Week.apply(lambda x: x.isnumeric())]"
   ],
   "metadata": {
    "collapsed": false,
    "pycharm": {
     "name": "#%%\n",
     "is_executing": false
    }
   }
  },
  {
   "cell_type": "code",
   "execution_count": 4,
   "outputs": [],
   "source": [
    "cfl['TotalPts'] = cfl[\"AwayPts\"] + cfl[\"HomePts\"]\n",
    "cfl['Week'] = pd.to_numeric(cfl['Week'], downcast='signed')"
   ],
   "metadata": {
    "collapsed": false,
    "pycharm": {
     "name": "#%%\n",
     "is_executing": false
    }
   }
  },
  {
   "cell_type": "code",
   "execution_count": 5,
   "outputs": [
    {
     "name": "stdout",
     "text": [
      "      AwayPts  HomePts  Attendance  TotalPts\nWeek                                        \n1       35.75    33.50    31461.50     69.25\n2       21.50    22.75    23824.25     44.25\n3       24.50    17.50    21447.50     42.00\n4       20.75    31.25    30657.50     52.00\n5       27.00    28.50    21913.50     55.50\n6       25.00    28.00    28931.00     53.00\n7       32.50    27.50    28852.50     60.00\n8       28.25    26.00    30475.75     54.25\n9       29.25    29.25    24657.00     58.50\n10      26.25    30.75    31638.50     57.00\n11      25.25    26.00    26041.50     51.25\n"
     ],
     "output_type": "stream"
    }
   ],
   "source": [
    "cfl.sort_values(by='Week')\n",
    "\n",
    "df_week_mean = cfl.groupby(by='Week').mean()\n",
    "print(df_week_mean)"
   ],
   "metadata": {
    "collapsed": false,
    "pycharm": {
     "name": "#%%\n",
     "is_executing": false
    }
   }
  },
  {
   "cell_type": "markdown",
   "metadata": {},
   "source": [
    "## Question 7: Visualization (5pts)\n",
    "Using the DataFrame prepared in Question 6, choose a plot to show progression of points as the season unfolds. Plot average `TotalPts`, `HomePts`, and `AwayPts` for each `Week` from week 1 to week 11 in a line-plot for example. Label your plot components.\n"
   ]
  },
  {
   "cell_type": "code",
   "execution_count": 7,
   "outputs": [
    {
     "data": {
      "text/plain": "<matplotlib.axes._subplots.AxesSubplot at 0x7f16430c8950>"
     },
     "metadata": {},
     "output_type": "execute_result",
     "execution_count": 7
    },
    {
     "data": {
      "text/plain": "<Figure size 432x288 with 1 Axes>",
      "image/png": "[encoded data removed]"
     },
     "metadata": {
      "needs_background": "light"
     },
     "output_type": "display_data"
    }
   ],
   "source": [
    "import seaborn as sns\n",
    "\n",
    "\n",
    "grouped = (df_week_mean.drop('Attendance', 1))\n",
    "grouped['Week'] = grouped.index\n",
    "grouped = pd.melt(grouped, id_vars=[\"Week\"], value_vars=['HomePts', 'AwayPts', 'TotalPts'])\n",
    "grouped.columns = [\"Week\", 'Location', 'Points']\n",
    "\n",
    "sns.pointplot(x='Week', y='Points', hue='Location',  data=grouped)"
   ],
   "metadata": {
    "collapsed": false,
    "pycharm": {
     "name": "#%%\n",
     "is_executing": false
    }
   }
  },
  {
   "cell_type": "code",
   "execution_count": 20,
   "outputs": [
    {
     "name": "stderr",
     "text": [
      "/home/bryce/anaconda3/lib/python3.7/site-packages/urllib3/connectionpool.py:847: InsecureRequestWarning: Unverified HTTPS request is being made. Adding certificate verification is strongly advised. See: https://urllib3.readthedocs.io/en/latest/advanced-usage.html#ssl-warnings\n  InsecureRequestWarning)\n"
     ],
     "output_type": "stream"
    },
    {
     "name": "stdout",
     "text": [
      "https://semi-rad.com/2019/12/friday-inspiration-vol-211/\nhttps://semi-rad.com/2019/11/friday-inspiration-vol-210/\nhttps://semi-rad.com/2019/11/friday-inspiration-vol-209/\nhttps://semi-rad.com/2019/11/friday-inspiration-vol-208/\nhttps://semi-rad.com/2019/11/friday-inspiration-vol-207/\nhttps://semi-rad.com/2019/11/friday-inspiration-vol-206/\nhttps://semi-rad.com/2019/10/friday-inspiration-vol-205/\nhttps://semi-rad.com/2019/10/friday-inspiration-vol-203/\nhttps://semi-rad.com/2019/10/friday-inspiration-vol-202/\nhttps://semi-rad.com/2019/09/friday-inspiration-vol-201/\nhttps://semi-rad.com/2019/09/friday-inspiration-vol-200/\nhttps://semi-rad.com/2019/09/friday-inspiration-vol-199/\nhttps://semi-rad.com/2019/09/friday-inspiration-vol-198/\nhttps://semi-rad.com/2019/08/friday-inspiration-vol-197/\nhttps://semi-rad.com/2019/08/friday-inspiration-vol-196/\nhttps://semi-rad.com/2019/08/friday-inspiration-vol-195/\nhttps://semi-rad.com/2019/08/friday-inspiration-vol-194/\nhttps://semi-rad.com/2019/08/friday-inspiration-vol-193/\nhttps://semi-rad.com/2019/07/friday-inspiration-vol-192/\nhttps://semi-rad.com/2019/07/friday-inspiration-vol-191/\nhttps://semi-rad.com/2019/07/friday-inspiration-vol-190/\nhttps://semi-rad.com/2019/07/friday-inspiration-vol-189/\nhttps://semi-rad.com/2019/06/friday-inspiration-vol-188/\nhttps://semi-rad.com/2019/06/friday-inspiration-vol-187/\nhttps://semi-rad.com/2019/06/friday-inspiration-vol-186/\nhttps://semi-rad.com/2019/06/friday-inspiration-vol-185/\nhttps://semi-rad.com/2019/05/friday-inspiration-vol-184/\nhttps://semi-rad.com/2019/12/friday-inspiration-vol-211/\nhttps://semi-rad.com/2019/11/friday-inspiration-vol-210/\nhttps://semi-rad.com/2019/11/friday-inspiration-vol-209/\nhttps://semi-rad.com/2019/11/friday-inspiration-vol-208/\nhttps://semi-rad.com/2019/11/friday-inspiration-vol-207/\nhttps://semi-rad.com/2019/11/friday-inspiration-vol-206/\nhttps://semi-rad.com/2019/10/friday-inspiration-vol-205/\nhttps://semi-rad.com/2019/10/friday-inspiration-vol-203/\nhttps://semi-rad.com/2019/10/friday-inspiration-vol-202/\nhttps://semi-rad.com/2019/09/friday-inspiration-vol-201/\nhttps://semi-rad.com/2019/09/friday-inspiration-vol-200/\nhttps://semi-rad.com/2019/09/friday-inspiration-vol-199/\nhttps://semi-rad.com/2019/09/friday-inspiration-vol-198/\nhttps://semi-rad.com/2019/08/friday-inspiration-vol-197/\nhttps://semi-rad.com/2019/08/friday-inspiration-vol-196/\nhttps://semi-rad.com/2019/08/friday-inspiration-vol-195/\nhttps://semi-rad.com/2019/08/friday-inspiration-vol-194/\nhttps://semi-rad.com/2019/08/friday-inspiration-vol-193/\nhttps://semi-rad.com/2019/07/friday-inspiration-vol-192/\nhttps://semi-rad.com/2019/07/friday-inspiration-vol-191/\nhttps://semi-rad.com/2019/07/friday-inspiration-vol-190/\nhttps://semi-rad.com/2019/07/friday-inspiration-vol-189/\nhttps://semi-rad.com/2019/06/friday-inspiration-vol-188/\nhttps://semi-rad.com/2019/06/friday-inspiration-vol-187/\nhttps://semi-rad.com/2019/06/friday-inspiration-vol-186/\nhttps://semi-rad.com/2019/06/friday-inspiration-vol-185/\nhttps://semi-rad.com/2019/05/friday-inspiration-vol-184/\nhttps://semi-rad.com/2019/12/friday-inspiration-vol-211/\nhttps://semi-rad.com/2019/11/friday-inspiration-vol-210/\nhttps://semi-rad.com/2019/11/friday-inspiration-vol-209/\nhttps://semi-rad.com/2019/11/friday-inspiration-vol-208/\nhttps://semi-rad.com/2019/11/friday-inspiration-vol-207/\nhttps://semi-rad.com/2019/11/friday-inspiration-vol-206/\nhttps://semi-rad.com/2019/10/friday-inspiration-vol-205/\nhttps://semi-rad.com/2019/10/friday-inspiration-vol-203/\nhttps://semi-rad.com/2019/10/friday-inspiration-vol-202/\nhttps://semi-rad.com/2019/09/friday-inspiration-vol-201/\nhttps://semi-rad.com/2019/09/friday-inspiration-vol-200/\nhttps://semi-rad.com/2019/09/friday-inspiration-vol-199/\nhttps://semi-rad.com/2019/09/friday-inspiration-vol-198/\nhttps://semi-rad.com/2019/08/friday-inspiration-vol-197/\nhttps://semi-rad.com/2019/08/friday-inspiration-vol-196/\nhttps://semi-rad.com/2019/08/friday-inspiration-vol-195/\nhttps://semi-rad.com/2019/08/friday-inspiration-vol-194/\nhttps://semi-rad.com/2019/08/friday-inspiration-vol-193/\nhttps://semi-rad.com/2019/07/friday-inspiration-vol-192/\nhttps://semi-rad.com/2019/07/friday-inspiration-vol-191/\nhttps://semi-rad.com/2019/07/friday-inspiration-vol-190/\nhttps://semi-rad.com/2019/07/friday-inspiration-vol-189/\nhttps://semi-rad.com/2019/06/friday-inspiration-vol-188/\nhttps://semi-rad.com/2019/06/friday-inspiration-vol-187/\nhttps://semi-rad.com/2019/06/friday-inspiration-vol-186/\nhttps://semi-rad.com/2019/06/friday-inspiration-vol-185/\nhttps://semi-rad.com/2019/05/friday-inspiration-vol-184/\nhttps://semi-rad.com/2019/12/friday-inspiration-vol-211/\nhttps://semi-rad.com/2019/11/friday-inspiration-vol-210/\nhttps://semi-rad.com/2019/11/friday-inspiration-vol-209/\nhttps://semi-rad.com/2019/11/friday-inspiration-vol-208/\nhttps://semi-rad.com/2019/11/friday-inspiration-vol-207/\nhttps://semi-rad.com/2019/11/friday-inspiration-vol-206/\nhttps://semi-rad.com/2019/10/friday-inspiration-vol-205/\nhttps://semi-rad.com/2019/10/friday-inspiration-vol-203/\nhttps://semi-rad.com/2019/10/friday-inspiration-vol-202/\nhttps://semi-rad.com/2019/09/friday-inspiration-vol-201/\nhttps://semi-rad.com/2019/09/friday-inspiration-vol-200/\nhttps://semi-rad.com/2019/09/friday-inspiration-vol-199/\nhttps://semi-rad.com/2019/09/friday-inspiration-vol-198/\nhttps://semi-rad.com/2019/08/friday-inspiration-vol-197/\nhttps://semi-rad.com/2019/08/friday-inspiration-vol-196/\nhttps://semi-rad.com/2019/08/friday-inspiration-vol-195/\nhttps://semi-rad.com/2019/08/friday-inspiration-vol-194/\nhttps://semi-rad.com/2019/08/friday-inspiration-vol-193/\nhttps://semi-rad.com/2019/07/friday-inspiration-vol-192/\nhttps://semi-rad.com/2019/07/friday-inspiration-vol-191/\nhttps://semi-rad.com/2019/07/friday-inspiration-vol-190/\nhttps://semi-rad.com/2019/07/friday-inspiration-vol-189/\nhttps://semi-rad.com/2019/06/friday-inspiration-vol-188/\nhttps://semi-rad.com/2019/06/friday-inspiration-vol-187/\nhttps://semi-rad.com/2019/06/friday-inspiration-vol-186/\nhttps://semi-rad.com/2019/06/friday-inspiration-vol-185/\nhttps://semi-rad.com/2019/05/friday-inspiration-vol-184/\nhttps://semi-rad.com/2019/12/friday-inspiration-vol-211/\nhttps://semi-rad.com/2019/11/friday-inspiration-vol-210/\nhttps://semi-rad.com/2019/11/friday-inspiration-vol-209/\nhttps://semi-rad.com/2019/11/friday-inspiration-vol-208/\nhttps://semi-rad.com/2019/11/friday-inspiration-vol-207/\nhttps://semi-rad.com/2019/11/friday-inspiration-vol-206/\nhttps://semi-rad.com/2019/10/friday-inspiration-vol-205/\nhttps://semi-rad.com/2019/10/friday-inspiration-vol-203/\nhttps://semi-rad.com/2019/10/friday-inspiration-vol-202/\nhttps://semi-rad.com/2019/09/friday-inspiration-vol-201/\nhttps://semi-rad.com/2019/09/friday-inspiration-vol-200/\nhttps://semi-rad.com/2019/09/friday-inspiration-vol-199/\nhttps://semi-rad.com/2019/09/friday-inspiration-vol-198/\nhttps://semi-rad.com/2019/08/friday-inspiration-vol-197/\nhttps://semi-rad.com/2019/08/friday-inspiration-vol-196/\nhttps://semi-rad.com/2019/08/friday-inspiration-vol-195/\nhttps://semi-rad.com/2019/08/friday-inspiration-vol-194/\nhttps://semi-rad.com/2019/08/friday-inspiration-vol-193/\nhttps://semi-rad.com/2019/07/friday-inspiration-vol-192/\nhttps://semi-rad.com/2019/07/friday-inspiration-vol-191/\nhttps://semi-rad.com/2019/07/friday-inspiration-vol-190/\nhttps://semi-rad.com/2019/07/friday-inspiration-vol-189/\nhttps://semi-rad.com/2019/06/friday-inspiration-vol-188/\nhttps://semi-rad.com/2019/06/friday-inspiration-vol-187/\nhttps://semi-rad.com/2019/06/friday-inspiration-vol-186/\nhttps://semi-rad.com/2019/06/friday-inspiration-vol-185/\nhttps://semi-rad.com/2019/05/friday-inspiration-vol-184/\nhttps://semi-rad.com/2019/12/friday-inspiration-vol-211/\nhttps://semi-rad.com/2019/11/friday-inspiration-vol-210/\nhttps://semi-rad.com/2019/11/friday-inspiration-vol-209/\nhttps://semi-rad.com/2019/11/friday-inspiration-vol-208/\nhttps://semi-rad.com/2019/11/friday-inspiration-vol-207/\nhttps://semi-rad.com/2019/11/friday-inspiration-vol-206/\nhttps://semi-rad.com/2019/10/friday-inspiration-vol-205/\nhttps://semi-rad.com/2019/10/friday-inspiration-vol-203/\nhttps://semi-rad.com/2019/10/friday-inspiration-vol-202/\nhttps://semi-rad.com/2019/09/friday-inspiration-vol-201/\nhttps://semi-rad.com/2019/09/friday-inspiration-vol-200/\nhttps://semi-rad.com/2019/09/friday-inspiration-vol-199/\nhttps://semi-rad.com/2019/09/friday-inspiration-vol-198/\nhttps://semi-rad.com/2019/08/friday-inspiration-vol-197/\nhttps://semi-rad.com/2019/08/friday-inspiration-vol-196/\nhttps://semi-rad.com/2019/08/friday-inspiration-vol-195/\nhttps://semi-rad.com/2019/08/friday-inspiration-vol-194/\nhttps://semi-rad.com/2019/08/friday-inspiration-vol-193/\nhttps://semi-rad.com/2019/07/friday-inspiration-vol-192/\nhttps://semi-rad.com/2019/07/friday-inspiration-vol-191/\nhttps://semi-rad.com/2019/07/friday-inspiration-vol-190/\nhttps://semi-rad.com/2019/07/friday-inspiration-vol-189/\nhttps://semi-rad.com/2019/06/friday-inspiration-vol-188/\nhttps://semi-rad.com/2019/06/friday-inspiration-vol-187/\nhttps://semi-rad.com/2019/06/friday-inspiration-vol-186/\nhttps://semi-rad.com/2019/06/friday-inspiration-vol-185/\nhttps://semi-rad.com/2019/05/friday-inspiration-vol-184/\nhttps://semi-rad.com/2019/12/friday-inspiration-vol-211/\nhttps://semi-rad.com/2019/11/friday-inspiration-vol-210/\nhttps://semi-rad.com/2019/11/friday-inspiration-vol-209/\nhttps://semi-rad.com/2019/11/friday-inspiration-vol-208/\nhttps://semi-rad.com/2019/11/friday-inspiration-vol-207/\nhttps://semi-rad.com/2019/11/friday-inspiration-vol-206/\nhttps://semi-rad.com/2019/10/friday-inspiration-vol-205/\nhttps://semi-rad.com/2019/10/friday-inspiration-vol-203/\nhttps://semi-rad.com/2019/10/friday-inspiration-vol-202/\nhttps://semi-rad.com/2019/09/friday-inspiration-vol-201/\nhttps://semi-rad.com/2019/09/friday-inspiration-vol-200/\nhttps://semi-rad.com/2019/09/friday-inspiration-vol-199/\nhttps://semi-rad.com/2019/09/friday-inspiration-vol-198/\nhttps://semi-rad.com/2019/08/friday-inspiration-vol-197/\nhttps://semi-rad.com/2019/08/friday-inspiration-vol-196/\nhttps://semi-rad.com/2019/08/friday-inspiration-vol-195/\nhttps://semi-rad.com/2019/08/friday-inspiration-vol-194/\nhttps://semi-rad.com/2019/08/friday-inspiration-vol-193/\nhttps://semi-rad.com/2019/07/friday-inspiration-vol-192/\nhttps://semi-rad.com/2019/07/friday-inspiration-vol-191/\nhttps://semi-rad.com/2019/07/friday-inspiration-vol-190/\nhttps://semi-rad.com/2019/07/friday-inspiration-vol-189/\nhttps://semi-rad.com/2019/06/friday-inspiration-vol-188/\nhttps://semi-rad.com/2019/06/friday-inspiration-vol-187/\nhttps://semi-rad.com/2019/06/friday-inspiration-vol-186/\nhttps://semi-rad.com/2019/06/friday-inspiration-vol-185/\nhttps://semi-rad.com/2019/05/friday-inspiration-vol-184/\nhttps://semi-rad.com/2019/12/friday-inspiration-vol-211/\nhttps://semi-rad.com/2019/11/friday-inspiration-vol-210/\nhttps://semi-rad.com/2019/11/friday-inspiration-vol-209/\nhttps://semi-rad.com/2019/11/friday-inspiration-vol-208/\nhttps://semi-rad.com/2019/11/friday-inspiration-vol-207/\nhttps://semi-rad.com/2019/11/friday-inspiration-vol-206/\nhttps://semi-rad.com/2019/10/friday-inspiration-vol-205/\nhttps://semi-rad.com/2019/10/friday-inspiration-vol-203/\nhttps://semi-rad.com/2019/10/friday-inspiration-vol-202/\nhttps://semi-rad.com/2019/09/friday-inspiration-vol-201/\nhttps://semi-rad.com/2019/09/friday-inspiration-vol-200/\nhttps://semi-rad.com/2019/09/friday-inspiration-vol-199/\nhttps://semi-rad.com/2019/09/friday-inspiration-vol-198/\nhttps://semi-rad.com/2019/08/friday-inspiration-vol-197/\nhttps://semi-rad.com/2019/08/friday-inspiration-vol-196/\nhttps://semi-rad.com/2019/08/friday-inspiration-vol-195/\nhttps://semi-rad.com/2019/08/friday-inspiration-vol-194/\nhttps://semi-rad.com/2019/08/friday-inspiration-vol-193/\nhttps://semi-rad.com/2019/07/friday-inspiration-vol-192/\nhttps://semi-rad.com/2019/07/friday-inspiration-vol-191/\nhttps://semi-rad.com/2019/07/friday-inspiration-vol-190/\nhttps://semi-rad.com/2019/07/friday-inspiration-vol-189/\nhttps://semi-rad.com/2019/06/friday-inspiration-vol-188/\nhttps://semi-rad.com/2019/06/friday-inspiration-vol-187/\nhttps://semi-rad.com/2019/06/friday-inspiration-vol-186/\nhttps://semi-rad.com/2019/06/friday-inspiration-vol-185/\nhttps://semi-rad.com/2019/05/friday-inspiration-vol-184/\nhttps://semi-rad.com/2019/12/friday-inspiration-vol-211/\nhttps://semi-rad.com/2019/11/friday-inspiration-vol-210/\nhttps://semi-rad.com/2019/11/friday-inspiration-vol-209/\nhttps://semi-rad.com/2019/11/friday-inspiration-vol-208/\nhttps://semi-rad.com/2019/11/friday-inspiration-vol-207/\nhttps://semi-rad.com/2019/11/friday-inspiration-vol-206/\nhttps://semi-rad.com/2019/10/friday-inspiration-vol-205/\nhttps://semi-rad.com/2019/10/friday-inspiration-vol-203/\nhttps://semi-rad.com/2019/10/friday-inspiration-vol-202/\nhttps://semi-rad.com/2019/09/friday-inspiration-vol-201/\nhttps://semi-rad.com/2019/09/friday-inspiration-vol-200/\nhttps://semi-rad.com/2019/09/friday-inspiration-vol-199/\nhttps://semi-rad.com/2019/09/friday-inspiration-vol-198/\nhttps://semi-rad.com/2019/08/friday-inspiration-vol-197/\nhttps://semi-rad.com/2019/08/friday-inspiration-vol-196/\nhttps://semi-rad.com/2019/08/friday-inspiration-vol-195/\nhttps://semi-rad.com/2019/08/friday-inspiration-vol-194/\nhttps://semi-rad.com/2019/08/friday-inspiration-vol-193/\nhttps://semi-rad.com/2019/07/friday-inspiration-vol-192/\nhttps://semi-rad.com/2019/07/friday-inspiration-vol-191/\nhttps://semi-rad.com/2019/07/friday-inspiration-vol-190/\nhttps://semi-rad.com/2019/07/friday-inspiration-vol-189/\nhttps://semi-rad.com/2019/06/friday-inspiration-vol-188/\nhttps://semi-rad.com/2019/06/friday-inspiration-vol-187/\nhttps://semi-rad.com/2019/06/friday-inspiration-vol-186/\nhttps://semi-rad.com/2019/06/friday-inspiration-vol-185/\nhttps://semi-rad.com/2019/05/friday-inspiration-vol-184/\nhttps://semi-rad.com/2019/12/friday-inspiration-vol-211/\nhttps://semi-rad.com/2019/11/friday-inspiration-vol-210/\nhttps://semi-rad.com/2019/11/friday-inspiration-vol-209/\nhttps://semi-rad.com/2019/11/friday-inspiration-vol-208/\nhttps://semi-rad.com/2019/11/friday-inspiration-vol-207/\nhttps://semi-rad.com/2019/11/friday-inspiration-vol-206/\nhttps://semi-rad.com/2019/10/friday-inspiration-vol-205/\nhttps://semi-rad.com/2019/10/friday-inspiration-vol-203/\nhttps://semi-rad.com/2019/10/friday-inspiration-vol-202/\nhttps://semi-rad.com/2019/09/friday-inspiration-vol-201/\nhttps://semi-rad.com/2019/09/friday-inspiration-vol-200/\nhttps://semi-rad.com/2019/09/friday-inspiration-vol-199/\nhttps://semi-rad.com/2019/09/friday-inspiration-vol-198/\nhttps://semi-rad.com/2019/08/friday-inspiration-vol-197/\nhttps://semi-rad.com/2019/08/friday-inspiration-vol-196/\nhttps://semi-rad.com/2019/08/friday-inspiration-vol-195/\nhttps://semi-rad.com/2019/08/friday-inspiration-vol-194/\nhttps://semi-rad.com/2019/08/friday-inspiration-vol-193/\nhttps://semi-rad.com/2019/07/friday-inspiration-vol-192/\nhttps://semi-rad.com/2019/07/friday-inspiration-vol-191/\nhttps://semi-rad.com/2019/07/friday-inspiration-vol-190/\nhttps://semi-rad.com/2019/07/friday-inspiration-vol-189/\nhttps://semi-rad.com/2019/06/friday-inspiration-vol-188/\nhttps://semi-rad.com/2019/06/friday-inspiration-vol-187/\nhttps://semi-rad.com/2019/06/friday-inspiration-vol-186/\nhttps://semi-rad.com/2019/06/friday-inspiration-vol-185/\nhttps://semi-rad.com/2019/05/friday-inspiration-vol-184/\n"
     ],
     "output_type": "stream"
    }
   ],
   "source": [
    "\n",
    "\n",
    "\n",
    "import requests\n",
    "import pandas as pd\n",
    "from bs4 import BeautifulSoup\n",
    "import re\n",
    "\n",
    "url = 'https://semi-rad.com/category/friday-inspiration/'\n",
    "req = requests.get(url, verify=False).text\n",
    "soup = BeautifulSoup(req, 'lxml')\n",
    "snip = soup.findAll('div', 'social-sharing')\n",
    "for i in range(len(snip)):\n",
    "    print(snip[i]['data-permalink'])\n",
    "\n",
    "\n",
    "for page in range(9):\n",
    "    url = f'https://semi-rad.com/category/friday-inspiration/page/{page}/'\n",
    "    snip = soup.findAll('div', 'social-sharing')\n",
    "    for i in range(len(snip)):\n",
    "        print(snip[i]['data-permalink'])\n",
    "\n",
    "# print(snip)\n"
   ],
   "metadata": {
    "collapsed": false,
    "pycharm": {
     "name": "#%%\n",
     "is_executing": false
    }
   }
  },
  {
   "cell_type": "code",
   "execution_count": null,
   "outputs": [],
   "source": [
    "\n"
   ],
   "metadata": {
    "collapsed": false,
    "pycharm": {
     "name": "#%%\n"
    }
   }
  }
 ],
 "metadata": {
  "@webio": {
   "lastCommId": null,
   "lastKernelId": null
  },
  "kernelspec": {
   "display_name": "Python 3",
   "language": "python",
   "name": "python3"
  },
  "language_info": {
   "codemirror_mode": {
    "name": "ipython",
    "version": 3
   },
   "file_extension": ".py",
   "mimetype": "text/x-python",
   "name": "python",
   "nbconvert_exporter": "python",
   "pygments_lexer": "ipython3",
   "version": "3.7.4"
  },
  "pycharm": {
   "stem_cell": {
    "cell_type": "raw",
    "source": [],
    "metadata": {
     "collapsed": false
    }
   }
  }
 },
 "nbformat": 4,
 "nbformat_minor": 2
}